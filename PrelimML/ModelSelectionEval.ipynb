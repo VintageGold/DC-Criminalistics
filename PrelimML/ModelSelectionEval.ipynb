{
 "cells": [
  {
   "cell_type": "code",
   "execution_count": 4,
   "metadata": {
    "collapsed": true
   },
   "outputs": [],
   "source": [
    "%matplotlib inline"
   ]
  },
  {
   "cell_type": "code",
   "execution_count": 22,
   "metadata": {
    "collapsed": true
   },
   "outputs": [],
   "source": [
    "import warnings\n",
    "warnings.filterwarnings('ignore')"
   ]
  },
  {
   "cell_type": "code",
   "execution_count": 23,
   "metadata": {
    "collapsed": true
   },
   "outputs": [],
   "source": [
    "import sqlite3\n",
    "import numpy as np\n",
    "import scipy as sp\n",
    "import pandas as pd\n",
    "import matplotlib.pyplot as plt\n",
    "from scipy.stats import spearmanr\n",
    "from pandas.plotting import scatter_matrix\n",
    "from sklearn import preprocessing\n",
    "from sklearn.naive_bayes import MultinomialNB\n",
    "from sklearn.model_selection import train_test_split\n",
    "from sklearn.ensemble import RandomForestRegressor\n",
    "from sklearn.ensemble import RandomForestClassifier\n",
    "from sklearn.svm import OneClassSVM\n",
    "from sklearn.metrics import r2_score\n",
    "from sklearn.metrics import mean_squared_error as mse\n",
    "from sklearn.metrics import accuracy_score\n",
    "from sklearn.metrics import confusion_matrix\n",
    "from sklearn.neighbors import KNeighborsClassifier\n",
    "from sklearn.metrics import f1_score"
   ]
  },
  {
   "cell_type": "code",
   "execution_count": 6,
   "metadata": {
    "collapsed": true
   },
   "outputs": [],
   "source": [
    "import pickle\n",
    "\n",
    "with open('Pickle/y1.pickle', 'rb') as f:\n",
    "    y1 = pickle.load(f)\n",
    "    \n",
    "with open('Pickle/y2.pickle', 'rb') as f:\n",
    "    y2 = pickle.load(f)\n",
    "\n",
    "X = pd.read_pickle('Pickle/X1_ML.pickle')\n",
    "\n",
    "Xs = pd.read_pickle('Pickle/X1_Scaled_ML.pickle')"
   ]
  },
  {
   "cell_type": "code",
   "execution_count": 10,
   "metadata": {
    "collapsed": true
   },
   "outputs": [],
   "source": [
    "X2 = pd.read_pickle('Pickle/X2_ML.pickle')\n",
    "\n",
    "X2s = pd.read_pickle('Pickle/X2_Scaled_ML.pickle')"
   ]
  },
  {
   "cell_type": "code",
   "execution_count": 17,
   "metadata": {
    "collapsed": true
   },
   "outputs": [],
   "source": [
    "X2_test = pd.read_pickle('Pickle/X2_Test.pickle')"
   ]
  },
  {
   "cell_type": "code",
   "execution_count": 31,
   "metadata": {},
   "outputs": [
    {
     "data": {
      "text/html": [
       "<div>\n",
       "<style scoped>\n",
       "    .dataframe tbody tr th:only-of-type {\n",
       "        vertical-align: middle;\n",
       "    }\n",
       "\n",
       "    .dataframe tbody tr th {\n",
       "        vertical-align: top;\n",
       "    }\n",
       "\n",
       "    .dataframe thead th {\n",
       "        text-align: right;\n",
       "    }\n",
       "</style>\n",
       "<table border=\"1\" class=\"dataframe\">\n",
       "  <thead>\n",
       "    <tr style=\"text-align: right;\">\n",
       "      <th></th>\n",
       "      <th>BlockGroupFreq</th>\n",
       "      <th>temperature</th>\n",
       "      <th>tod_Early Morning</th>\n",
       "      <th>tod_Morning</th>\n",
       "      <th>tod_Afternoon</th>\n",
       "      <th>tod_Evening</th>\n",
       "      <th>tod_Night</th>\n",
       "      <th>tod_Midnight</th>\n",
       "      <th>uv_index</th>\n",
       "    </tr>\n",
       "  </thead>\n",
       "  <tbody>\n",
       "    <tr>\n",
       "      <th>0</th>\n",
       "      <td>-0.890226</td>\n",
       "      <td>-0.904051</td>\n",
       "      <td>4.795959</td>\n",
       "      <td>-0.524598</td>\n",
       "      <td>-0.718111</td>\n",
       "      <td>-0.466254</td>\n",
       "      <td>-0.400282</td>\n",
       "      <td>-0.306005</td>\n",
       "      <td>-0.720425</td>\n",
       "    </tr>\n",
       "    <tr>\n",
       "      <th>1</th>\n",
       "      <td>-0.890226</td>\n",
       "      <td>-0.174531</td>\n",
       "      <td>-0.208509</td>\n",
       "      <td>-0.524598</td>\n",
       "      <td>-0.718111</td>\n",
       "      <td>-0.466254</td>\n",
       "      <td>2.498240</td>\n",
       "      <td>-0.306005</td>\n",
       "      <td>-0.720425</td>\n",
       "    </tr>\n",
       "    <tr>\n",
       "      <th>2</th>\n",
       "      <td>-0.890226</td>\n",
       "      <td>-1.571122</td>\n",
       "      <td>-0.208509</td>\n",
       "      <td>-0.524598</td>\n",
       "      <td>-0.718111</td>\n",
       "      <td>2.144754</td>\n",
       "      <td>-0.400282</td>\n",
       "      <td>-0.306005</td>\n",
       "      <td>-0.720425</td>\n",
       "    </tr>\n",
       "    <tr>\n",
       "      <th>3</th>\n",
       "      <td>-0.890226</td>\n",
       "      <td>-0.936979</td>\n",
       "      <td>-0.208509</td>\n",
       "      <td>-0.524598</td>\n",
       "      <td>1.392542</td>\n",
       "      <td>-0.466254</td>\n",
       "      <td>-0.400282</td>\n",
       "      <td>-0.306005</td>\n",
       "      <td>0.999489</td>\n",
       "    </tr>\n",
       "    <tr>\n",
       "      <th>4</th>\n",
       "      <td>-0.890226</td>\n",
       "      <td>-0.686615</td>\n",
       "      <td>-0.208509</td>\n",
       "      <td>-0.524598</td>\n",
       "      <td>1.392542</td>\n",
       "      <td>-0.466254</td>\n",
       "      <td>-0.400282</td>\n",
       "      <td>-0.306005</td>\n",
       "      <td>-0.290447</td>\n",
       "    </tr>\n",
       "  </tbody>\n",
       "</table>\n",
       "</div>"
      ],
      "text/plain": [
       "   BlockGroupFreq  temperature  tod_Early Morning  tod_Morning  tod_Afternoon  \\\n",
       "0       -0.890226    -0.904051           4.795959    -0.524598      -0.718111   \n",
       "1       -0.890226    -0.174531          -0.208509    -0.524598      -0.718111   \n",
       "2       -0.890226    -1.571122          -0.208509    -0.524598      -0.718111   \n",
       "3       -0.890226    -0.936979          -0.208509    -0.524598       1.392542   \n",
       "4       -0.890226    -0.686615          -0.208509    -0.524598       1.392542   \n",
       "\n",
       "   tod_Evening  tod_Night  tod_Midnight  uv_index  \n",
       "0    -0.466254  -0.400282     -0.306005 -0.720425  \n",
       "1    -0.466254   2.498240     -0.306005 -0.720425  \n",
       "2     2.144754  -0.400282     -0.306005 -0.720425  \n",
       "3    -0.466254  -0.400282     -0.306005  0.999489  \n",
       "4    -0.466254  -0.400282     -0.306005 -0.290447  "
      ]
     },
     "execution_count": 31,
     "metadata": {},
     "output_type": "execute_result"
    }
   ],
   "source": [
    "X2_test.head()"
   ]
  },
  {
   "cell_type": "code",
   "execution_count": 32,
   "metadata": {
    "collapsed": true
   },
   "outputs": [],
   "source": [
    "X2_testd = X2_test.drop(columns = ['uv_index'])"
   ]
  },
  {
   "cell_type": "code",
   "execution_count": 17,
   "metadata": {},
   "outputs": [
    {
     "data": {
      "text/plain": [
       "array([80.64516129])"
      ]
     },
     "execution_count": 17,
     "metadata": {},
     "output_type": "execute_result"
    }
   ],
   "source": [
    "y1[0]"
   ]
  },
  {
   "cell_type": "code",
   "execution_count": 12,
   "metadata": {},
   "outputs": [
    {
     "data": {
      "text/plain": [
       "0    Med\n",
       "1    Med\n",
       "2    Med\n",
       "3    Med\n",
       "4    Med\n",
       "Name: CrimeCategory, dtype: object"
      ]
     },
     "execution_count": 12,
     "metadata": {},
     "output_type": "execute_result"
    }
   ],
   "source": [
    "y2.head()"
   ]
  },
  {
   "cell_type": "code",
   "execution_count": 6,
   "metadata": {},
   "outputs": [
    {
     "data": {
      "text/html": [
       "<div>\n",
       "<style scoped>\n",
       "    .dataframe tbody tr th:only-of-type {\n",
       "        vertical-align: middle;\n",
       "    }\n",
       "\n",
       "    .dataframe tbody tr th {\n",
       "        vertical-align: top;\n",
       "    }\n",
       "\n",
       "    .dataframe thead th {\n",
       "        text-align: right;\n",
       "    }\n",
       "</style>\n",
       "<table border=\"1\" class=\"dataframe\">\n",
       "  <thead>\n",
       "    <tr style=\"text-align: right;\">\n",
       "      <th></th>\n",
       "      <th>cloud_cover</th>\n",
       "      <th>dew_point</th>\n",
       "      <th>humidity</th>\n",
       "      <th>percip_intensity</th>\n",
       "      <th>percip_probability</th>\n",
       "      <th>pressure</th>\n",
       "      <th>temperature</th>\n",
       "      <th>uv_index</th>\n",
       "      <th>visibility</th>\n",
       "      <th>wind_bearing</th>\n",
       "      <th>...</th>\n",
       "      <th>bgCat_1.0</th>\n",
       "      <th>bgCat_2.0</th>\n",
       "      <th>bgCat_3.0</th>\n",
       "      <th>bgCat_4.0</th>\n",
       "      <th>bgCat_5.0</th>\n",
       "      <th>Year_2013</th>\n",
       "      <th>Year_2014</th>\n",
       "      <th>Year_2015</th>\n",
       "      <th>Year_2016</th>\n",
       "      <th>Year_2017</th>\n",
       "    </tr>\n",
       "  </thead>\n",
       "  <tbody>\n",
       "    <tr>\n",
       "      <th>0</th>\n",
       "      <td>0.34</td>\n",
       "      <td>27.77</td>\n",
       "      <td>0.52</td>\n",
       "      <td>0.0000</td>\n",
       "      <td>0.00</td>\n",
       "      <td>1031.65</td>\n",
       "      <td>44.43</td>\n",
       "      <td>0.0</td>\n",
       "      <td>5.77</td>\n",
       "      <td>330.0</td>\n",
       "      <td>...</td>\n",
       "      <td>0</td>\n",
       "      <td>0</td>\n",
       "      <td>0</td>\n",
       "      <td>0</td>\n",
       "      <td>0</td>\n",
       "      <td>1</td>\n",
       "      <td>0</td>\n",
       "      <td>0</td>\n",
       "      <td>0</td>\n",
       "      <td>0</td>\n",
       "    </tr>\n",
       "    <tr>\n",
       "      <th>1</th>\n",
       "      <td>0.98</td>\n",
       "      <td>55.38</td>\n",
       "      <td>0.93</td>\n",
       "      <td>0.1323</td>\n",
       "      <td>0.99</td>\n",
       "      <td>996.10</td>\n",
       "      <td>57.28</td>\n",
       "      <td>0.0</td>\n",
       "      <td>3.57</td>\n",
       "      <td>110.0</td>\n",
       "      <td>...</td>\n",
       "      <td>0</td>\n",
       "      <td>0</td>\n",
       "      <td>0</td>\n",
       "      <td>0</td>\n",
       "      <td>0</td>\n",
       "      <td>1</td>\n",
       "      <td>0</td>\n",
       "      <td>0</td>\n",
       "      <td>0</td>\n",
       "      <td>0</td>\n",
       "    </tr>\n",
       "    <tr>\n",
       "      <th>2</th>\n",
       "      <td>0.91</td>\n",
       "      <td>18.64</td>\n",
       "      <td>0.56</td>\n",
       "      <td>0.0000</td>\n",
       "      <td>0.00</td>\n",
       "      <td>1015.17</td>\n",
       "      <td>32.68</td>\n",
       "      <td>0.0</td>\n",
       "      <td>6.67</td>\n",
       "      <td>161.0</td>\n",
       "      <td>...</td>\n",
       "      <td>0</td>\n",
       "      <td>0</td>\n",
       "      <td>0</td>\n",
       "      <td>0</td>\n",
       "      <td>0</td>\n",
       "      <td>1</td>\n",
       "      <td>0</td>\n",
       "      <td>0</td>\n",
       "      <td>0</td>\n",
       "      <td>0</td>\n",
       "    </tr>\n",
       "    <tr>\n",
       "      <th>3</th>\n",
       "      <td>0.00</td>\n",
       "      <td>28.66</td>\n",
       "      <td>0.55</td>\n",
       "      <td>0.0053</td>\n",
       "      <td>0.22</td>\n",
       "      <td>1016.32</td>\n",
       "      <td>43.85</td>\n",
       "      <td>4.0</td>\n",
       "      <td>6.54</td>\n",
       "      <td>305.0</td>\n",
       "      <td>...</td>\n",
       "      <td>0</td>\n",
       "      <td>0</td>\n",
       "      <td>0</td>\n",
       "      <td>0</td>\n",
       "      <td>0</td>\n",
       "      <td>1</td>\n",
       "      <td>0</td>\n",
       "      <td>0</td>\n",
       "      <td>0</td>\n",
       "      <td>0</td>\n",
       "    </tr>\n",
       "    <tr>\n",
       "      <th>4</th>\n",
       "      <td>0.72</td>\n",
       "      <td>27.55</td>\n",
       "      <td>0.44</td>\n",
       "      <td>0.0000</td>\n",
       "      <td>0.00</td>\n",
       "      <td>1020.88</td>\n",
       "      <td>48.26</td>\n",
       "      <td>1.0</td>\n",
       "      <td>6.40</td>\n",
       "      <td>339.0</td>\n",
       "      <td>...</td>\n",
       "      <td>0</td>\n",
       "      <td>0</td>\n",
       "      <td>0</td>\n",
       "      <td>0</td>\n",
       "      <td>0</td>\n",
       "      <td>1</td>\n",
       "      <td>0</td>\n",
       "      <td>0</td>\n",
       "      <td>0</td>\n",
       "      <td>0</td>\n",
       "    </tr>\n",
       "  </tbody>\n",
       "</table>\n",
       "<p>5 rows × 22 columns</p>\n",
       "</div>"
      ],
      "text/plain": [
       "   cloud_cover  dew_point  humidity  percip_intensity  percip_probability  \\\n",
       "0         0.34      27.77      0.52            0.0000                0.00   \n",
       "1         0.98      55.38      0.93            0.1323                0.99   \n",
       "2         0.91      18.64      0.56            0.0000                0.00   \n",
       "3         0.00      28.66      0.55            0.0053                0.22   \n",
       "4         0.72      27.55      0.44            0.0000                0.00   \n",
       "\n",
       "   pressure  temperature  uv_index  visibility  wind_bearing  ...  bgCat_1.0  \\\n",
       "0   1031.65        44.43       0.0        5.77         330.0  ...          0   \n",
       "1    996.10        57.28       0.0        3.57         110.0  ...          0   \n",
       "2   1015.17        32.68       0.0        6.67         161.0  ...          0   \n",
       "3   1016.32        43.85       4.0        6.54         305.0  ...          0   \n",
       "4   1020.88        48.26       1.0        6.40         339.0  ...          0   \n",
       "\n",
       "   bgCat_2.0  bgCat_3.0  bgCat_4.0  bgCat_5.0  Year_2013  Year_2014  \\\n",
       "0          0          0          0          0          1          0   \n",
       "1          0          0          0          0          1          0   \n",
       "2          0          0          0          0          1          0   \n",
       "3          0          0          0          0          1          0   \n",
       "4          0          0          0          0          1          0   \n",
       "\n",
       "   Year_2015  Year_2016  Year_2017  \n",
       "0          0          0          0  \n",
       "1          0          0          0  \n",
       "2          0          0          0  \n",
       "3          0          0          0  \n",
       "4          0          0          0  \n",
       "\n",
       "[5 rows x 22 columns]"
      ]
     },
     "execution_count": 6,
     "metadata": {},
     "output_type": "execute_result"
    }
   ],
   "source": [
    "X.head()"
   ]
  },
  {
   "cell_type": "code",
   "execution_count": 7,
   "metadata": {},
   "outputs": [
    {
     "data": {
      "text/html": [
       "<div>\n",
       "<style scoped>\n",
       "    .dataframe tbody tr th:only-of-type {\n",
       "        vertical-align: middle;\n",
       "    }\n",
       "\n",
       "    .dataframe tbody tr th {\n",
       "        vertical-align: top;\n",
       "    }\n",
       "\n",
       "    .dataframe thead th {\n",
       "        text-align: right;\n",
       "    }\n",
       "</style>\n",
       "<table border=\"1\" class=\"dataframe\">\n",
       "  <thead>\n",
       "    <tr style=\"text-align: right;\">\n",
       "      <th></th>\n",
       "      <th>cloud_cover</th>\n",
       "      <th>dew_point</th>\n",
       "      <th>humidity</th>\n",
       "      <th>percip_intensity</th>\n",
       "      <th>percip_probability</th>\n",
       "      <th>pressure</th>\n",
       "      <th>temperature</th>\n",
       "      <th>uv_index</th>\n",
       "      <th>visibility</th>\n",
       "      <th>wind_bearing</th>\n",
       "      <th>...</th>\n",
       "      <th>bgCat_1.0</th>\n",
       "      <th>bgCat_2.0</th>\n",
       "      <th>bgCat_3.0</th>\n",
       "      <th>bgCat_4.0</th>\n",
       "      <th>bgCat_5.0</th>\n",
       "      <th>Year_2013</th>\n",
       "      <th>Year_2014</th>\n",
       "      <th>Year_2015</th>\n",
       "      <th>Year_2016</th>\n",
       "      <th>Year_2017</th>\n",
       "    </tr>\n",
       "  </thead>\n",
       "  <tbody>\n",
       "    <tr>\n",
       "      <th>0</th>\n",
       "      <td>-0.358144</td>\n",
       "      <td>-1.051885</td>\n",
       "      <td>-0.718503</td>\n",
       "      <td>-0.182472</td>\n",
       "      <td>-0.327636</td>\n",
       "      <td>2.024517</td>\n",
       "      <td>-0.904051</td>\n",
       "      <td>-0.720425</td>\n",
       "      <td>-1.283707</td>\n",
       "      <td>1.280647</td>\n",
       "      <td>...</td>\n",
       "      <td>-0.450896</td>\n",
       "      <td>-0.514676</td>\n",
       "      <td>-0.387771</td>\n",
       "      <td>-0.423279</td>\n",
       "      <td>-0.58038</td>\n",
       "      <td>1.982382</td>\n",
       "      <td>-0.522071</td>\n",
       "      <td>-0.506985</td>\n",
       "      <td>-0.500438</td>\n",
       "      <td>-0.465687</td>\n",
       "    </tr>\n",
       "    <tr>\n",
       "      <th>1</th>\n",
       "      <td>1.401721</td>\n",
       "      <td>0.412097</td>\n",
       "      <td>1.498391</td>\n",
       "      <td>9.104426</td>\n",
       "      <td>4.696037</td>\n",
       "      <td>-3.048742</td>\n",
       "      <td>-0.174531</td>\n",
       "      <td>-0.720425</td>\n",
       "      <td>-2.804589</td>\n",
       "      <td>-0.941366</td>\n",
       "      <td>...</td>\n",
       "      <td>-0.450896</td>\n",
       "      <td>-0.514676</td>\n",
       "      <td>-0.387771</td>\n",
       "      <td>-0.423279</td>\n",
       "      <td>-0.58038</td>\n",
       "      <td>1.982382</td>\n",
       "      <td>-0.522071</td>\n",
       "      <td>-0.506985</td>\n",
       "      <td>-0.500438</td>\n",
       "      <td>-0.465687</td>\n",
       "    </tr>\n",
       "    <tr>\n",
       "      <th>2</th>\n",
       "      <td>1.209236</td>\n",
       "      <td>-1.535991</td>\n",
       "      <td>-0.502221</td>\n",
       "      <td>-0.182472</td>\n",
       "      <td>-0.327636</td>\n",
       "      <td>-0.327306</td>\n",
       "      <td>-1.571122</td>\n",
       "      <td>-0.720425</td>\n",
       "      <td>-0.661528</td>\n",
       "      <td>-0.426263</td>\n",
       "      <td>...</td>\n",
       "      <td>-0.450896</td>\n",
       "      <td>-0.514676</td>\n",
       "      <td>-0.387771</td>\n",
       "      <td>-0.423279</td>\n",
       "      <td>-0.58038</td>\n",
       "      <td>1.982382</td>\n",
       "      <td>-0.522071</td>\n",
       "      <td>-0.506985</td>\n",
       "      <td>-0.500438</td>\n",
       "      <td>-0.465687</td>\n",
       "    </tr>\n",
       "    <tr>\n",
       "      <th>3</th>\n",
       "      <td>-1.293072</td>\n",
       "      <td>-1.004694</td>\n",
       "      <td>-0.556291</td>\n",
       "      <td>0.189566</td>\n",
       "      <td>0.788736</td>\n",
       "      <td>-0.163192</td>\n",
       "      <td>-0.936979</td>\n",
       "      <td>0.999489</td>\n",
       "      <td>-0.751398</td>\n",
       "      <td>1.028146</td>\n",
       "      <td>...</td>\n",
       "      <td>-0.450896</td>\n",
       "      <td>-0.514676</td>\n",
       "      <td>-0.387771</td>\n",
       "      <td>-0.423279</td>\n",
       "      <td>-0.58038</td>\n",
       "      <td>1.982382</td>\n",
       "      <td>-0.522071</td>\n",
       "      <td>-0.506985</td>\n",
       "      <td>-0.500438</td>\n",
       "      <td>-0.465687</td>\n",
       "    </tr>\n",
       "    <tr>\n",
       "      <th>4</th>\n",
       "      <td>0.686776</td>\n",
       "      <td>-1.063550</td>\n",
       "      <td>-1.151068</td>\n",
       "      <td>-0.182472</td>\n",
       "      <td>-0.327636</td>\n",
       "      <td>0.487555</td>\n",
       "      <td>-0.686615</td>\n",
       "      <td>-0.290447</td>\n",
       "      <td>-0.848182</td>\n",
       "      <td>1.371548</td>\n",
       "      <td>...</td>\n",
       "      <td>-0.450896</td>\n",
       "      <td>-0.514676</td>\n",
       "      <td>-0.387771</td>\n",
       "      <td>-0.423279</td>\n",
       "      <td>-0.58038</td>\n",
       "      <td>1.982382</td>\n",
       "      <td>-0.522071</td>\n",
       "      <td>-0.506985</td>\n",
       "      <td>-0.500438</td>\n",
       "      <td>-0.465687</td>\n",
       "    </tr>\n",
       "  </tbody>\n",
       "</table>\n",
       "<p>5 rows × 22 columns</p>\n",
       "</div>"
      ],
      "text/plain": [
       "   cloud_cover  dew_point  humidity  percip_intensity  percip_probability  \\\n",
       "0    -0.358144  -1.051885 -0.718503         -0.182472           -0.327636   \n",
       "1     1.401721   0.412097  1.498391          9.104426            4.696037   \n",
       "2     1.209236  -1.535991 -0.502221         -0.182472           -0.327636   \n",
       "3    -1.293072  -1.004694 -0.556291          0.189566            0.788736   \n",
       "4     0.686776  -1.063550 -1.151068         -0.182472           -0.327636   \n",
       "\n",
       "   pressure  temperature  uv_index  visibility  wind_bearing  ...  bgCat_1.0  \\\n",
       "0  2.024517    -0.904051 -0.720425   -1.283707      1.280647  ...  -0.450896   \n",
       "1 -3.048742    -0.174531 -0.720425   -2.804589     -0.941366  ...  -0.450896   \n",
       "2 -0.327306    -1.571122 -0.720425   -0.661528     -0.426263  ...  -0.450896   \n",
       "3 -0.163192    -0.936979  0.999489   -0.751398      1.028146  ...  -0.450896   \n",
       "4  0.487555    -0.686615 -0.290447   -0.848182      1.371548  ...  -0.450896   \n",
       "\n",
       "   bgCat_2.0  bgCat_3.0  bgCat_4.0  bgCat_5.0  Year_2013  Year_2014  \\\n",
       "0  -0.514676  -0.387771  -0.423279   -0.58038   1.982382  -0.522071   \n",
       "1  -0.514676  -0.387771  -0.423279   -0.58038   1.982382  -0.522071   \n",
       "2  -0.514676  -0.387771  -0.423279   -0.58038   1.982382  -0.522071   \n",
       "3  -0.514676  -0.387771  -0.423279   -0.58038   1.982382  -0.522071   \n",
       "4  -0.514676  -0.387771  -0.423279   -0.58038   1.982382  -0.522071   \n",
       "\n",
       "   Year_2015  Year_2016  Year_2017  \n",
       "0  -0.506985  -0.500438  -0.465687  \n",
       "1  -0.506985  -0.500438  -0.465687  \n",
       "2  -0.506985  -0.500438  -0.465687  \n",
       "3  -0.506985  -0.500438  -0.465687  \n",
       "4  -0.506985  -0.500438  -0.465687  \n",
       "\n",
       "[5 rows x 22 columns]"
      ]
     },
     "execution_count": 7,
     "metadata": {},
     "output_type": "execute_result"
    }
   ],
   "source": [
    "Xs.head()"
   ]
  },
  {
   "cell_type": "code",
   "execution_count": null,
   "metadata": {
    "collapsed": true
   },
   "outputs": [],
   "source": []
  },
  {
   "cell_type": "code",
   "execution_count": 15,
   "metadata": {},
   "outputs": [],
   "source": [
    "X_train, X_test, y_train, y_test = train_test_split(X2_test, y2, test_size=0.3)"
   ]
  },
  {
   "cell_type": "code",
   "execution_count": 18,
   "metadata": {},
   "outputs": [
    {
     "name": "stdout",
     "output_type": "stream",
     "text": [
      "K Neighbor Classifier\n",
      "Accuracy score = 0.456\n"
     ]
    }
   ],
   "source": [
    "model = KNeighborsClassifier(3)\n",
    "model.fit(X_train, y_train)\n",
    "\n",
    "expected = y_test\n",
    "predicted = model.predict(X_test)\n",
    "\n",
    "print('K Neighbor Classifier')\n",
    "print('Accuracy score = %0.3f' % accuracy_score(expected, predicted))"
   ]
  },
  {
   "cell_type": "code",
   "execution_count": 34,
   "metadata": {},
   "outputs": [
    {
     "name": "stdout",
     "output_type": "stream",
     "text": [
      "Random Forest model\n",
      "Accuracy score = 0.633\n",
      "RandomForestClassifier: 0.6334055017829853\n",
      "[[ 5658   207  1596  1955]\n",
      " [  197  6095  1541   624]\n",
      " [ 1453  1633 12300  2378]\n",
      " [ 2147   729  2811  5788]]\n"
     ]
    }
   ],
   "source": [
    "model = RandomForestClassifier()\n",
    "model.fit(X_train, y_train)\n",
    "\n",
    "expected = y_test\n",
    "predicted = model.predict(X_test)\n",
    "\n",
    "\n",
    "print('Random Forest model')\n",
    "print('Accuracy score = %0.3f' % accuracy_score(expected, predicted))\n",
    "\n",
    "\n",
    "# Compute and return F1 (harmonic mean of precision and recall)\n",
    "print(\"{}: {}\".format(model.__class__.__name__, f1_score(expected, predicted, average = 'micro')))\n",
    "print(confusion_matrix(expected, predicted))"
   ]
  },
  {
   "cell_type": "code",
   "execution_count": 35,
   "metadata": {},
   "outputs": [
    {
     "name": "stdout",
     "output_type": "stream",
     "text": [
      "Random Forest model\n",
      "Accuracy score = 0.643\n",
      "RandomForestClassifier: 0.6432968245882154\n",
      "[[ 5839   180  1449  1956]\n",
      " [  215  6187  1575   609]\n",
      " [ 1374  1476 12387  2252]\n",
      " [ 2176   737  2806  5894]]\n"
     ]
    }
   ],
   "source": [
    "X_train, X_test, y_train, y_test = train_test_split(X2_testd, y2, test_size=0.3)\n",
    "\n",
    "model = RandomForestClassifier()\n",
    "model.fit(X_train, y_train)\n",
    "\n",
    "expected = y_test\n",
    "predicted = model.predict(X_test)\n",
    "\n",
    "\n",
    "print('Random Forest model')\n",
    "print('Accuracy score = %0.3f' % accuracy_score(expected, predicted))\n",
    "\n",
    "\n",
    "# Compute and return F1 (harmonic mean of precision and recall)\n",
    "print(\"{}: {}\".format(model.__class__.__name__, f1_score(expected, predicted, average = 'micro')))\n",
    "print(confusion_matrix(expected, predicted))"
   ]
  },
  {
   "cell_type": "code",
   "execution_count": 21,
   "metadata": {},
   "outputs": [
    {
     "name": "stdout",
     "output_type": "stream",
     "text": [
      "Random Forest model\n",
      "Accuracy score = 0.476\n"
     ]
    },
    {
     "data": {
      "text/plain": [
       "array([[ 2120,  1480,  3218,  2594],\n",
       "       [   29,  5395,  2526,   609],\n",
       "       [  499,  3446, 10704,  3056],\n",
       "       [  995,   534,  5711,  4196]])"
      ]
     },
     "execution_count": 21,
     "metadata": {},
     "output_type": "execute_result"
    }
   ],
   "source": [
    "from sklearn.tree import DecisionTreeClassifier\n",
    "\n",
    "model = DecisionTreeClassifier(max_depth=5)\n",
    "model.fit(X_train, y_train)\n",
    "\n",
    "expected = y_test\n",
    "predicted = model.predict(X_test)\n",
    "\n",
    "\n",
    "print('Random Forest model')\n",
    "print('Accuracy score = %0.3f' % accuracy_score(expected, predicted))\n",
    "confusion_matrix(expected, predicted)"
   ]
  },
  {
   "cell_type": "code",
   "execution_count": null,
   "metadata": {},
   "outputs": [],
   "source": [
    "from sklearn.gaussian_process import GaussianProcessClassifier\n",
    "from sklearn.gaussian_process.kernels import RBF\n",
    "\n",
    "X_train, X_test, y_train, y_test = train_test_split(Xs, y2, test_size=10000, train_size=10000)\n",
    "\n",
    "model = GaussianProcessClassifier(1.0 * RBF(1.0))\n",
    "model.fit(X_train, y_train)\n",
    "\n",
    "expected = y_test\n",
    "predicted = model.predict(X_test)\n",
    "\n",
    "print('K Neighbor Classifier')\n",
    "print('Accuracy score = %0.3f' % accuracy_score(expected, predicted))"
   ]
  },
  {
   "cell_type": "code",
   "execution_count": 8,
   "metadata": {},
   "outputs": [
    {
     "name": "stderr",
     "output_type": "stream",
     "text": [
      "/Users/DanSchorer/anaconda/lib/python3.6/site-packages/sklearn/svm/base.py:193: FutureWarning: The default value of gamma will change from 'auto' to 'scale' in version 0.22 to account better for unscaled features. Set gamma explicitly to 'auto' or 'scale' to avoid this warning.\n",
      "  \"avoid this warning.\", FutureWarning)\n"
     ]
    },
    {
     "name": "stdout",
     "output_type": "stream",
     "text": [
      "OneClassSVM\n",
      "Mean squared error = 9149.384\n",
      "R2 score = -2.833\n"
     ]
    }
   ],
   "source": [
    "X_train, X_test, y_train, y_test = train_test_split(Xs, y1, test_size=10000, train_size=10000)\n",
    "\n",
    "model = OneClassSVM()\n",
    "model.fit(X_train, y_train)\n",
    "\n",
    "expected = y_test\n",
    "predicted = model.predict(X_test)\n",
    "\n",
    "print('OneClassSVM')\n",
    "print('Mean squared error = %0.3f' % mse(expected, predicted))\n",
    "print('R2 score = %0.3f' % r2_score(expected, predicted))"
   ]
  },
  {
   "cell_type": "code",
   "execution_count": null,
   "metadata": {
    "collapsed": true
   },
   "outputs": [],
   "source": []
  }
 ],
 "metadata": {
  "kernelspec": {
   "display_name": "Python 3",
   "language": "python",
   "name": "python3"
  },
  "language_info": {
   "codemirror_mode": {
    "name": "ipython",
    "version": 3
   },
   "file_extension": ".py",
   "mimetype": "text/x-python",
   "name": "python",
   "nbconvert_exporter": "python",
   "pygments_lexer": "ipython3",
   "version": "3.6.1"
  }
 },
 "nbformat": 4,
 "nbformat_minor": 2
}
