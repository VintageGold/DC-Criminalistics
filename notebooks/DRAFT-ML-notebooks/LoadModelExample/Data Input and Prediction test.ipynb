{
 "cells": [
  {
   "cell_type": "markdown",
   "metadata": {},
   "source": [
    "## Imports"
   ]
  },
  {
   "cell_type": "code",
   "execution_count": 2,
   "metadata": {},
   "outputs": [],
   "source": [
    "import joblib\n",
    "import pandas as pd\n",
    "import datetime\n",
    "import requests\n",
    "import censusgeocode as cg\n",
    "import ipywidgets as widgets\n",
    "from ipywidgets import HBox, VBox"
   ]
  },
  {
   "cell_type": "code",
   "execution_count": 89,
   "metadata": {},
   "outputs": [],
   "source": [
    "df_bus = pd.read_csv('../data/bus_station_data_full.csv')"
   ]
  },
  {
   "cell_type": "code",
   "execution_count": 90,
   "metadata": {},
   "outputs": [],
   "source": [
    "df_bus['census_index'] = df_bus['census_index'].apply(str)\n",
    "df_bus['census_index'] = df_bus['census_index'].apply(lambda x: x.zfill(7))"
   ]
  },
  {
   "cell_type": "code",
   "execution_count": 92,
   "metadata": {
    "scrolled": true
   },
   "outputs": [
    {
     "data": {
      "text/html": [
       "<div>\n",
       "<style scoped>\n",
       "    .dataframe tbody tr th:only-of-type {\n",
       "        vertical-align: middle;\n",
       "    }\n",
       "\n",
       "    .dataframe tbody tr th {\n",
       "        vertical-align: top;\n",
       "    }\n",
       "\n",
       "    .dataframe thead th {\n",
       "        text-align: right;\n",
       "    }\n",
       "</style>\n",
       "<table border=\"1\" class=\"dataframe\">\n",
       "  <thead>\n",
       "    <tr style=\"text-align: right;\">\n",
       "      <th></th>\n",
       "      <th>Unnamed: 0</th>\n",
       "      <th>Latitude</th>\n",
       "      <th>Longitude</th>\n",
       "      <th>Stop_Name</th>\n",
       "      <th>Routes_Available</th>\n",
       "      <th>Stop_ID</th>\n",
       "      <th>census_block</th>\n",
       "      <th>census_blockgroup</th>\n",
       "      <th>census_tract</th>\n",
       "      <th>census_index</th>\n",
       "    </tr>\n",
       "  </thead>\n",
       "  <tbody>\n",
       "    <tr>\n",
       "      <th>0</th>\n",
       "      <td>0</td>\n",
       "      <td>38.993831</td>\n",
       "      <td>-77.029731</td>\n",
       "      <td>SSTC ML COLLECTION POINT I/B</td>\n",
       "      <td>70, 79, F4, J4, Q1, Q2, Q2v1, Q2v2, Q4, Y2, Y7...</td>\n",
       "      <td>0</td>\n",
       "      <td>4003</td>\n",
       "      <td>4</td>\n",
       "      <td>702500</td>\n",
       "      <td>7025004</td>\n",
       "    </tr>\n",
       "    <tr>\n",
       "      <th>1</th>\n",
       "      <td>1</td>\n",
       "      <td>39.077106</td>\n",
       "      <td>-76.953772</td>\n",
       "      <td>Z11 EXPRESS ANOUNCEMENT</td>\n",
       "      <td>Z11, Z11v1</td>\n",
       "      <td>0</td>\n",
       "      <td>1010</td>\n",
       "      <td>1</td>\n",
       "      <td>701414</td>\n",
       "      <td>7014141</td>\n",
       "    </tr>\n",
       "    <tr>\n",
       "      <th>2</th>\n",
       "      <td>2</td>\n",
       "      <td>38.920629</td>\n",
       "      <td>-77.073797</td>\n",
       "      <td>BENTON ST NW + TUNLAW RD NW</td>\n",
       "      <td>D1, D2</td>\n",
       "      <td>1001773</td>\n",
       "      <td>4005</td>\n",
       "      <td>4</td>\n",
       "      <td>300</td>\n",
       "      <td>0003004</td>\n",
       "    </tr>\n",
       "    <tr>\n",
       "      <th>3</th>\n",
       "      <td>3</td>\n",
       "      <td>38.920760</td>\n",
       "      <td>-77.021924</td>\n",
       "      <td>GEORGIA AVE NW + BARRY PL NW</td>\n",
       "      <td>70</td>\n",
       "      <td>1001774</td>\n",
       "      <td>2007</td>\n",
       "      <td>2</td>\n",
       "      <td>3400</td>\n",
       "      <td>0034002</td>\n",
       "    </tr>\n",
       "    <tr>\n",
       "      <th>4</th>\n",
       "      <td>4</td>\n",
       "      <td>38.920636</td>\n",
       "      <td>-77.076667</td>\n",
       "      <td>BENTON ST NW + 39TH ST NW</td>\n",
       "      <td>D1, D2</td>\n",
       "      <td>1001775</td>\n",
       "      <td>4009</td>\n",
       "      <td>4</td>\n",
       "      <td>300</td>\n",
       "      <td>0003004</td>\n",
       "    </tr>\n",
       "  </tbody>\n",
       "</table>\n",
       "</div>"
      ],
      "text/plain": [
       "   Unnamed: 0   Latitude  Longitude                     Stop_Name  \\\n",
       "0           0  38.993831 -77.029731  SSTC ML COLLECTION POINT I/B   \n",
       "1           1  39.077106 -76.953772       Z11 EXPRESS ANOUNCEMENT   \n",
       "2           2  38.920629 -77.073797   BENTON ST NW + TUNLAW RD NW   \n",
       "3           3  38.920760 -77.021924  GEORGIA AVE NW + BARRY PL NW   \n",
       "4           4  38.920636 -77.076667     BENTON ST NW + 39TH ST NW   \n",
       "\n",
       "                                    Routes_Available  Stop_ID  census_block  \\\n",
       "0  70, 79, F4, J4, Q1, Q2, Q2v1, Q2v2, Q4, Y2, Y7...        0          4003   \n",
       "1                                         Z11, Z11v1        0          1010   \n",
       "2                                             D1, D2  1001773          4005   \n",
       "3                                                 70  1001774          2007   \n",
       "4                                             D1, D2  1001775          4009   \n",
       "\n",
       "   census_blockgroup  census_tract census_index  \n",
       "0                  4        702500      7025004  \n",
       "1                  1        701414      7014141  \n",
       "2                  4           300      0003004  \n",
       "3                  2          3400      0034002  \n",
       "4                  4           300      0003004  "
      ]
     },
     "execution_count": 92,
     "metadata": {},
     "output_type": "execute_result"
    }
   ],
   "source": [
    "df_bus.head()"
   ]
  },
  {
   "cell_type": "markdown",
   "metadata": {},
   "source": [
    "## Load Dan's model from file"
   ]
  },
  {
   "cell_type": "code",
   "execution_count": 14,
   "metadata": {},
   "outputs": [
    {
     "name": "stderr",
     "output_type": "stream",
     "text": [
      "/anaconda3/lib/python3.6/site-packages/sklearn/base.py:253: UserWarning: Trying to unpickle estimator DecisionTreeClassifier from version 0.21.2 when using version 0.20.3. This might lead to breaking code or invalid results. Use at your own risk.\n",
      "  UserWarning)\n",
      "/anaconda3/lib/python3.6/site-packages/sklearn/base.py:253: UserWarning: Trying to unpickle estimator RandomForestClassifier from version 0.21.2 when using version 0.20.3. This might lead to breaking code or invalid results. Use at your own risk.\n",
      "  UserWarning)\n"
     ]
    }
   ],
   "source": [
    "filename = 'RandomForestClassifier.sav'\n",
    "loaded_model = joblib.load(filename)"
   ]
  },
  {
   "cell_type": "markdown",
   "metadata": {},
   "source": [
    "## Define function to geocode address input and return census block info"
   ]
  },
  {
   "cell_type": "code",
   "execution_count": 15,
   "metadata": {},
   "outputs": [],
   "source": [
    "def addressLookup(address_input):\n",
    "    address = cg.onelineaddress(address_input)\n",
    "\n",
    "    addressLookup.block_group = address[0]['geographies']['2010 Census Blocks'][0]['BLKGRP']\n",
    "    addressLookup.tract = address[0]['geographies']['2010 Census Blocks'][0]['TRACT']\n",
    "    addressLookup.lat = address[0]['coordinates']['y']\n",
    "    addressLookup.lon = address[0]['coordinates']['x']"
   ]
  },
  {
   "cell_type": "markdown",
   "metadata": {},
   "source": [
    "## Define function to use geocode of address input to get weather info"
   ]
  },
  {
   "cell_type": "code",
   "execution_count": 16,
   "metadata": {},
   "outputs": [],
   "source": [
    "def darkSkyAPICall(lat,lon,date_time):\n",
    "\n",
    "    base_url = 'https://api.darksky.net/forecast/'\n",
    "    api_key = 'c9274e7c52c1a5b7e99be6f22db98855'\n",
    "    exclude = 'minutely, hourly, daily, flags'\n",
    "    params = {'exclude': exclude}\n",
    "\n",
    "    lat_address = lat\n",
    "    lon_address = lon\n",
    "\n",
    "    query = \"/{},{}\".format(lat_address,lon_address,date_time)\n",
    "\n",
    "    url = base_url + api_key + query\n",
    "\n",
    "    try:\n",
    "        response = requests.get(url, params=params)\n",
    "    except ConnectionError:\n",
    "        pass\n",
    "\n",
    "    try:\n",
    "        response_json = response.json()\n",
    "    except:\n",
    "        response_json = {}\n",
    "\n",
    "    darkSkyAPICall.summary = response_json['currently']['summary']\n",
    "    darkSkyAPICall.precip_intensity = response_json['currently']['precipIntensity']\n",
    "    darkSkyAPICall.precip_probability = response_json['currently']['precipProbability']\n",
    "    darkSkyAPICall.temp = response_json['currently']['temperature']\n",
    "    darkSkyAPICall.dewpoint = response_json['currently']['dewPoint']\n",
    "    darkSkyAPICall.humidity = response_json['currently']['humidity']\n",
    "    darkSkyAPICall.pressure = response_json['currently']['pressure']\n",
    "    darkSkyAPICall.wind_speed = response_json['currently']['windSpeed']\n",
    "    darkSkyAPICall.wind_gust = response_json['currently']['windGust']\n",
    "    darkSkyAPICall.wind_bearing = response_json['currently']['windBearing']\n",
    "    darkSkyAPICall.cloud_cover = response_json['currently']['cloudCover']\n",
    "    darkSkyAPICall.uv_index = response_json['currently']['uvIndex']\n",
    "    darkSkyAPICall.visibility = response_json['currently']['visibility']\n",
    "\n",
    "    weather = \"Summary: {}\".format(darkSkyAPICall.summary)\n",
    "    \n",
    "    #include print of weather to make sure all tests are working\n",
    "    \n",
    "    print(weather)"
   ]
  },
  {
   "cell_type": "markdown",
   "metadata": {},
   "source": [
    "## Setting up widget for address user input"
   ]
  },
  {
   "cell_type": "code",
   "execution_count": 17,
   "metadata": {},
   "outputs": [],
   "source": [
    "address = widgets.Text(\n",
    "    value='Ex: 4120 14th St NW',\n",
    "    placeholder='',\n",
    "    description='Address: ',\n",
    "    disabled=False\n",
    ")"
   ]
  },
  {
   "cell_type": "code",
   "execution_count": 58,
   "metadata": {},
   "outputs": [
    {
     "data": {
      "application/vnd.jupyter.widget-view+json": {
       "model_id": "46510c16ad954b6fa26129df815f6312",
       "version_major": 2,
       "version_minor": 0
      },
      "text/plain": [
       "Text(value='850 Quincy St NW', description='Address: ', placeholder='')"
      ]
     },
     "metadata": {},
     "output_type": "display_data"
    }
   ],
   "source": [
    "address"
   ]
  },
  {
   "cell_type": "code",
   "execution_count": 59,
   "metadata": {},
   "outputs": [],
   "source": [
    "address_input = address.value + \", Washington, DC\""
   ]
  },
  {
   "cell_type": "markdown",
   "metadata": {},
   "source": [
    "## Setting up widget for date user input"
   ]
  },
  {
   "cell_type": "code",
   "execution_count": 60,
   "metadata": {},
   "outputs": [],
   "source": [
    "date = widgets.DatePicker(\n",
    "    description='Pick a Date',\n",
    "    disabled=False\n",
    ")"
   ]
  },
  {
   "cell_type": "code",
   "execution_count": 63,
   "metadata": {},
   "outputs": [
    {
     "data": {
      "application/vnd.jupyter.widget-view+json": {
       "model_id": "5a7099a8ae7948aaa2ae026baae039a2",
       "version_major": 2,
       "version_minor": 0
      },
      "text/plain": [
       "DatePicker(value=datetime.date(2019, 6, 13), description='Pick a Date')"
      ]
     },
     "metadata": {},
     "output_type": "display_data"
    }
   ],
   "source": [
    "date"
   ]
  },
  {
   "cell_type": "code",
   "execution_count": 64,
   "metadata": {},
   "outputs": [],
   "source": [
    "date_input = date.value"
   ]
  },
  {
   "cell_type": "markdown",
   "metadata": {},
   "source": [
    "## Setting up widget for time user input"
   ]
  },
  {
   "cell_type": "code",
   "execution_count": 65,
   "metadata": {},
   "outputs": [],
   "source": [
    "time = widgets.Dropdown(\n",
    "    options=['12:00', '12:30', '01:00', '01:30', '02:00', '02:30', '03:00',\n",
    "'03:30', '04:00', '04:30','05:00', '05:30', '06:00', '06:30', '07:00', '07:30', \n",
    "'08:00', '08:30', '09:00', '09:30', '10:00', '10:30', '11:00', '11:30'],\n",
    "    value='09:00',\n",
    "    description='Depart Time:',\n",
    "    disabled=False,\n",
    ")\n",
    "\n",
    "am_pm = widgets.Dropdown(\n",
    "    options=['AM','PM'],\n",
    "    value='AM',\n",
    "    description='AM or PM? ',\n",
    "    disabled=False,\n",
    ")"
   ]
  },
  {
   "cell_type": "code",
   "execution_count": 66,
   "metadata": {},
   "outputs": [
    {
     "data": {
      "application/vnd.jupyter.widget-view+json": {
       "model_id": "c22ca0981f56403094016473866684c6",
       "version_major": 2,
       "version_minor": 0
      },
      "text/plain": [
       "HBox(children=(Dropdown(description='Depart Time:', index=18, options=('12:00', '12:30', '01:00', '01:30', '02…"
      ]
     },
     "metadata": {},
     "output_type": "display_data"
    }
   ],
   "source": [
    "HBox([time, am_pm])"
   ]
  },
  {
   "cell_type": "markdown",
   "metadata": {},
   "source": [
    "## Cleaning up and reformatting date and time info"
   ]
  },
  {
   "cell_type": "markdown",
   "metadata": {},
   "source": [
    "### Converting 12h time and am/pm input to 24h time"
   ]
  },
  {
   "cell_type": "code",
   "execution_count": 67,
   "metadata": {},
   "outputs": [
    {
     "data": {
      "text/plain": [
       "'09:00:00'"
      ]
     },
     "execution_count": 67,
     "metadata": {},
     "output_type": "execute_result"
    }
   ],
   "source": [
    "time_input = time.value + ':00' + am_pm.value\n",
    "\n",
    "def convert24(time_input): \n",
    "    if time_input[-2:] == \"AM\" and time_input[:2] == \"12\": \n",
    "        return \"00\" + time_input[2:-2]    \n",
    "    elif time_input[-2:] == \"AM\": \n",
    "        return time_input[:-2] \n",
    "    elif time_input[-2:] == \"PM\" and time_input[:2] == \"12\": \n",
    "        return time_input[:-2] \n",
    "    else: \n",
    "        return str(int(time_input[:2]) + 12) + time_input[2:8] \n",
    "  \n",
    "time_24 = convert24(time_input)\n",
    "time_24"
   ]
  },
  {
   "cell_type": "markdown",
   "metadata": {},
   "source": [
    "### Combining date and time into one object"
   ]
  },
  {
   "cell_type": "code",
   "execution_count": 68,
   "metadata": {},
   "outputs": [
    {
     "data": {
      "text/plain": [
       "'2019-06-13T09:00:00'"
      ]
     },
     "execution_count": 68,
     "metadata": {},
     "output_type": "execute_result"
    }
   ],
   "source": [
    "time_input_clean = datetime.datetime.strptime(time_24, '%H:%M:%S').time()\n",
    "mydatetime = datetime.datetime.combine(date_input, time_input_clean)\n",
    "date_time_input = mydatetime.isoformat()\n",
    "date_time_input"
   ]
  },
  {
   "cell_type": "markdown",
   "metadata": {},
   "source": [
    "## Geocoder and DarkSkyAPI Calls"
   ]
  },
  {
   "cell_type": "markdown",
   "metadata": {},
   "source": [
    "### Check our function inputs one more time"
   ]
  },
  {
   "cell_type": "code",
   "execution_count": 69,
   "metadata": {},
   "outputs": [
    {
     "name": "stdout",
     "output_type": "stream",
     "text": [
      "Address: 850 Quincy St NW, Washington, DC    Date/Time: 2019-06-13T09:00:00\n"
     ]
    }
   ],
   "source": [
    "print(\"Address: \" + address_input + \"    Date/Time: \" + date_time_input)"
   ]
  },
  {
   "cell_type": "markdown",
   "metadata": {},
   "source": [
    "### Call functions, return weather summary to make sure it worked."
   ]
  },
  {
   "cell_type": "code",
   "execution_count": 70,
   "metadata": {},
   "outputs": [
    {
     "name": "stdout",
     "output_type": "stream",
     "text": [
      "Summary: Partly Cloudy\n"
     ]
    }
   ],
   "source": [
    "addressLookup(address_input)\n",
    "darkSkyAPICall(addressLookup.lat,addressLookup.lon,date_time_input)"
   ]
  },
  {
   "cell_type": "markdown",
   "metadata": {},
   "source": [
    "## Reformatting date/time for modeling input"
   ]
  },
  {
   "cell_type": "markdown",
   "metadata": {},
   "source": [
    "### Days of week"
   ]
  },
  {
   "cell_type": "code",
   "execution_count": 71,
   "metadata": {},
   "outputs": [],
   "source": [
    "wkday_0 = 0\n",
    "wkday_1 = 0\n",
    "wkday_2 = 0\n",
    "wkday_3 = 0\n",
    "wkday_4 = 0\n",
    "wkday_5 = 0\n",
    "wkday_6 = 0"
   ]
  },
  {
   "cell_type": "code",
   "execution_count": 72,
   "metadata": {},
   "outputs": [
    {
     "name": "stdout",
     "output_type": "stream",
     "text": [
      "[0, 0, 0, 0, 0, 0, 0]\n"
     ]
    }
   ],
   "source": [
    "print([wkday_0, wkday_1, wkday_2, wkday_3, wkday_4, wkday_5, wkday_6])"
   ]
  },
  {
   "cell_type": "code",
   "execution_count": 73,
   "metadata": {},
   "outputs": [],
   "source": [
    "if mydatetime.weekday() == 0:\n",
    "    wkday_0 = 1\n",
    "    wkday_1 = 0\n",
    "    wkday_2 = 0\n",
    "    wkday_3 = 0\n",
    "    wkday_4 = 0\n",
    "    wkday_5 = 0\n",
    "    wkday_6 = 0\n",
    "elif mydatetime.weekday() == 1:\n",
    "    wkday_0 = 0\n",
    "    wkday_1 = 1\n",
    "    wkday_2 = 0\n",
    "    wkday_3 = 0\n",
    "    wkday_4 = 0\n",
    "    wkday_5 = 0\n",
    "    wkday_6 = 0\n",
    "elif mydatetime.weekday() == 2:\n",
    "    wkday_0 = 0\n",
    "    wkday_1 = 0\n",
    "    wkday_2 = 1\n",
    "    wkday_3 = 0\n",
    "    wkday_4 = 0\n",
    "    wkday_5 = 0\n",
    "    wkday_6 = 0       \n",
    "elif mydatetime.weekday() == 3:\n",
    "    wkday_0 = 0\n",
    "    wkday_1 = 0\n",
    "    wkday_2 = 0\n",
    "    wkday_3 = 1\n",
    "    wkday_4 = 0\n",
    "    wkday_5 = 0\n",
    "    wkday_6 = 0\n",
    "elif mydatetime.weekday() == 4:\n",
    "    wkday_0 = 0\n",
    "    wkday_1 = 0\n",
    "    wkday_2 = 0\n",
    "    wkday_3 = 0\n",
    "    wkday_4 = 1\n",
    "    wkday_5 = 0\n",
    "    wkday_6 = 0\n",
    "elif mydatetime.weekday() == 5:\n",
    "    wkday_0 = 0\n",
    "    wkday_1 = 0\n",
    "    wkday_2 = 0\n",
    "    wkday_3 = 0\n",
    "    wkday_4 = 0\n",
    "    wkday_5 = 1\n",
    "    wkday_6 = 0\n",
    "elif mydatetime.weekday() == 6:\n",
    "    wkday_0 = 0\n",
    "    wkday_1 = 0\n",
    "    wkday_2 = 0\n",
    "    wkday_3 = 0\n",
    "    wkday_4 = 0\n",
    "    wkday_5 = 0\n",
    "    wkday_6 = 1"
   ]
  },
  {
   "cell_type": "code",
   "execution_count": 74,
   "metadata": {},
   "outputs": [
    {
     "name": "stdout",
     "output_type": "stream",
     "text": [
      "[0, 0, 0, 1, 0, 0, 0]\n"
     ]
    }
   ],
   "source": [
    "print([wkday_0, wkday_1, wkday_2, wkday_3, wkday_4, wkday_5, wkday_6])"
   ]
  },
  {
   "cell_type": "markdown",
   "metadata": {},
   "source": [
    "### Time of Day"
   ]
  },
  {
   "cell_type": "code",
   "execution_count": 75,
   "metadata": {},
   "outputs": [],
   "source": [
    "tod_evening = 0\n",
    "tod_midnight = 0\n",
    "tod_morning = 0\n",
    "tod_night = 0\n",
    "tod_afternoon = 0\n",
    "tod_early_morning = 0"
   ]
  },
  {
   "cell_type": "code",
   "execution_count": 76,
   "metadata": {},
   "outputs": [
    {
     "name": "stdout",
     "output_type": "stream",
     "text": [
      "[0, 0, 0, 0, 0, 0]\n"
     ]
    }
   ],
   "source": [
    "print([tod_evening, tod_midnight, tod_morning, tod_night, tod_afternoon, tod_early_morning])"
   ]
  },
  {
   "cell_type": "code",
   "execution_count": 77,
   "metadata": {},
   "outputs": [],
   "source": [
    "if 23 <= mydatetime.hour:\n",
    "    tod_evening = 0\n",
    "    tod_midnight = 1\n",
    "    tod_morning = 0\n",
    "    tod_night = 0\n",
    "    tod_afternoon = 0\n",
    "    tod_early_morning = 0\n",
    "if 0 <= mydatetime.hour < 2:\n",
    "    tod_evening = 0\n",
    "    tod_midnight = 1\n",
    "    tod_morning = 0\n",
    "    tod_night = 0\n",
    "    tod_afternoon = 0\n",
    "    tod_early_morning = 0\n",
    "elif 2 <= mydatetime.hour < 5:\n",
    "    tod_evening = 0\n",
    "    tod_midnight = 0\n",
    "    tod_morning = 0\n",
    "    tod_night = 1\n",
    "    tod_afternoon = 0\n",
    "    tod_early_morning = 0\n",
    "elif 5 <= mydatetime.hour < 8:\n",
    "    tod_evening = 0\n",
    "    tod_midnight = 0\n",
    "    tod_morning = 0\n",
    "    tod_night = 0\n",
    "    tod_afternoon = 0\n",
    "    tod_early_morning = 1\n",
    "elif 8 <= mydatetime.hour < 11:\n",
    "    tod_evening = 0\n",
    "    tod_midnight = 0\n",
    "    tod_morning = 1\n",
    "    tod_night = 0\n",
    "    tod_afternoon = 0\n",
    "    tod_early_morning = 0\n",
    "elif 11 <= mydatetime.hour < 14:\n",
    "    tod_evening = 0\n",
    "    tod_midnight = 0\n",
    "    tod_morning = 0\n",
    "    tod_night = 0\n",
    "    tod_afternoon = 1\n",
    "    tod_early_morning = 0\n",
    "elif 14 <= mydatetime.hour < 17:\n",
    "    tod_evening = 0\n",
    "    tod_midnight = 0\n",
    "    tod_morning = 0\n",
    "    tod_night = 0\n",
    "    tod_afternoon = 1\n",
    "    tod_early_morning = 0\n",
    "elif 17 <= mydatetime.hour < 20:\n",
    "    tod_evening = 1\n",
    "    tod_midnight = 0\n",
    "    tod_morning = 0\n",
    "    tod_night = 0\n",
    "    tod_afternoon = 0\n",
    "    tod_early_morning = 0\n",
    "elif 20 <= mydatetime.hour < 23:\n",
    "    tod_evening = 0\n",
    "    tod_midnight = 0\n",
    "    tod_morning = 0\n",
    "    tod_night = 1\n",
    "    tod_afternoon = 0\n",
    "    tod_early_morning = 0"
   ]
  },
  {
   "cell_type": "code",
   "execution_count": 78,
   "metadata": {},
   "outputs": [
    {
     "name": "stdout",
     "output_type": "stream",
     "text": [
      "[0, 0, 1, 0, 0, 0]\n"
     ]
    }
   ],
   "source": [
    "print([tod_evening, tod_midnight, tod_morning, tod_night, tod_afternoon, tod_early_morning])"
   ]
  },
  {
   "cell_type": "markdown",
   "metadata": {},
   "source": [
    "## Modeling!"
   ]
  },
  {
   "cell_type": "markdown",
   "metadata": {},
   "source": [
    "### Set up dataframe of info for model input"
   ]
  },
  {
   "cell_type": "code",
   "execution_count": 79,
   "metadata": {},
   "outputs": [],
   "source": [
    "list_values = [addressLookup.tract + addressLookup.block_group, darkSkyAPICall.precip_intensity,\n",
    "                   darkSkyAPICall.temp, darkSkyAPICall.uv_index, darkSkyAPICall.wind_speed,\n",
    "                   tod_evening, tod_midnight, tod_morning, tod_night, tod_afternoon, tod_early_morning,\n",
    "                   wkday_0, wkday_1, wkday_2, wkday_3, wkday_4, wkday_5, wkday_6]\n",
    "list_columns = ['BlockGroup', 'percip_intensity','temperature',\n",
    "                           'uv_index','wind_speed','tod_Evening','tod_Midnight',\n",
    "                           'tod_Morning','tod_Night','tod_Afternoon','tod_Early Morning',\n",
    "                           'wkday_0.0','wkday_1.0','wkday_2.0','wkday_3.0','wkday_4.0',\n",
    "                           'wkday_5.0','wkday_6.0']\n"
   ]
  },
  {
   "cell_type": "code",
   "execution_count": 80,
   "metadata": {},
   "outputs": [],
   "source": [
    "df = pd.DataFrame([list_values],columns=list_columns)"
   ]
  },
  {
   "cell_type": "code",
   "execution_count": 81,
   "metadata": {},
   "outputs": [
    {
     "data": {
      "text/html": [
       "<div>\n",
       "<style scoped>\n",
       "    .dataframe tbody tr th:only-of-type {\n",
       "        vertical-align: middle;\n",
       "    }\n",
       "\n",
       "    .dataframe tbody tr th {\n",
       "        vertical-align: top;\n",
       "    }\n",
       "\n",
       "    .dataframe thead th {\n",
       "        text-align: right;\n",
       "    }\n",
       "</style>\n",
       "<table border=\"1\" class=\"dataframe\">\n",
       "  <thead>\n",
       "    <tr style=\"text-align: right;\">\n",
       "      <th></th>\n",
       "      <th>BlockGroup</th>\n",
       "      <th>percip_intensity</th>\n",
       "      <th>temperature</th>\n",
       "      <th>uv_index</th>\n",
       "      <th>wind_speed</th>\n",
       "      <th>tod_Evening</th>\n",
       "      <th>tod_Midnight</th>\n",
       "      <th>tod_Morning</th>\n",
       "      <th>tod_Night</th>\n",
       "      <th>tod_Afternoon</th>\n",
       "      <th>tod_Early Morning</th>\n",
       "      <th>wkday_0.0</th>\n",
       "      <th>wkday_1.0</th>\n",
       "      <th>wkday_2.0</th>\n",
       "      <th>wkday_3.0</th>\n",
       "      <th>wkday_4.0</th>\n",
       "      <th>wkday_5.0</th>\n",
       "      <th>wkday_6.0</th>\n",
       "    </tr>\n",
       "  </thead>\n",
       "  <tbody>\n",
       "    <tr>\n",
       "      <th>0</th>\n",
       "      <td>0025022</td>\n",
       "      <td>0</td>\n",
       "      <td>75.99</td>\n",
       "      <td>2</td>\n",
       "      <td>8.43</td>\n",
       "      <td>0</td>\n",
       "      <td>0</td>\n",
       "      <td>1</td>\n",
       "      <td>0</td>\n",
       "      <td>0</td>\n",
       "      <td>0</td>\n",
       "      <td>0</td>\n",
       "      <td>0</td>\n",
       "      <td>0</td>\n",
       "      <td>1</td>\n",
       "      <td>0</td>\n",
       "      <td>0</td>\n",
       "      <td>0</td>\n",
       "    </tr>\n",
       "  </tbody>\n",
       "</table>\n",
       "</div>"
      ],
      "text/plain": [
       "  BlockGroup  percip_intensity  temperature  uv_index  wind_speed  \\\n",
       "0    0025022                 0        75.99         2        8.43   \n",
       "\n",
       "   tod_Evening  tod_Midnight  tod_Morning  tod_Night  tod_Afternoon  \\\n",
       "0            0             0            1          0              0   \n",
       "\n",
       "   tod_Early Morning  wkday_0.0  wkday_1.0  wkday_2.0  wkday_3.0  wkday_4.0  \\\n",
       "0                  0          0          0          0          1          0   \n",
       "\n",
       "   wkday_5.0  wkday_6.0  \n",
       "0          0          0  "
      ]
     },
     "execution_count": 81,
     "metadata": {},
     "output_type": "execute_result"
    }
   ],
   "source": [
    "df"
   ]
  },
  {
   "cell_type": "markdown",
   "metadata": {},
   "source": [
    "### Predict!"
   ]
  },
  {
   "cell_type": "code",
   "execution_count": 82,
   "metadata": {},
   "outputs": [],
   "source": [
    "predicted = loaded_model.predict(df)"
   ]
  },
  {
   "cell_type": "code",
   "execution_count": 83,
   "metadata": {},
   "outputs": [
    {
     "name": "stdout",
     "output_type": "stream",
     "text": [
      "[2]\n"
     ]
    }
   ],
   "source": [
    "print(predicted)"
   ]
  },
  {
   "cell_type": "code",
   "execution_count": 93,
   "metadata": {},
   "outputs": [
    {
     "data": {
      "text/plain": [
       "0    0025022\n",
       "Name: BlockGroup, dtype: object"
      ]
     },
     "execution_count": 93,
     "metadata": {},
     "output_type": "execute_result"
    }
   ],
   "source": [
    "df['BlockGroup']"
   ]
  },
  {
   "cell_type": "code",
   "execution_count": 109,
   "metadata": {},
   "outputs": [
    {
     "name": "stdout",
     "output_type": "stream",
     "text": [
      "                                  Stop_Name  Routes_Available\n",
      "0  GEORGIA AVE-PETWORTH STATION + BUS BAY B            70, 79\n",
      "1          NEW HAMPSHIRE AVE NW + SPRING RD        63, 64, H8\n",
      "2  GEORGIA AVE-PETWORTH STATION + BUS BAY C  60, 62, 62v1, 63\n"
     ]
    }
   ],
   "source": [
    "if predicted >=4:\n",
    "    print('Take a Lyft!')\n",
    "else:\n",
    "    bus_options = pd.merge(df['BlockGroup'], df_bus, how='left',\n",
    "        left_on='BlockGroup', right_on='census_index')\n",
    "    print(bus_options[['Stop_Name','Routes_Available']])\n",
    "    \n"
   ]
  }
 ],
 "metadata": {
  "kernelspec": {
   "display_name": "Python 3",
   "language": "python",
   "name": "python3"
  },
  "language_info": {
   "codemirror_mode": {
    "name": "ipython",
    "version": 3
   },
   "file_extension": ".py",
   "mimetype": "text/x-python",
   "name": "python",
   "nbconvert_exporter": "python",
   "pygments_lexer": "ipython3",
   "version": "3.6.8"
  }
 },
 "nbformat": 4,
 "nbformat_minor": 2
}
