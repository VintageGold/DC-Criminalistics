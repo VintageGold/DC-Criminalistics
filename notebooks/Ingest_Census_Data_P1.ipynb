{
 "cells": [
  {
   "cell_type": "markdown",
   "metadata": {},
   "source": [
    "# Ingest Census Data: Part 1"
   ]
  },
  {
   "cell_type": "code",
   "execution_count": null,
   "metadata": {},
   "outputs": [],
   "source": [
    "import os\n",
    "import sys\n",
    "import requests\n",
    "import time"
   ]
  },
  {
   "cell_type": "markdown",
   "metadata": {},
   "source": [
    "### Build API Request\n",
    "\n",
    "Note, Census ACS y-year block group data is not available for 2010, 2011, and 2012. So, if you're trying to pull those years, you're about to get some errors."
   ]
  },
  {
   "cell_type": "markdown",
   "metadata": {},
   "source": [
    "Provide key."
   ]
  },
  {
   "cell_type": "code",
   "execution_count": null,
   "metadata": {},
   "outputs": [],
   "source": [
    "myKey = 'INSERT KEY HERE'"
   ]
  },
  {
   "cell_type": "markdown",
   "metadata": {},
   "source": [
    "Build Block Group URL."
   ]
  },
  {
   "cell_type": "code",
   "execution_count": 2,
   "metadata": {},
   "outputs": [],
   "source": [
    "def prepBlockGroupURL(censusVars, years):\n",
    "    \"\"\"\n",
    "    Constructs the URLs necessary for data by block group\n",
    "    Returns a list of URLs specified by variable and years in the main def\n",
    "    \"\"\"\n",
    "    blockGroupList = []\n",
    "    blockGroupURL = ''\n",
    "    byBlockGroup = '&for=block%20group:*&in=state:11&in=county:001&in=tract:*'\n",
    "    \n",
    "    for x in range(len(censusVars)):\n",
    "        if x < len(censusVars) - 1:\n",
    "            blockGroupURL = blockGroupURL + censusVars[x] + \",\"\n",
    "        else:\n",
    "            blockGroupURL = blockGroupURL + censusVars[x]\n",
    "\n",
    "    for x in range(years[0], years[1]+1):\n",
    "        if x == 2009:\n",
    "            call = \"https://api.census.gov/data/\" + str(x) + \"/acs5?get=\" + blockGroupURL + byBlockGroup + \"&key=\" + myKey\n",
    "        else:\n",
    "            call = \"https://api.census.gov/data/\" + str(x) + \"/acs/acs5?get=\" + blockGroupURL + byBlockGroup + \"&key=\" + myKey\n",
    "        \n",
    "        blockGroupList.append(call)\n",
    "    \n",
    "    return blockGroupList"
   ]
  },
  {
   "cell_type": "code",
   "execution_count": null,
   "metadata": {},
   "outputs": [],
   "source": [
    "blockGroupURLs = prepBlockGroupURL(('B01003_001E','B01003_001M',\n",
    "                                    'B00001_001E',\n",
    "                                    'B19301_001E','B19301_001M',\n",
    "                                    'B19013_001E','B19013_001M',\n",
    "                                    'B01002_001E','B01002_001M',\n",
    "                                    'B25001_001E','B25001_001M',\n",
    "                                    'B00002_001E'), (2009, 2017))"
   ]
  },
  {
   "cell_type": "markdown",
   "metadata": {},
   "source": [
    "Build Census Tract URLs."
   ]
  },
  {
   "cell_type": "code",
   "execution_count": 3,
   "metadata": {},
   "outputs": [],
   "source": [
    "def prepTractURL(censusVars, years):\n",
    "    \"\"\"\n",
    "    Constructs the URLs necessary for data by tract\n",
    "    Returns a list of URLs specified by variable and years in the main def\n",
    "    \"\"\"\n",
    "    tractList = []\n",
    "    tractURL = ''\n",
    "    byTract = '&for=tract:*&in=state:11&in=county:001'\n",
    "\n",
    "    for x in range(len(censusVars)):\n",
    "        if x < len(censusVars) - 1:\n",
    "            tractURL = tractURL + censusVars[x] + \",\"\n",
    "        else:\n",
    "            tractURL = tractURL + censusVars[x]\n",
    "\n",
    "    for x in range(years[0], years[1]+1):\n",
    "        if x == 2009:\n",
    "            call = \"https://api.census.gov/data/\" + str(x) + \"/acs5?get=\" + tractURL + byTract + \"&key=\" + myKey\n",
    "        else:\n",
    "            call = \"https://api.census.gov/data/\" + str(x) + \"/acs/acs5?get=\" + tractURL + byTract + \"&key=\" + myKey\n",
    "        \n",
    "        tractList.append(call)\n",
    "\n",
    "    return tractList"
   ]
  },
  {
   "cell_type": "code",
   "execution_count": null,
   "metadata": {},
   "outputs": [],
   "source": [
    "tractURLs = prepTractURL(('B01003_001E','B01003_001M',\n",
    "                          'B00001_001E',\n",
    "                          'B19301_001E','B19301_001M',\n",
    "                          'B19013_001E','B19013_001M',\n",
    "                          'B01002_001E','B01002_001M',\n",
    "                          'B25001_001E','B25001_001M',\n",
    "                          'B00002_001E'), (2009, 2017))"
   ]
  },
  {
   "cell_type": "markdown",
   "metadata": {},
   "source": [
    "# Requests"
   ]
  },
  {
   "cell_type": "code",
   "execution_count": 4,
   "metadata": {},
   "outputs": [],
   "source": [
    "def requestData(url, type):\n",
    "    for x in range(len(url)):\n",
    "        r = requests.get(url[x])\n",
    "        \n",
    "        filename = '../data/census-data/' + '{}'.format(type) + url[x][28:32] + \".txt\"\n",
    "    \n",
    "        myFile = open(filename, \"w\")\n",
    "        myFile.write(r.text)\n",
    "        myFile.close()"
   ]
  },
  {
   "cell_type": "code",
   "execution_count": null,
   "metadata": {},
   "outputs": [],
   "source": [
    "requestData(blockGroupURLs, \"BlockGroup\")\n",
    "requestData(tractURLs, \"Tract\")"
   ]
  }
 ],
 "metadata": {
  "hide_input": false,
  "kernelspec": {
   "display_name": "Python 3",
   "language": "python",
   "name": "python3"
  },
  "language_info": {
   "codemirror_mode": {
    "name": "ipython",
    "version": 3
   },
   "file_extension": ".py",
   "mimetype": "text/x-python",
   "name": "python",
   "nbconvert_exporter": "python",
   "pygments_lexer": "ipython3",
   "version": "3.6.8"
  },
  "varInspector": {
   "cols": {
    "lenName": 16,
    "lenType": 16,
    "lenVar": 40
   },
   "kernels_config": {
    "python": {
     "delete_cmd_postfix": "",
     "delete_cmd_prefix": "del ",
     "library": "var_list.py",
     "varRefreshCmd": "print(var_dic_list())"
    },
    "r": {
     "delete_cmd_postfix": ") ",
     "delete_cmd_prefix": "rm(",
     "library": "var_list.r",
     "varRefreshCmd": "cat(var_dic_list()) "
    }
   },
   "types_to_exclude": [
    "module",
    "function",
    "builtin_function_or_method",
    "instance",
    "_Feature"
   ],
   "window_display": false
  }
 },
 "nbformat": 4,
 "nbformat_minor": 2
}
