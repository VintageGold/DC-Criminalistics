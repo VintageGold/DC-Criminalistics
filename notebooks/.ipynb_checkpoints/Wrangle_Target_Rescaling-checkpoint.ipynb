{
 "cells": [
  {
   "cell_type": "code",
   "execution_count": 1,
   "metadata": {},
   "outputs": [],
   "source": [
    "import matplotlib.pyplot as plt\n",
    "import pandas as pd\n",
    "import sqlite3\n",
    "from sklearn import preprocessing\n",
    "\n",
    "%matplotlib inline"
   ]
  },
  {
   "cell_type": "markdown",
   "metadata": {},
   "source": [
    "### Import Crime Rates"
   ]
  },
  {
   "cell_type": "code",
   "execution_count": 2,
   "metadata": {},
   "outputs": [],
   "source": [
    "conn = sqlite3.connect('../data/crime_census_weather_tod.db')\n",
    "\n",
    "df = pd.read_sql_query(\"select * from all_crimes\", conn)\n",
    "\n",
    "conn.close()"
   ]
  },
  {
   "cell_type": "markdown",
   "metadata": {},
   "source": [
    "### Standardize Crime Rates"
   ]
  },
  {
   "cell_type": "markdown",
   "metadata": {},
   "source": [
    "Set variable for standardization"
   ]
  },
  {
   "cell_type": "code",
   "execution_count": 3,
   "metadata": {},
   "outputs": [],
   "source": [
    "standardize = df[['crime_rate']]"
   ]
  },
  {
   "cell_type": "markdown",
   "metadata": {},
   "source": [
    "Standardize using [Power Transformer](https://scikit-learn.org/stable/modules/generated/sklearn.preprocessing.PowerTransformer.html#sklearn.preprocessing.PowerTransformer) from Scikit Learn library."
   ]
  },
  {
   "cell_type": "code",
   "execution_count": 4,
   "metadata": {},
   "outputs": [
    {
     "name": "stderr",
     "output_type": "stream",
     "text": [
      "C:\\Users\\Barbieri\\Anaconda3\\lib\\site-packages\\ipykernel_launcher.py:2: SettingWithCopyWarning: \n",
      "A value is trying to be set on a copy of a slice from a DataFrame.\n",
      "Try using .loc[row_indexer,col_indexer] = value instead\n",
      "\n",
      "See the caveats in the documentation: http://pandas.pydata.org/pandas-docs/stable/indexing.html#indexing-view-versus-copy\n",
      "  \n"
     ]
    }
   ],
   "source": [
    "power = preprocessing.PowerTransformer(method='box-cox', standardize=False)\n",
    "standardize['crs'] = power.fit_transform(standardize)"
   ]
  },
  {
   "cell_type": "markdown",
   "metadata": {},
   "source": [
    "Plot Before and After"
   ]
  },
  {
   "cell_type": "code",
   "execution_count": 5,
   "metadata": {},
   "outputs": [
    {
     "data": {
      "text/plain": [
       "<matplotlib.axes._subplots.AxesSubplot at 0x11157a79630>"
      ]
     },
     "execution_count": 5,
     "metadata": {},
     "output_type": "execute_result"
    },
    {
     "data": {
      "image/png": "[encoded data removed]",
      "text/plain": [
       "<Figure size 720x360 with 2 Axes>"
      ]
     },
     "metadata": {
      "needs_background": "light"
     },
     "output_type": "display_data"
    }
   ],
   "source": [
    "fig = plt.figure(figsize=(10,5))\n",
    "ax1 = fig.add_subplot(1,2,1)\n",
    "ax2 = fig.add_subplot(1,2,2)\n",
    "\n",
    "standardize[['crime_rate']].plot(kind='hist', ax=ax1, bins=100)\n",
    "standardize[['crs']].plot(kind='hist', ax=ax2, bins=100)"
   ]
  },
  {
   "cell_type": "markdown",
   "metadata": {},
   "source": [
    "### Classify Crime Rates"
   ]
  },
  {
   "cell_type": "markdown",
   "metadata": {},
   "source": [
    "$ High = SCR \\geq \\mu + 2\\sigma $  \n",
    "$ Medium-High = \\mu + \\sigma \\leq SCR \\lt \\mu + 2\\sigma $  \n",
    "$ Medium = \\mu - \\sigma \\leq SCR \\lt \\mu + \\sigma $  \n",
    "$ Medium-Low = \\mu - 2\\sigma \\leq SCR \\lt \\mu - \\sigma $  \n",
    "$ Low = SCR \\lt \\mu - 2\\sigma $"
   ]
  },
  {
   "cell_type": "code",
   "execution_count": 6,
   "metadata": {},
   "outputs": [],
   "source": [
    "def classifyCrimeRates(crime_rates, stats):\n",
    "    '''\n",
    "    Classify crime rates based on standardized crime rate values.\n",
    "    '''\n",
    "    range_high = float(stats['mean'] + 2*stats['std'])\n",
    "    range_low = float(stats['mean'] - 2*stats['std'])\n",
    "    range_mid_high = float(stats['mean'] + stats['std'])\n",
    "    range_mid_low = float(stats['mean'] - stats['std'])\n",
    "    cr = float(crime_rates['crs'])\n",
    "\n",
    "    if cr >= range_high:\n",
    "        crime_rate_cat = 'High'\n",
    "    if cr >= range_mid_high and cr < range_high:\n",
    "        crime_rate_cat = 'Med-High'\n",
    "    if cr >= range_mid_low and cr < range_mid_high:\n",
    "        crime_rate_cat = 'Med'\n",
    "    if cr >= range_low and cr < range_mid_low:\n",
    "        crime_rate_cat = 'Low-Med'\n",
    "    if cr < range_low:\n",
    "        crime_rate_cat = 'Low'\n",
    "\n",
    "    return crime_rate_cat"
   ]
  },
  {
   "cell_type": "code",
   "execution_count": 7,
   "metadata": {},
   "outputs": [],
   "source": [
    "stats = df[['crs']].describe().transpose()"
   ]
  },
  {
   "cell_type": "code",
   "execution_count": 8,
   "metadata": {},
   "outputs": [],
   "source": [
    "df['crime_rate_cat'] = df[['crs']].apply(classifyCrimeRates, args=(stats[['mean','std']],), axis=1)"
   ]
  },
  {
   "cell_type": "code",
   "execution_count": null,
   "metadata": {},
   "outputs": [],
   "source": [
    "df['crime_rate_cat'].value_counts().reindex(index=['Low','Low-Med','Med','Med-High','High']).plot(kind='bar', ax=ax1)"
   ]
  }
 ],
 "metadata": {
  "hide_input": false,
  "kernelspec": {
   "display_name": "Python 3",
   "language": "python",
   "name": "python3"
  },
  "language_info": {
   "codemirror_mode": {
    "name": "ipython",
    "version": 3
   },
   "file_extension": ".py",
   "mimetype": "text/x-python",
   "name": "python",
   "nbconvert_exporter": "python",
   "pygments_lexer": "ipython3",
   "version": "3.6.8"
  },
  "varInspector": {
   "cols": {
    "lenName": 16,
    "lenType": 16,
    "lenVar": 40
   },
   "kernels_config": {
    "python": {
     "delete_cmd_postfix": "",
     "delete_cmd_prefix": "del ",
     "library": "var_list.py",
     "varRefreshCmd": "print(var_dic_list())"
    },
    "r": {
     "delete_cmd_postfix": ") ",
     "delete_cmd_prefix": "rm(",
     "library": "var_list.r",
     "varRefreshCmd": "cat(var_dic_list()) "
    }
   },
   "types_to_exclude": [
    "module",
    "function",
    "builtin_function_or_method",
    "instance",
    "_Feature"
   ],
   "window_display": false
  }
 },
 "nbformat": 4,
 "nbformat_minor": 2
}
