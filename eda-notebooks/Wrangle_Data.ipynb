{
 "cells": [
  {
   "cell_type": "markdown",
   "metadata": {},
   "source": [
    "# Wrangle Data"
   ]
  },
  {
   "cell_type": "code",
   "execution_count": 1,
   "metadata": {},
   "outputs": [],
   "source": [
    "import pandas as pd\n",
    "import datetime\n",
    "import sqlite3\n",
    "import zipfile"
   ]
  },
  {
   "cell_type": "markdown",
   "metadata": {},
   "source": [
    "### Import Data\n",
    "\n",
    "Crime Data:\n",
    "- ZIP File."
   ]
  },
  {
   "cell_type": "code",
   "execution_count": 2,
   "metadata": {},
   "outputs": [],
   "source": [
    "crime_zip = zipfile.ZipFile('../data/dc-crime-data/dc-crime-data.csv.zip', mode='r')\n",
    "crime_csv = crime_zip.open('dc-crime-data.csv')\n",
    "crime_df = pd.read_csv(crime_csv)"
   ]
  },
  {
   "cell_type": "markdown",
   "metadata": {},
   "source": [
    "Weather Data\n",
    "- DB Name: weather_data\n",
    "- Table Name: weather_data"
   ]
  },
  {
   "cell_type": "code",
   "execution_count": 3,
   "metadata": {},
   "outputs": [],
   "source": [
    "conn = sqlite3.connect('../data/weather-data/weather_data.db')\n",
    "weather_df = pd.read_sql('''select * from weather_data''', conn)\n",
    "conn.close()"
   ]
  },
  {
   "cell_type": "markdown",
   "metadata": {},
   "source": [
    "Census Data\n",
    "\n",
    "- DB Name: census_bg\n",
    "- Table Name: census_blockgroup"
   ]
  },
  {
   "cell_type": "code",
   "execution_count": 4,
   "metadata": {},
   "outputs": [],
   "source": [
    "conn = sqlite3.connect('../data/census-data/census_bg.db')\n",
    "census_df = pd.read_sql('''select * from census_blockgroup''', conn)\n",
    "conn.close()"
   ]
  },
  {
   "cell_type": "markdown",
   "metadata": {},
   "source": [
    "### Wrangle Data\n",
    "\n",
    "Crime Data:\n",
    "- Create year, month, day, and time of day variables. TOD staddles mid-night, means interpretation of TOD is not continuous for the Midnight category."
   ]
  },
  {
   "cell_type": "code",
   "execution_count": 5,
   "metadata": {},
   "outputs": [],
   "source": [
    "def assign_tod(row):\n",
    "    '''\n",
    "    Assign time of day (TOD) based on the hour.\n",
    "    '''\n",
    "    try:\n",
    "        timestamp = pd.Timestamp(row['START_DATE'])\n",
    "\n",
    "        year = timestamp.year\n",
    "        month = timestamp.month\n",
    "        day = timestamp.day\n",
    "        start_hour = timestamp.time().hour\n",
    "\n",
    "        if 23 <= start_hour:\n",
    "            time_of_day = 'Midnight'\n",
    "        if 0 <= start_hour < 2:\n",
    "            time_of_day = 'Midnight'\n",
    "        elif 2 <= start_hour < 5:\n",
    "            time_of_day = 'Late Night'\n",
    "        elif 5 <= start_hour < 8:\n",
    "            time_of_day = 'Early Morning'\n",
    "        elif 8 <= start_hour < 11:\n",
    "            time_of_day = 'Morning'\n",
    "        elif 11 <= start_hour < 14:\n",
    "            time_of_day = 'Afternoon'\n",
    "        elif 14 <= start_hour < 17:\n",
    "            time_of_day = 'Mid Afternoon'\n",
    "        elif 17 <= start_hour < 20:\n",
    "            time_of_day = 'Evening'\n",
    "        elif 20 <= start_hour < 23:\n",
    "            time_of_day = 'Night'\n",
    "    except:\n",
    "        year, month, day, time_of_day = '','','',''\n",
    "\n",
    "    return year, month, day, time_of_day"
   ]
  },
  {
   "cell_type": "code",
   "execution_count": 6,
   "metadata": {},
   "outputs": [],
   "source": [
    "crime_df[['year','month','day','tod']] = crime_df.apply(assign_tod, axis=1, result_type='expand')"
   ]
  },
  {
   "cell_type": "markdown",
   "metadata": {},
   "source": [
    "Weather Data:\n",
    "- Remove negative time values, that is, time before 1970.\n",
    "- Convert date-time to a format to match to the crime data, named \"crime_time\".\n",
    "- Rename variables.\n",
    "- Delete those that are non-numeric (one could encoding these variables, theoretically)."
   ]
  },
  {
   "cell_type": "code",
   "execution_count": 7,
   "metadata": {},
   "outputs": [],
   "source": [
    "def convertTime(row):\n",
    "    '''\n",
    "    Convert time elapsed from 1/1/1970 to YYYY-MM-DTHH:MM:SS.MMM format.\n",
    "    '''\n",
    "    time = datetime.datetime.fromtimestamp(row).strftime('%Y-%m-%dT%H:%M:%S.000')\n",
    "\n",
    "    return time"
   ]
  },
  {
   "cell_type": "code",
   "execution_count": 8,
   "metadata": {},
   "outputs": [],
   "source": [
    "#There are negative time values that must be removed.\n",
    "weather_df = weather_df[weather_df['currently_time'] > 0]\n",
    "\n",
    "#Convert time to format shared by crime data.\n",
    "weather_df['crime_time_format'] = weather_df['currently_time'].apply(convertTime)\n",
    "\n",
    "#Rename and drop columns.\n",
    "rename_cols = dict(currently_apparentTemperature = 'apparent_temp',\n",
    "                   currently_cloudCover = 'cloud_cover',\n",
    "                   currently_dewPoint = 'dew_point',\n",
    "                   currently_humidity = 'humidity',\n",
    "                   currently_icon = 'icon',\n",
    "                   currently_precipIntensity = 'percip_intensity',\n",
    "                   currently_precipProbability = 'percip_probability',\n",
    "                   currently_precipType = 'percip_type',\n",
    "                   currently_pressure = 'pressure',\n",
    "                   currently_summary = 'summary',\n",
    "                   currently_temperature = 'temperature',\n",
    "                   currently_time = 'time',\n",
    "                   currently_uvIndex = 'uv_index',\n",
    "                   currently_visibility = 'visibility',\n",
    "                   currently_windBearing = 'wind_bearing',\n",
    "                   currently_windGust = 'wind_gust',\n",
    "                   currently_windSpeed = 'wind_speed',\n",
    "                   latitude = 'weather_latitude',\n",
    "                   longitude = 'weather_longitude')\n",
    "drop_cols = ['index','code','summary','icon','error','percip_type']\n",
    "\n",
    "weather_df.rename(columns=rename_cols, inplace=True)\n",
    "weather_df.drop(labels=drop_cols, axis='columns', inplace=True)"
   ]
  },
  {
   "cell_type": "markdown",
   "metadata": {},
   "source": [
    "Census Data"
   ]
  },
  {
   "cell_type": "code",
   "execution_count": 9,
   "metadata": {},
   "outputs": [],
   "source": [
    "#Fill NA values and values less than 0 with the mean of values greater than zero.\n",
    "columns = ['TotalPop','TPopMargin','UnWgtSampleCtPop','PerCapitaIncome','MedianHouseholdInc',\n",
    "           'MedianAge','HousingUnits','UnweightedSampleHousingUnits']\n",
    "\n",
    "for col in columns:\n",
    "    #Edit string (object) columns to numeric (float).\n",
    "    if census_df[col].dtypes == 'object':\n",
    "        numeric_column = pd.to_numeric(census_df[col], errors = 'coerce')\n",
    "        census_df[col] =  numeric_column\n",
    "\n",
    "    #Calculate Mean.\n",
    "    mean = census_df[census_df[col] > 0][col].mean()\n",
    "\n",
    "    #Fill NA with a dictionary of column name and the mean value.\n",
    "    census_df.fillna(value={col: mean}, inplace=True)\n",
    "\n",
    "    #Replace values less than zero with the mean.\n",
    "    census_df[census_df[col] < 0] = mean\n",
    "\n",
    "#Keep population values greater than zero.\n",
    "census_df = census_df.loc[census_df['TotalPop'] > 0]\n",
    "\n",
    "#Reformat columns and rename year column.\n",
    "census_df['BlockGroup'] = census_df['BlockGroup'].astype(str).replace(']]', '', regex=True)\n",
    "census_df['BlockGroup'] = census_df['BlockGroup'].astype(str).replace('\\.0', '', regex=True)\n",
    "census_df['Tract'] = census_df['Tract'].astype(str).replace('\\.0', '', regex=True)\n",
    "census_df['Tract'] = census_df['Tract'].apply(lambda x: x.zfill(6))\n",
    "census_df['Year'] = census_df['Year'].astype(str).replace('\\.0', '', regex=True)\n",
    "census_df.rename(columns=dict(Year = 'census_year'), inplace=True)\n",
    "\n",
    "#Create an index to merge with crime data.\n",
    "census_df['index'] = census_df['Tract'] + census_df['BlockGroup'] + census_df['census_year']\n",
    "census_df_nodup = census_df.drop_duplicates(subset='index')"
   ]
  },
  {
   "cell_type": "markdown",
   "metadata": {},
   "source": [
    "### Merge Weather and Crime Data\n",
    "\n",
    "- Merge weather and crime data before aggregating."
   ]
  },
  {
   "cell_type": "code",
   "execution_count": 10,
   "metadata": {},
   "outputs": [
    {
     "ename": "NameError",
     "evalue": "name 'crime_df_wr' is not defined",
     "output_type": "error",
     "traceback": [
      "\u001b[1;31m---------------------------------------------------------------------------\u001b[0m",
      "\u001b[1;31mNameError\u001b[0m                                 Traceback (most recent call last)",
      "\u001b[1;32m<ipython-input-10-d2101491583d>\u001b[0m in \u001b[0;36m<module>\u001b[1;34m\u001b[0m\n\u001b[1;32m----> 1\u001b[1;33m crime_weather_mr = crime_df_wr.merge(weather_df_wr,\n\u001b[0m\u001b[0;32m      2\u001b[0m                                      \u001b[0mhow\u001b[0m\u001b[1;33m=\u001b[0m\u001b[1;34m'left'\u001b[0m\u001b[1;33m,\u001b[0m\u001b[1;33m\u001b[0m\u001b[1;33m\u001b[0m\u001b[0m\n\u001b[0;32m      3\u001b[0m                                      \u001b[0mleft_on\u001b[0m\u001b[1;33m=\u001b[0m\u001b[1;33m[\u001b[0m\u001b[1;34m'LATITUDE'\u001b[0m\u001b[1;33m,\u001b[0m\u001b[1;34m'LONGITUDE'\u001b[0m\u001b[1;33m,\u001b[0m\u001b[1;34m'START_DATE'\u001b[0m\u001b[1;33m]\u001b[0m\u001b[1;33m,\u001b[0m\u001b[1;33m\u001b[0m\u001b[1;33m\u001b[0m\u001b[0m\n\u001b[0;32m      4\u001b[0m                                      right_on=['weather_latitude','weather_longitude','crime_time_format'])\n",
      "\u001b[1;31mNameError\u001b[0m: name 'crime_df_wr' is not defined"
     ]
    }
   ],
   "source": [
    "crime_weather_mr = crime_df_wr.merge(weather_df_wr,\n",
    "                                     how='left',\n",
    "                                     left_on=['LATITUDE','LONGITUDE','START_DATE'],\n",
    "                                     right_on=['weather_latitude','weather_longitude','crime_time_format'])"
   ]
  },
  {
   "cell_type": "markdown",
   "metadata": {},
   "source": [
    "### Aggregate Crime/Weather Data"
   ]
  },
  {
   "cell_type": "markdown",
   "metadata": {},
   "source": [
    "- Set \"by_crime_type\" to indicate whether to aggregate all crimes to by crime table (violent/non-violent).\n",
    "- Count REPORT_DAT, since data is collected from MPD based on report date. This is like the most reliable variable to count instances of reported crime.\n",
    "- For all variables except REPORT_DAT, we want to average. In this case, we average weather data across the TOD blocks."
   ]
  },
  {
   "cell_type": "code",
   "execution_count": null,
   "metadata": {},
   "outputs": [],
   "source": [
    "by_crime_type = False"
   ]
  },
  {
   "cell_type": "code",
   "execution_count": null,
   "metadata": {},
   "outputs": [],
   "source": [
    "#Identify variables for aggregation. Count instances of REPORT_DAT and average weather variables.\n",
    "agg_vars = ['REPORT_DAT', 'apparent_temp', 'cloud_cover', 'dew_point', 'humidity',\n",
    "            'percip_intensity', 'percip_probability', 'pressure', 'temperature', 'uv_index',\n",
    "            'visibility', 'wind_bearing', 'wind_gust', 'wind_speed']\n",
    "\n",
    "agg_dict = dict()\n",
    "\n",
    "#Set aggregation method for each variable.\n",
    "for var in agg_vars:\n",
    "    if var == 'REPORT_DAT':\n",
    "        agg_dict[var] = 'size'\n",
    "    else:\n",
    "        agg_dict[var] = 'mean'\n",
    "\n",
    "#Based on user choice, aggregate by offensegroup or by all offenses.\n",
    "if by_crime_type == False:\n",
    "    crime_weather_agg = crime_weather_df.groupby(by=['BLOCK_GROUP','year','month','day','tod'], as_index=False).agg(agg_dict)\n",
    "else:\n",
    "    crime_weather_agg = crime_weather_df.groupby(by=['BLOCK_GROUP','year','month','day','tod','offensegroup'], as_index=False).agg(agg_dict)\n",
    "\n",
    "#Rename REPORT_DAT to crime_counts.\n",
    "rename_cols = dict(REPORT_DAT = 'crime_counts')\n",
    "\n",
    "crime_weather_agg.rename(columns=rename_cols, inplace=True)\n",
    "\n",
    "#Create Index variable to merge with US Census data.\n",
    "crime_weather_agg['index'] = crime_weather_agg['BLOCK_GROUP'] + crime_weather_agg['year'].astype('str')\n",
    "crime_weather_agg['index'] = crime_weather_agg['index'].str.replace(\" \",\"\")"
   ]
  },
  {
   "cell_type": "markdown",
   "metadata": {},
   "source": [
    "### Merge Weather-Crime and Census Data"
   ]
  },
  {
   "cell_type": "code",
   "execution_count": null,
   "metadata": {},
   "outputs": [],
   "source": [
    "if by_crime_type == False:\n",
    "    crime_weather_census = crime_weather_agg.merge(census_df_wr, how='left', on='index')\n",
    "else:\n",
    "    crime_weather_census = crime_weather_agg.merge(census_df_wr, how='left', on='index')"
   ]
  },
  {
   "cell_type": "markdown",
   "metadata": {},
   "source": [
    "### Calculate Crime Rates\n",
    "\n",
    "- Calculate crime rates per 100,000 people.\n",
    "- Remove instances of blank Census population data.\n",
    "\n",
    "$$\\text{Crime Rate}_{year, month, day, tod, bg, crime} = \\frac{\\text{Total Crime Count}_{year,month,day,tod,bg,crime}}{\\text{Total Population}_{year,month,day,tod,bg,crime}} * 100,000$$"
   ]
  },
  {
   "cell_type": "code",
   "execution_count": null,
   "metadata": {},
   "outputs": [],
   "source": [
    "#Remove blank Census data\n",
    "crime_weather_census_na = crime_weather_census.dropna(axis='index', how='any', subset=['TotalPop']).reset_index(drop=True)\n",
    "\n",
    "#Calculate Crime Rates per 100,000 people\n",
    "crime_weather_census_na['crime_rate'] = (crime_weather_census['crime_counts'] / crime_weather_census['TotalPop'])*100000"
   ]
  }
 ],
 "metadata": {
  "hide_input": false,
  "kernelspec": {
   "display_name": "Python 3",
   "language": "python",
   "name": "python3"
  },
  "language_info": {
   "codemirror_mode": {
    "name": "ipython",
    "version": 3
   },
   "file_extension": ".py",
   "mimetype": "text/x-python",
   "name": "python",
   "nbconvert_exporter": "python",
   "pygments_lexer": "ipython3",
   "version": "3.6.8"
  },
  "varInspector": {
   "cols": {
    "lenName": 16,
    "lenType": 16,
    "lenVar": 40
   },
   "kernels_config": {
    "python": {
     "delete_cmd_postfix": "",
     "delete_cmd_prefix": "del ",
     "library": "var_list.py",
     "varRefreshCmd": "print(var_dic_list())"
    },
    "r": {
     "delete_cmd_postfix": ") ",
     "delete_cmd_prefix": "rm(",
     "library": "var_list.r",
     "varRefreshCmd": "cat(var_dic_list()) "
    }
   },
   "position": {
    "height": "278px",
    "left": "1555px",
    "right": "20px",
    "top": "120px",
    "width": "329px"
   },
   "types_to_exclude": [
    "module",
    "function",
    "builtin_function_or_method",
    "instance",
    "_Feature"
   ],
   "window_display": false
  }
 },
 "nbformat": 4,
 "nbformat_minor": 2
}
