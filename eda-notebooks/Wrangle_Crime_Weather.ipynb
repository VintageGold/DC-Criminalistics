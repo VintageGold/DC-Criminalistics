{
 "cells": [
  {
   "cell_type": "markdown",
   "metadata": {},
   "source": [
    "### Import Libraries"
   ]
  },
  {
   "cell_type": "code",
   "execution_count": 1,
   "metadata": {},
   "outputs": [],
   "source": [
    "import pandas as pd\n",
    "import datetime\n",
    "import sqlite3\n",
    "import zipfile"
   ]
  },
  {
   "cell_type": "markdown",
   "metadata": {},
   "source": [
    "### Import Data\n",
    "\n",
    "Crime Data:\n",
    "- ZIP File."
   ]
  },
  {
   "cell_type": "code",
   "execution_count": 2,
   "metadata": {},
   "outputs": [],
   "source": [
    "crime_zip = zipfile.ZipFile(\"c:/users/barbieri/dsc-program/DC-Criminalistics/data/dc-crime-data/dc-crime-data.csv.zip\", mode='r')\n",
    "crime_csv = crime_zip.open('dc-crime-data.csv')\n",
    "crime_df = pd.read_csv(crime_csv)"
   ]
  },
  {
   "cell_type": "markdown",
   "metadata": {},
   "source": [
    "Weather Data\n",
    "- DB Name: weather_data\n",
    "- Table Name: weather_data"
   ]
  },
  {
   "cell_type": "code",
   "execution_count": 3,
   "metadata": {},
   "outputs": [],
   "source": [
    "conn = sqlite3.connect('c:/users/barbieri/dsc-program/DC-Criminalistics/data/weather-data/weather_data.db')\n",
    "weather_df = pd.read_sql('''select * from weather_data;''', conn)\n",
    "conn.close()"
   ]
  },
  {
   "cell_type": "markdown",
   "metadata": {},
   "source": [
    "Census Data\n",
    "\n",
    "- DB Name: census_bg\n",
    "- Table Name: census_blockgroup"
   ]
  },
  {
   "cell_type": "code",
   "execution_count": 4,
   "metadata": {},
   "outputs": [],
   "source": [
    "conn = sqlite3.connect('c:/users/barbieri/dsc-program/DC-Criminalistics/data/census-data/census_bg.db')\n",
    "census_df = pd.read_sql('''select * from census_blockgroup;''', conn)\n",
    "conn.close()"
   ]
  },
  {
   "cell_type": "markdown",
   "metadata": {},
   "source": [
    "### Wrangle Data\n",
    "\n",
    "Crime Data:\n",
    "- Create year, month, and time of day variables."
   ]
  },
  {
   "cell_type": "code",
   "execution_count": 5,
   "metadata": {},
   "outputs": [],
   "source": [
    "def assign_tod(row):\n",
    "    try:\n",
    "        timestamp = pd.Timestamp(row['START_DATE'])\n",
    "        \n",
    "        year = timestamp.year\n",
    "        month = timestamp.month\n",
    "\n",
    "        start_hour = timestamp.time().hour\n",
    "\n",
    "        if 0 <= start_hour < 3:\n",
    "            time_of_day = 'Midnight'\n",
    "        elif 3 <= start_hour < 6:\n",
    "            time_of_day = 'Early Morning'\n",
    "        elif 6 <= start_hour < 12:\n",
    "            time_of_day = 'Morning'\n",
    "        elif 12 <= start_hour < 18:\n",
    "            time_of_day = 'Afternoon'\n",
    "        elif 18 <= start_hour < 21:\n",
    "            time_of_day = 'Evening'\n",
    "        elif 21 <= start_hour <= 23:\n",
    "            time_of_day = 'Night'\n",
    "    except:\n",
    "        year, month, time_of_day = '','',''\n",
    "\n",
    "    return year, month, time_of_day"
   ]
  },
  {
   "cell_type": "code",
   "execution_count": 6,
   "metadata": {},
   "outputs": [],
   "source": [
    "crime_df[['year','month','tod']] = crime_df.apply(assign_tod, axis=1, result_type='expand')"
   ]
  },
  {
   "cell_type": "markdown",
   "metadata": {},
   "source": [
    "Weather Data:\n",
    "- Remove negative time values, that is, time before 1970. Erroneous times.\n",
    "- Convert date-time to a format to match to the crime data, named \"crime_time\".\n",
    "- Rename variables.\n",
    "- Delete those that are non-numeric (one could encoding these variables, theoretically)."
   ]
  },
  {
   "cell_type": "code",
   "execution_count": 7,
   "metadata": {},
   "outputs": [],
   "source": [
    "def convertTime(row):\n",
    "    time = datetime.datetime.fromtimestamp(row).strftime('%Y-%m-%dT%H:%M:%S.000')\n",
    "\n",
    "    return time"
   ]
  },
  {
   "cell_type": "code",
   "execution_count": 8,
   "metadata": {},
   "outputs": [],
   "source": [
    "weather_df = weather_df[weather_df['currently_time'] > 0]\n",
    "weather_df['crime_time_format'] = weather_df['currently_time'].apply(convertTime)"
   ]
  },
  {
   "cell_type": "code",
   "execution_count": 9,
   "metadata": {},
   "outputs": [],
   "source": [
    "rename = dict(currently_apparentTemperature = 'apparent_temp',\n",
    "              currently_cloudCover = 'cloud_cover',\n",
    "              currently_dewPoint = 'dew_point',\n",
    "              currently_humidity = 'humidity',\n",
    "              currently_icon = 'icon',\n",
    "              currently_precipIntensity = 'percip_intensity',\n",
    "              currently_precipProbability = 'percip_probability',\n",
    "              currently_precipType = 'percip_type',\n",
    "              currently_pressure = 'pressure',\n",
    "              currently_summary = 'summary',\n",
    "              currently_temperature = 'temperature',\n",
    "              currently_time = 'time',\n",
    "              currently_uvIndex = 'uv_index',\n",
    "              currently_visibility = 'visibility',\n",
    "              currently_windBearing = 'wind_bearing',\n",
    "              currently_windGust = 'wind_gust',\n",
    "              currently_windSpeed = 'wind_speed',\n",
    "              latitude = 'weather_latitude',\n",
    "              longitude = 'weather_longitude')\n",
    "\n",
    "weather_df.rename(columns=rename, inplace=True)\n",
    "weather_df.drop(labels=['index','code','summary','icon','error','percip_type'], axis='columns', inplace=True)"
   ]
  },
  {
   "cell_type": "markdown",
   "metadata": {},
   "source": [
    "Census Data"
   ]
  },
  {
   "cell_type": "code",
   "execution_count": 10,
   "metadata": {},
   "outputs": [],
   "source": [
    "#Fill NA values and values less than 0 with the mean of values greater than zero.\n",
    "columns = ['TotalPop','TPopMargin','UnWgtSampleCtPop','PerCapitaIncome','PerCapIncMargin','MedianHouseholdInc',\n",
    "'MedHouseholdIncMargin','MedianAge','MedianAgeMargin','HousingUnits','HousingUnitsMargin',\n",
    "'UnweightedSampleHousingUnits']\n",
    "\n",
    "for col in columns:\n",
    "    #Edit string (object) columns to numeric (float).\n",
    "    if census_df[col].dtypes == 'object':\n",
    "        numeric_column = pd.to_numeric(census_df[col], errors = 'coerce')\n",
    "        census_df[col] = numeric_column\n",
    "\n",
    "    #Calculate Mean.\n",
    "    mean = census_df[census_df[col] > 0][col].mean()\n",
    "\n",
    "    #Fill NA with a dictionary of column name and the mean value\n",
    "    census_df.fillna(value={col: mean}, inplace=True)\n",
    "\n",
    "    #Replace values less than zero with the mean.\n",
    "    census_df[census_df[col] < 0] = mean\n",
    "\n",
    "#Reformat columns and rename year column.\n",
    "census_df['BlockGroup'] = census_df['BlockGroup'].astype(str).replace(']]', '', regex=True)\n",
    "census_df['BlockGroup'] = census_df['BlockGroup'].astype(str).replace('\\.0', '', regex=True)\n",
    "census_df['Tract'] = census_df['Tract'].astype(str).replace('\\.0', '', regex=True)\n",
    "census_df['Tract'] = census_df['Tract'].apply(lambda x: x.zfill(6))\n",
    "census_df['Year'] = census_df['Year'].astype(str).replace('\\.0', '', regex=True)\n",
    "census_df.rename(columns=dict(Year = 'census_year'), inplace=True)\n",
    "\n",
    "#Create an index to merge with crime data.\n",
    "census_df['index'] = census_df['Tract'] + census_df['BlockGroup'] + census_df['census_year']\n",
    "census_df_nodup = census_df.drop_duplicates(subset='index')"
   ]
  },
  {
   "cell_type": "markdown",
   "metadata": {},
   "source": [
    "### Merge Weather and Crime Data\n",
    "\n",
    "Merge weather and crime data before aggregating."
   ]
  },
  {
   "cell_type": "code",
   "execution_count": 11,
   "metadata": {},
   "outputs": [],
   "source": [
    "crime_weather_mr = crime_df.merge(weather_df,\n",
    "                                  how='left',\n",
    "                                  left_on=['LATITUDE','LONGITUDE','START_DATE'],\n",
    "                                  right_on=['weather_latitude','weather_longitude','crime_time_format'])"
   ]
  },
  {
   "cell_type": "markdown",
   "metadata": {},
   "source": [
    "### Aggregate Crime/Weather Data"
   ]
  },
  {
   "cell_type": "code",
   "execution_count": 12,
   "metadata": {},
   "outputs": [],
   "source": [
    "agg_vars = ['offensegroup', 'apparent_temp', 'cloud_cover', 'dew_point', 'humidity',\n",
    "            'percip_intensity', 'percip_probability', 'pressure', 'temperature', 'uv_index',\n",
    "            'visibility', 'wind_bearing', 'wind_gust', 'wind_speed']"
   ]
  },
  {
   "cell_type": "code",
   "execution_count": 13,
   "metadata": {},
   "outputs": [],
   "source": [
    "agg_dict = dict()\n",
    "\n",
    "for var in agg_vars:\n",
    "    if var == 'offensegroup':\n",
    "        agg_dict[var] = 'size'\n",
    "    else:\n",
    "        agg_dict[var] = 'mean'"
   ]
  },
  {
   "cell_type": "code",
   "execution_count": 24,
   "metadata": {},
   "outputs": [],
   "source": [
    "crime_weather_agg = crime_weather_mr.groupby(by=['BLOCK_GROUP','year','month','tod'], as_index=False).agg(agg_dict)"
   ]
  },
  {
   "cell_type": "markdown",
   "metadata": {},
   "source": [
    "### Merge Weather-Crime and Census Data"
   ]
  },
  {
   "cell_type": "code",
   "execution_count": 17,
   "metadata": {},
   "outputs": [],
   "source": [
    "crime_weather_agg['index'] = crime_weather_agg['BLOCK_GROUP'] + crime_weather_agg['year'].astype('str')\n",
    "crime_weather_agg['index'] = crime_weather_agg['index'].str.replace(\" \",\"\")"
   ]
  },
  {
   "cell_type": "code",
   "execution_count": 18,
   "metadata": {},
   "outputs": [],
   "source": [
    "crime_weather_census = crime_weather_agg.merge(census_df, how='left', on='index')"
   ]
  },
  {
   "cell_type": "code",
   "execution_count": 19,
   "metadata": {},
   "outputs": [
    {
     "data": {
      "text/plain": [
       "Index(['BLOCK_GROUP', 'year', 'month', 'tod', 'offensegroup', 'apparent_temp',\n",
       "       'cloud_cover', 'dew_point', 'humidity', 'percip_intensity',\n",
       "       'percip_probability', 'pressure', 'temperature', 'uv_index',\n",
       "       'visibility', 'wind_bearing', 'wind_gust', 'wind_speed', 'index',\n",
       "       'TotalPop', 'TPopMargin', 'UnWgtSampleCtPop', 'PerCapitaIncome',\n",
       "       'PerCapIncMargin', 'MedianHouseholdInc', 'MedHouseholdIncMargin',\n",
       "       'MedianAge', 'MedianAgeMargin', 'HousingUnits', 'HousingUnitsMargin',\n",
       "       'UnweightedSampleHousingUnits', 'State', 'County', 'Tract',\n",
       "       'BlockGroup', 'census_year'],\n",
       "      dtype='object')"
      ]
     },
     "execution_count": 19,
     "metadata": {},
     "output_type": "execute_result"
    }
   ],
   "source": [
    "crime_weather_census.columns"
   ]
  },
  {
   "cell_type": "code",
   "execution_count": null,
   "metadata": {},
   "outputs": [],
   "source": []
  }
 ],
 "metadata": {
  "hide_input": false,
  "kernelspec": {
   "display_name": "Python 3",
   "language": "python",
   "name": "python3"
  },
  "language_info": {
   "codemirror_mode": {
    "name": "ipython",
    "version": 3
   },
   "file_extension": ".py",
   "mimetype": "text/x-python",
   "name": "python",
   "nbconvert_exporter": "python",
   "pygments_lexer": "ipython3",
   "version": "3.6.8"
  },
  "varInspector": {
   "cols": {
    "lenName": 16,
    "lenType": 16,
    "lenVar": 40
   },
   "kernels_config": {
    "python": {
     "delete_cmd_postfix": "",
     "delete_cmd_prefix": "del ",
     "library": "var_list.py",
     "varRefreshCmd": "print(var_dic_list())"
    },
    "r": {
     "delete_cmd_postfix": ") ",
     "delete_cmd_prefix": "rm(",
     "library": "var_list.r",
     "varRefreshCmd": "cat(var_dic_list()) "
    }
   },
   "position": {
    "height": "278px",
    "left": "1555px",
    "right": "20px",
    "top": "120px",
    "width": "329px"
   },
   "types_to_exclude": [
    "module",
    "function",
    "builtin_function_or_method",
    "instance",
    "_Feature"
   ],
   "window_display": false
  }
 },
 "nbformat": 4,
 "nbformat_minor": 2
}
