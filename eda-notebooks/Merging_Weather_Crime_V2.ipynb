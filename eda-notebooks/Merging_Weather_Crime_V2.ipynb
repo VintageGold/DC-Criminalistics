{
 "cells": [
  {
   "cell_type": "markdown",
   "metadata": {},
   "source": [
    "I need to fix the weather import to pull in from the DB"
   ]
  },
  {
   "cell_type": "code",
   "execution_count": 1,
   "metadata": {},
   "outputs": [],
   "source": [
    "################################################################################\n",
    "## Imports\n",
    "################################################################################\n",
    "import zipfile\n",
    "import pandas as pd\n",
    "import datetime\n",
    "import sqlite3"
   ]
  },
  {
   "cell_type": "markdown",
   "metadata": {},
   "source": [
    "# Import Data"
   ]
  },
  {
   "cell_type": "code",
   "execution_count": 96,
   "metadata": {},
   "outputs": [
    {
     "data": {
      "text/html": [
       "<div>\n",
       "<style scoped>\n",
       "    .dataframe tbody tr th:only-of-type {\n",
       "        vertical-align: middle;\n",
       "    }\n",
       "\n",
       "    .dataframe tbody tr th {\n",
       "        vertical-align: top;\n",
       "    }\n",
       "\n",
       "    .dataframe thead th {\n",
       "        text-align: right;\n",
       "    }\n",
       "</style>\n",
       "<table border=\"1\" class=\"dataframe\">\n",
       "  <thead>\n",
       "    <tr style=\"text-align: right;\">\n",
       "      <th></th>\n",
       "      <th>Unnamed: 0</th>\n",
       "      <th>TotalPop</th>\n",
       "      <th>TPopMargin</th>\n",
       "      <th>UnWgtSampleCtPop</th>\n",
       "      <th>PerCapitaIncome</th>\n",
       "      <th>PerCapIncMargin</th>\n",
       "      <th>MedianHouseholdInc</th>\n",
       "      <th>MedHouseholdIncMargin</th>\n",
       "      <th>MedianAge</th>\n",
       "      <th>MedianAgeMargin</th>\n",
       "      <th>HousingUnits</th>\n",
       "      <th>HousingUnitsMargin</th>\n",
       "      <th>UnweightedSampleHousingUnits</th>\n",
       "      <th>State</th>\n",
       "      <th>County</th>\n",
       "      <th>Tract</th>\n",
       "      <th>BlockGroup</th>\n",
       "      <th>Year</th>\n",
       "    </tr>\n",
       "  </thead>\n",
       "  <tbody>\n",
       "    <tr>\n",
       "      <th>0</th>\n",
       "      <td>0</td>\n",
       "      <td>1297.0</td>\n",
       "      <td>347.0</td>\n",
       "      <td>65.0</td>\n",
       "      <td>93642.0</td>\n",
       "      <td>28468.0</td>\n",
       "      <td>79118.0</td>\n",
       "      <td>44433.0</td>\n",
       "      <td>43.6</td>\n",
       "      <td>5.4</td>\n",
       "      <td>764.0</td>\n",
       "      <td>121.0</td>\n",
       "      <td>44.0</td>\n",
       "      <td>11</td>\n",
       "      <td>1</td>\n",
       "      <td>100</td>\n",
       "      <td>1</td>\n",
       "      <td>2009</td>\n",
       "    </tr>\n",
       "    <tr>\n",
       "      <th>1</th>\n",
       "      <td>1</td>\n",
       "      <td>1340.0</td>\n",
       "      <td>211.0</td>\n",
       "      <td>75.0</td>\n",
       "      <td>97506.0</td>\n",
       "      <td>18142.0</td>\n",
       "      <td>101853.0</td>\n",
       "      <td>48195.0</td>\n",
       "      <td>51.9</td>\n",
       "      <td>6.1</td>\n",
       "      <td>1056.0</td>\n",
       "      <td>128.0</td>\n",
       "      <td>54.0</td>\n",
       "      <td>11</td>\n",
       "      <td>1</td>\n",
       "      <td>100</td>\n",
       "      <td>2</td>\n",
       "      <td>2009</td>\n",
       "    </tr>\n",
       "    <tr>\n",
       "      <th>2</th>\n",
       "      <td>2</td>\n",
       "      <td>838.0</td>\n",
       "      <td>306.0</td>\n",
       "      <td>47.0</td>\n",
       "      <td>143164.0</td>\n",
       "      <td>71282.0</td>\n",
       "      <td>141179.0</td>\n",
       "      <td>110682.0</td>\n",
       "      <td>39.2</td>\n",
       "      <td>9.4</td>\n",
       "      <td>474.0</td>\n",
       "      <td>115.0</td>\n",
       "      <td>28.0</td>\n",
       "      <td>11</td>\n",
       "      <td>1</td>\n",
       "      <td>100</td>\n",
       "      <td>4</td>\n",
       "      <td>2009</td>\n",
       "    </tr>\n",
       "    <tr>\n",
       "      <th>3</th>\n",
       "      <td>3</td>\n",
       "      <td>1226.0</td>\n",
       "      <td>277.0</td>\n",
       "      <td>63.0</td>\n",
       "      <td>120569.0</td>\n",
       "      <td>36279.0</td>\n",
       "      <td>218333.0</td>\n",
       "      <td>111599.0</td>\n",
       "      <td>39.8</td>\n",
       "      <td>7.1</td>\n",
       "      <td>627.0</td>\n",
       "      <td>101.0</td>\n",
       "      <td>34.0</td>\n",
       "      <td>11</td>\n",
       "      <td>1</td>\n",
       "      <td>100</td>\n",
       "      <td>5</td>\n",
       "      <td>2009</td>\n",
       "    </tr>\n",
       "    <tr>\n",
       "      <th>4</th>\n",
       "      <td>4</td>\n",
       "      <td>3598.0</td>\n",
       "      <td>707.0</td>\n",
       "      <td>247.0</td>\n",
       "      <td>8189.0</td>\n",
       "      <td>4893.0</td>\n",
       "      <td>119722.0</td>\n",
       "      <td>53241.0</td>\n",
       "      <td>19.4</td>\n",
       "      <td>0.3</td>\n",
       "      <td>80.0</td>\n",
       "      <td>35.0</td>\n",
       "      <td>6.0</td>\n",
       "      <td>11</td>\n",
       "      <td>1</td>\n",
       "      <td>201</td>\n",
       "      <td>1</td>\n",
       "      <td>2009</td>\n",
       "    </tr>\n",
       "  </tbody>\n",
       "</table>\n",
       "</div>"
      ],
      "text/plain": [
       "   Unnamed: 0  TotalPop  TPopMargin  UnWgtSampleCtPop  PerCapitaIncome  \\\n",
       "0           0    1297.0       347.0              65.0          93642.0   \n",
       "1           1    1340.0       211.0              75.0          97506.0   \n",
       "2           2     838.0       306.0              47.0         143164.0   \n",
       "3           3    1226.0       277.0              63.0         120569.0   \n",
       "4           4    3598.0       707.0             247.0           8189.0   \n",
       "\n",
       "   PerCapIncMargin  MedianHouseholdInc  MedHouseholdIncMargin  MedianAge  \\\n",
       "0          28468.0             79118.0                44433.0       43.6   \n",
       "1          18142.0            101853.0                48195.0       51.9   \n",
       "2          71282.0            141179.0               110682.0       39.2   \n",
       "3          36279.0            218333.0               111599.0       39.8   \n",
       "4           4893.0            119722.0                53241.0       19.4   \n",
       "\n",
       "   MedianAgeMargin  HousingUnits  HousingUnitsMargin  \\\n",
       "0              5.4         764.0               121.0   \n",
       "1              6.1        1056.0               128.0   \n",
       "2              9.4         474.0               115.0   \n",
       "3              7.1         627.0               101.0   \n",
       "4              0.3          80.0                35.0   \n",
       "\n",
       "   UnweightedSampleHousingUnits  State  County  Tract BlockGroup  Year  \n",
       "0                          44.0     11       1    100          1  2009  \n",
       "1                          54.0     11       1    100          2  2009  \n",
       "2                          28.0     11       1    100          4  2009  \n",
       "3                          34.0     11       1    100          5  2009  \n",
       "4                           6.0     11       1    201          1  2009  "
      ]
     },
     "execution_count": 96,
     "metadata": {},
     "output_type": "execute_result"
    }
   ],
   "source": [
    "#Import directly from CSV and return a DataFrame.\n",
    "census_df = pd.read_csv('../data/census-data/FinalBlockGroupData.csv')\n",
    "census_df.head()"
   ]
  },
  {
   "cell_type": "code",
   "execution_count": 6,
   "metadata": {},
   "outputs": [
    {
     "data": {
      "text/html": [
       "<div>\n",
       "<style scoped>\n",
       "    .dataframe tbody tr th:only-of-type {\n",
       "        vertical-align: middle;\n",
       "    }\n",
       "\n",
       "    .dataframe tbody tr th {\n",
       "        vertical-align: top;\n",
       "    }\n",
       "\n",
       "    .dataframe thead th {\n",
       "        text-align: right;\n",
       "    }\n",
       "</style>\n",
       "<table border=\"1\" class=\"dataframe\">\n",
       "  <thead>\n",
       "    <tr style=\"text-align: right;\">\n",
       "      <th></th>\n",
       "      <th>index</th>\n",
       "      <th>code</th>\n",
       "      <th>currently_apparentTemperature</th>\n",
       "      <th>currently_cloudCover</th>\n",
       "      <th>currently_dewPoint</th>\n",
       "      <th>currently_humidity</th>\n",
       "      <th>currently_icon</th>\n",
       "      <th>currently_precipIntensity</th>\n",
       "      <th>currently_precipProbability</th>\n",
       "      <th>currently_precipType</th>\n",
       "      <th>...</th>\n",
       "      <th>currently_temperature</th>\n",
       "      <th>currently_time</th>\n",
       "      <th>currently_uvIndex</th>\n",
       "      <th>currently_visibility</th>\n",
       "      <th>currently_windBearing</th>\n",
       "      <th>currently_windGust</th>\n",
       "      <th>currently_windSpeed</th>\n",
       "      <th>error</th>\n",
       "      <th>latitude</th>\n",
       "      <th>longitude</th>\n",
       "    </tr>\n",
       "  </thead>\n",
       "  <tbody>\n",
       "    <tr>\n",
       "      <th>0</th>\n",
       "      <td>0</td>\n",
       "      <td>NaN</td>\n",
       "      <td>43.43</td>\n",
       "      <td>1.00</td>\n",
       "      <td>30.60</td>\n",
       "      <td>0.54</td>\n",
       "      <td>cloudy</td>\n",
       "      <td>0.0000</td>\n",
       "      <td>0.00</td>\n",
       "      <td>None</td>\n",
       "      <td>...</td>\n",
       "      <td>46.54</td>\n",
       "      <td>1.238405e+09</td>\n",
       "      <td>0.0</td>\n",
       "      <td>6.28</td>\n",
       "      <td>294.0</td>\n",
       "      <td>15.25</td>\n",
       "      <td>6.22</td>\n",
       "      <td>None</td>\n",
       "      <td>38.905255</td>\n",
       "      <td>-77.052353</td>\n",
       "    </tr>\n",
       "    <tr>\n",
       "      <th>1</th>\n",
       "      <td>1</td>\n",
       "      <td>NaN</td>\n",
       "      <td>57.10</td>\n",
       "      <td>0.17</td>\n",
       "      <td>29.94</td>\n",
       "      <td>0.35</td>\n",
       "      <td>clear-day</td>\n",
       "      <td>0.0000</td>\n",
       "      <td>0.00</td>\n",
       "      <td>None</td>\n",
       "      <td>...</td>\n",
       "      <td>57.10</td>\n",
       "      <td>1.238444e+09</td>\n",
       "      <td>3.0</td>\n",
       "      <td>5.15</td>\n",
       "      <td>311.0</td>\n",
       "      <td>19.51</td>\n",
       "      <td>8.43</td>\n",
       "      <td>None</td>\n",
       "      <td>38.906430</td>\n",
       "      <td>-77.062857</td>\n",
       "    </tr>\n",
       "    <tr>\n",
       "      <th>2</th>\n",
       "      <td>2</td>\n",
       "      <td>NaN</td>\n",
       "      <td>56.44</td>\n",
       "      <td>0.12</td>\n",
       "      <td>30.33</td>\n",
       "      <td>0.37</td>\n",
       "      <td>clear-day</td>\n",
       "      <td>0.0000</td>\n",
       "      <td>0.00</td>\n",
       "      <td>None</td>\n",
       "      <td>...</td>\n",
       "      <td>56.44</td>\n",
       "      <td>1.238447e+09</td>\n",
       "      <td>2.0</td>\n",
       "      <td>4.79</td>\n",
       "      <td>308.0</td>\n",
       "      <td>18.43</td>\n",
       "      <td>8.11</td>\n",
       "      <td>None</td>\n",
       "      <td>38.961971</td>\n",
       "      <td>-77.027957</td>\n",
       "    </tr>\n",
       "    <tr>\n",
       "      <th>3</th>\n",
       "      <td>3</td>\n",
       "      <td>NaN</td>\n",
       "      <td>47.90</td>\n",
       "      <td>1.00</td>\n",
       "      <td>47.40</td>\n",
       "      <td>0.98</td>\n",
       "      <td>fog</td>\n",
       "      <td>0.0019</td>\n",
       "      <td>0.32</td>\n",
       "      <td>rain</td>\n",
       "      <td>...</td>\n",
       "      <td>47.90</td>\n",
       "      <td>1.238324e+09</td>\n",
       "      <td>0.0</td>\n",
       "      <td>1.18</td>\n",
       "      <td>65.0</td>\n",
       "      <td>2.65</td>\n",
       "      <td>0.72</td>\n",
       "      <td>None</td>\n",
       "      <td>38.939032</td>\n",
       "      <td>-77.076820</td>\n",
       "    </tr>\n",
       "    <tr>\n",
       "      <th>4</th>\n",
       "      <td>4</td>\n",
       "      <td>NaN</td>\n",
       "      <td>55.91</td>\n",
       "      <td>0.06</td>\n",
       "      <td>30.21</td>\n",
       "      <td>0.37</td>\n",
       "      <td>clear-day</td>\n",
       "      <td>0.0000</td>\n",
       "      <td>0.00</td>\n",
       "      <td>None</td>\n",
       "      <td>...</td>\n",
       "      <td>55.91</td>\n",
       "      <td>1.238453e+09</td>\n",
       "      <td>0.0</td>\n",
       "      <td>4.71</td>\n",
       "      <td>313.0</td>\n",
       "      <td>16.67</td>\n",
       "      <td>7.44</td>\n",
       "      <td>None</td>\n",
       "      <td>38.901545</td>\n",
       "      <td>-76.979941</td>\n",
       "    </tr>\n",
       "  </tbody>\n",
       "</table>\n",
       "<p>5 rows × 22 columns</p>\n",
       "</div>"
      ],
      "text/plain": [
       "   index  code  currently_apparentTemperature  currently_cloudCover  \\\n",
       "0      0   NaN                          43.43                  1.00   \n",
       "1      1   NaN                          57.10                  0.17   \n",
       "2      2   NaN                          56.44                  0.12   \n",
       "3      3   NaN                          47.90                  1.00   \n",
       "4      4   NaN                          55.91                  0.06   \n",
       "\n",
       "   currently_dewPoint  currently_humidity currently_icon  \\\n",
       "0               30.60                0.54         cloudy   \n",
       "1               29.94                0.35      clear-day   \n",
       "2               30.33                0.37      clear-day   \n",
       "3               47.40                0.98            fog   \n",
       "4               30.21                0.37      clear-day   \n",
       "\n",
       "   currently_precipIntensity  currently_precipProbability  \\\n",
       "0                     0.0000                         0.00   \n",
       "1                     0.0000                         0.00   \n",
       "2                     0.0000                         0.00   \n",
       "3                     0.0019                         0.32   \n",
       "4                     0.0000                         0.00   \n",
       "\n",
       "  currently_precipType  ...  currently_temperature currently_time  \\\n",
       "0                 None  ...                  46.54   1.238405e+09   \n",
       "1                 None  ...                  57.10   1.238444e+09   \n",
       "2                 None  ...                  56.44   1.238447e+09   \n",
       "3                 rain  ...                  47.90   1.238324e+09   \n",
       "4                 None  ...                  55.91   1.238453e+09   \n",
       "\n",
       "   currently_uvIndex  currently_visibility  currently_windBearing  \\\n",
       "0                0.0                  6.28                  294.0   \n",
       "1                3.0                  5.15                  311.0   \n",
       "2                2.0                  4.79                  308.0   \n",
       "3                0.0                  1.18                   65.0   \n",
       "4                0.0                  4.71                  313.0   \n",
       "\n",
       "   currently_windGust  currently_windSpeed  error   latitude  longitude  \n",
       "0               15.25                 6.22   None  38.905255 -77.052353  \n",
       "1               19.51                 8.43   None  38.906430 -77.062857  \n",
       "2               18.43                 8.11   None  38.961971 -77.027957  \n",
       "3                2.65                 0.72   None  38.939032 -77.076820  \n",
       "4               16.67                 7.44   None  38.901545 -76.979941  \n",
       "\n",
       "[5 rows x 22 columns]"
      ]
     },
     "execution_count": 6,
     "metadata": {},
     "output_type": "execute_result"
    }
   ],
   "source": [
    "#Import the weather data by accessing DB table.\n",
    "conn = sqlite3.connect('../data/weather-data/weather_data.db')\n",
    "c = conn.cursor()\n",
    "weather_df = pd.read_sql('''select * from weather_data''', conn)\n",
    "weather_df.head()"
   ]
  },
  {
   "cell_type": "code",
   "execution_count": 8,
   "metadata": {},
   "outputs": [
    {
     "data": {
      "text/html": [
       "<div>\n",
       "<style scoped>\n",
       "    .dataframe tbody tr th:only-of-type {\n",
       "        vertical-align: middle;\n",
       "    }\n",
       "\n",
       "    .dataframe tbody tr th {\n",
       "        vertical-align: top;\n",
       "    }\n",
       "\n",
       "    .dataframe thead th {\n",
       "        text-align: right;\n",
       "    }\n",
       "</style>\n",
       "<table border=\"1\" class=\"dataframe\">\n",
       "  <thead>\n",
       "    <tr style=\"text-align: right;\">\n",
       "      <th></th>\n",
       "      <th>NEIGHBORHOOD_CLUSTER</th>\n",
       "      <th>CENSUS_TRACT</th>\n",
       "      <th>offensegroup</th>\n",
       "      <th>LONGITUDE</th>\n",
       "      <th>END_DATE</th>\n",
       "      <th>offense-text</th>\n",
       "      <th>SHIFT</th>\n",
       "      <th>YBLOCK</th>\n",
       "      <th>DISTRICT</th>\n",
       "      <th>WARD</th>\n",
       "      <th>...</th>\n",
       "      <th>BLOCK</th>\n",
       "      <th>START_DATE</th>\n",
       "      <th>CCN</th>\n",
       "      <th>OFFENSE</th>\n",
       "      <th>OCTO_RECORD_ID</th>\n",
       "      <th>ANC</th>\n",
       "      <th>REPORT_DAT</th>\n",
       "      <th>METHOD</th>\n",
       "      <th>location</th>\n",
       "      <th>LATITUDE</th>\n",
       "    </tr>\n",
       "  </thead>\n",
       "  <tbody>\n",
       "    <tr>\n",
       "      <th>0</th>\n",
       "      <td>cluster 5</td>\n",
       "      <td>5500.0</td>\n",
       "      <td>property</td>\n",
       "      <td>-77.052353</td>\n",
       "      <td>2009-03-30T15:50:00.000</td>\n",
       "      <td>theft/other</td>\n",
       "      <td>evening</td>\n",
       "      <td>137490.0</td>\n",
       "      <td>2.0</td>\n",
       "      <td>2.0</td>\n",
       "      <td>...</td>\n",
       "      <td>2400 - 2499 block of m street nw</td>\n",
       "      <td>2009-03-30T05:30:00.000</td>\n",
       "      <td>9041857</td>\n",
       "      <td>theft/other</td>\n",
       "      <td>09041857-01</td>\n",
       "      <td>2A</td>\n",
       "      <td>2009-03-30T20:40:00.000Z</td>\n",
       "      <td>others</td>\n",
       "      <td>38.905263228683658,-77.052355683742746</td>\n",
       "      <td>38.905255</td>\n",
       "    </tr>\n",
       "    <tr>\n",
       "      <th>1</th>\n",
       "      <td>cluster 4</td>\n",
       "      <td>202.0</td>\n",
       "      <td>property</td>\n",
       "      <td>-77.062857</td>\n",
       "      <td>2009-03-30T16:30:00.000</td>\n",
       "      <td>theft/other</td>\n",
       "      <td>evening</td>\n",
       "      <td>137621.0</td>\n",
       "      <td>2.0</td>\n",
       "      <td>2.0</td>\n",
       "      <td>...</td>\n",
       "      <td>1224 - 1299 block of wisconsin avenue nw</td>\n",
       "      <td>2009-03-30T16:20:00.000</td>\n",
       "      <td>9041858</td>\n",
       "      <td>theft/other</td>\n",
       "      <td>09041858-01</td>\n",
       "      <td>2E</td>\n",
       "      <td>2009-03-30T20:34:00.000Z</td>\n",
       "      <td>others</td>\n",
       "      <td>38.906438143434897,-77.062859682010298</td>\n",
       "      <td>38.906430</td>\n",
       "    </tr>\n",
       "    <tr>\n",
       "      <th>2</th>\n",
       "      <td>cluster 17</td>\n",
       "      <td>1804.0</td>\n",
       "      <td>violent</td>\n",
       "      <td>-77.027957</td>\n",
       "      <td>2009-03-30T00:00:00.000</td>\n",
       "      <td>robbery</td>\n",
       "      <td>evening</td>\n",
       "      <td>143785.0</td>\n",
       "      <td>4.0</td>\n",
       "      <td>4.0</td>\n",
       "      <td>...</td>\n",
       "      <td>5900 - 5999 block of georgia avenue nw</td>\n",
       "      <td>2009-03-30T17:00:00.000</td>\n",
       "      <td>9041900</td>\n",
       "      <td>robbery</td>\n",
       "      <td>09041900-01</td>\n",
       "      <td>4A</td>\n",
       "      <td>2009-03-30T21:42:00.000Z</td>\n",
       "      <td>others</td>\n",
       "      <td>38.961978891670213,-77.027959395242561</td>\n",
       "      <td>38.961971</td>\n",
       "    </tr>\n",
       "    <tr>\n",
       "      <th>3</th>\n",
       "      <td>cluster 14</td>\n",
       "      <td>1002.0</td>\n",
       "      <td>property</td>\n",
       "      <td>-77.076820</td>\n",
       "      <td>2009-03-30T07:30:00.000</td>\n",
       "      <td>motor vehicle theft</td>\n",
       "      <td>evening</td>\n",
       "      <td>141241.0</td>\n",
       "      <td>2.0</td>\n",
       "      <td>3.0</td>\n",
       "      <td>...</td>\n",
       "      <td>3810 - 3899 block of rodman street nw</td>\n",
       "      <td>2009-03-29T07:00:00.000</td>\n",
       "      <td>9041916</td>\n",
       "      <td>motor vehicle theft</td>\n",
       "      <td>09041916-01</td>\n",
       "      <td>3C</td>\n",
       "      <td>2009-03-30T22:52:00.000Z</td>\n",
       "      <td>others</td>\n",
       "      <td>38.939039936788873,-77.076822116815663</td>\n",
       "      <td>38.939032</td>\n",
       "    </tr>\n",
       "    <tr>\n",
       "      <th>4</th>\n",
       "      <td>cluster 23</td>\n",
       "      <td>8904.0</td>\n",
       "      <td>property</td>\n",
       "      <td>-76.979941</td>\n",
       "      <td>2009-03-30T20:30:00.000</td>\n",
       "      <td>theft/other</td>\n",
       "      <td>evening</td>\n",
       "      <td>137077.0</td>\n",
       "      <td>5.0</td>\n",
       "      <td>5.0</td>\n",
       "      <td>...</td>\n",
       "      <td>1600 - 1699 block of maryland avenue ne</td>\n",
       "      <td>2009-03-30T18:40:00.000</td>\n",
       "      <td>9041927</td>\n",
       "      <td>theft/other</td>\n",
       "      <td>09041927-01</td>\n",
       "      <td>5D</td>\n",
       "      <td>2009-03-30T22:40:00.000Z</td>\n",
       "      <td>others</td>\n",
       "      <td>38.901552788657312,-76.979942787227358</td>\n",
       "      <td>38.901545</td>\n",
       "    </tr>\n",
       "  </tbody>\n",
       "</table>\n",
       "<p>5 rows × 29 columns</p>\n",
       "</div>"
      ],
      "text/plain": [
       "  NEIGHBORHOOD_CLUSTER  CENSUS_TRACT offensegroup  LONGITUDE  \\\n",
       "0            cluster 5        5500.0     property -77.052353   \n",
       "1            cluster 4         202.0     property -77.062857   \n",
       "2           cluster 17        1804.0      violent -77.027957   \n",
       "3           cluster 14        1002.0     property -77.076820   \n",
       "4           cluster 23        8904.0     property -76.979941   \n",
       "\n",
       "                  END_DATE         offense-text    SHIFT    YBLOCK  DISTRICT  \\\n",
       "0  2009-03-30T15:50:00.000          theft/other  evening  137490.0       2.0   \n",
       "1  2009-03-30T16:30:00.000          theft/other  evening  137621.0       2.0   \n",
       "2  2009-03-30T00:00:00.000              robbery  evening  143785.0       4.0   \n",
       "3  2009-03-30T07:30:00.000  motor vehicle theft  evening  141241.0       2.0   \n",
       "4  2009-03-30T20:30:00.000          theft/other  evening  137077.0       5.0   \n",
       "\n",
       "   WARD  ...                                     BLOCK  \\\n",
       "0   2.0  ...          2400 - 2499 block of m street nw   \n",
       "1   2.0  ...  1224 - 1299 block of wisconsin avenue nw   \n",
       "2   4.0  ...    5900 - 5999 block of georgia avenue nw   \n",
       "3   3.0  ...     3810 - 3899 block of rodman street nw   \n",
       "4   5.0  ...   1600 - 1699 block of maryland avenue ne   \n",
       "\n",
       "                START_DATE      CCN              OFFENSE  OCTO_RECORD_ID  ANC  \\\n",
       "0  2009-03-30T05:30:00.000  9041857          theft/other     09041857-01   2A   \n",
       "1  2009-03-30T16:20:00.000  9041858          theft/other     09041858-01   2E   \n",
       "2  2009-03-30T17:00:00.000  9041900              robbery     09041900-01   4A   \n",
       "3  2009-03-29T07:00:00.000  9041916  motor vehicle theft     09041916-01   3C   \n",
       "4  2009-03-30T18:40:00.000  9041927          theft/other     09041927-01   5D   \n",
       "\n",
       "                 REPORT_DAT  METHOD                                location  \\\n",
       "0  2009-03-30T20:40:00.000Z  others  38.905263228683658,-77.052355683742746   \n",
       "1  2009-03-30T20:34:00.000Z  others  38.906438143434897,-77.062859682010298   \n",
       "2  2009-03-30T21:42:00.000Z  others  38.961978891670213,-77.027959395242561   \n",
       "3  2009-03-30T22:52:00.000Z  others  38.939039936788873,-77.076822116815663   \n",
       "4  2009-03-30T22:40:00.000Z  others  38.901552788657312,-76.979942787227358   \n",
       "\n",
       "    LATITUDE  \n",
       "0  38.905255  \n",
       "1  38.906430  \n",
       "2  38.961971  \n",
       "3  38.939032  \n",
       "4  38.901545  \n",
       "\n",
       "[5 rows x 29 columns]"
      ]
     },
     "execution_count": 8,
     "metadata": {},
     "output_type": "execute_result"
    }
   ],
   "source": [
    "#Import the crime data by unpacking the ZIP file, converting to CSV, then returning DataFrame.\n",
    "crime_zip = zipfile.ZipFile(\"../data/dc-crime-data/dc-crime-data.csv.zip\", mode='r')\n",
    "crime_csv = crime_zip.open('dc-crime-data.csv')\n",
    "crime_df = pd.read_csv(crime_csv)\n",
    "crime_df.head()"
   ]
  },
  {
   "cell_type": "markdown",
   "metadata": {},
   "source": [
    "# Wrangle Data"
   ]
  },
  {
   "cell_type": "markdown",
   "metadata": {},
   "source": [
    "### Weather Data"
   ]
  },
  {
   "cell_type": "code",
   "execution_count": 9,
   "metadata": {},
   "outputs": [],
   "source": [
    "def convertTime(row):\n",
    "    time = datetime.datetime.fromtimestamp(row).strftime('%Y-%m-%dT%H:%M:%S.000')\n",
    "\n",
    "    return time\n",
    "\n",
    "#There are negative time values that must be removed.\n",
    "weather_df = weather_df[weather_df['currently_time'] > 0]\n",
    "\n",
    "#Convert time to format shared by crime data.\n",
    "weather_df['crime_time'] = weather_df['currently_time'].apply(convertTime)\n",
    "\n",
    "#Rename and drop columns.\n",
    "rename = dict(currently_apparentTemperature = 'apparent_temp',\n",
    "currently_cloudCover = 'cloud_cover',\n",
    "currently_dewPoint = 'dew_point',\n",
    "currently_humidity = 'humidity',\n",
    "currently_icon = 'icon',\n",
    "currently_precipIntensity = 'percip_intensity',\n",
    "currently_precipProbability = 'percip_probability',\n",
    "currently_precipType = 'percip_type',\n",
    "urrently_pressure = 'pressure',\n",
    "currently_summary = 'summary',\n",
    "currently_temperature = 'temperature',\n",
    "currently_time = 'time',\n",
    "currently_uvIndex = 'uv_index',\n",
    "currently_visibility = 'visibility',\n",
    "currently_windBearing = 'wind_bearing',\n",
    "currently_windGust = 'wind_gust',\n",
    "currently_windSpeed = 'wind_speed',\n",
    "latitude = 'weather_latitude',\n",
    "longitude = 'weather_longitude')\n",
    "\n",
    "weather_df.rename(columns=rename, inplace=True)\n",
    "weather_df.drop(labels=['index','code'],axis='columns', inplace=True)"
   ]
  },
  {
   "cell_type": "code",
   "execution_count": 79,
   "metadata": {},
   "outputs": [
    {
     "data": {
      "text/html": [
       "<div>\n",
       "<style scoped>\n",
       "    .dataframe tbody tr th:only-of-type {\n",
       "        vertical-align: middle;\n",
       "    }\n",
       "\n",
       "    .dataframe tbody tr th {\n",
       "        vertical-align: top;\n",
       "    }\n",
       "\n",
       "    .dataframe thead th {\n",
       "        text-align: right;\n",
       "    }\n",
       "</style>\n",
       "<table border=\"1\" class=\"dataframe\">\n",
       "  <thead>\n",
       "    <tr style=\"text-align: right;\">\n",
       "      <th></th>\n",
       "      <th>apparent_temp</th>\n",
       "      <th>cloud_cover</th>\n",
       "      <th>dew_point</th>\n",
       "      <th>humidity</th>\n",
       "      <th>icon</th>\n",
       "      <th>percip_intensity</th>\n",
       "      <th>percip_probability</th>\n",
       "      <th>percip_type</th>\n",
       "      <th>currently_pressure</th>\n",
       "      <th>summary</th>\n",
       "      <th>...</th>\n",
       "      <th>time</th>\n",
       "      <th>uv_index</th>\n",
       "      <th>visibility</th>\n",
       "      <th>wind_bearing</th>\n",
       "      <th>wind_gust</th>\n",
       "      <th>wind_speed</th>\n",
       "      <th>error</th>\n",
       "      <th>weather_latitude</th>\n",
       "      <th>weather_longitude</th>\n",
       "      <th>crime_time</th>\n",
       "    </tr>\n",
       "  </thead>\n",
       "  <tbody>\n",
       "  </tbody>\n",
       "</table>\n",
       "<p>0 rows × 21 columns</p>\n",
       "</div>"
      ],
      "text/plain": [
       "Empty DataFrame\n",
       "Columns: [apparent_temp, cloud_cover, dew_point, humidity, icon, percip_intensity, percip_probability, percip_type, currently_pressure, summary, temperature, time, uv_index, visibility, wind_bearing, wind_gust, wind_speed, error, weather_latitude, weather_longitude, crime_time]\n",
       "Index: []\n",
       "\n",
       "[0 rows x 21 columns]"
      ]
     },
     "execution_count": 79,
     "metadata": {},
     "output_type": "execute_result"
    }
   ],
   "source": [
    "weather_df.loc[weather_df['weather_latitude'].isnull()]"
   ]
  },
  {
   "cell_type": "code",
   "execution_count": 81,
   "metadata": {},
   "outputs": [
    {
     "data": {
      "text/html": [
       "<div>\n",
       "<style scoped>\n",
       "    .dataframe tbody tr th:only-of-type {\n",
       "        vertical-align: middle;\n",
       "    }\n",
       "\n",
       "    .dataframe tbody tr th {\n",
       "        vertical-align: top;\n",
       "    }\n",
       "\n",
       "    .dataframe thead th {\n",
       "        text-align: right;\n",
       "    }\n",
       "</style>\n",
       "<table border=\"1\" class=\"dataframe\">\n",
       "  <thead>\n",
       "    <tr style=\"text-align: right;\">\n",
       "      <th></th>\n",
       "      <th>apparent_temp</th>\n",
       "      <th>cloud_cover</th>\n",
       "      <th>dew_point</th>\n",
       "      <th>humidity</th>\n",
       "      <th>icon</th>\n",
       "      <th>percip_intensity</th>\n",
       "      <th>percip_probability</th>\n",
       "      <th>percip_type</th>\n",
       "      <th>currently_pressure</th>\n",
       "      <th>summary</th>\n",
       "      <th>...</th>\n",
       "      <th>time</th>\n",
       "      <th>uv_index</th>\n",
       "      <th>visibility</th>\n",
       "      <th>wind_bearing</th>\n",
       "      <th>wind_gust</th>\n",
       "      <th>wind_speed</th>\n",
       "      <th>error</th>\n",
       "      <th>weather_latitude</th>\n",
       "      <th>weather_longitude</th>\n",
       "      <th>crime_time</th>\n",
       "    </tr>\n",
       "  </thead>\n",
       "  <tbody>\n",
       "  </tbody>\n",
       "</table>\n",
       "<p>0 rows × 21 columns</p>\n",
       "</div>"
      ],
      "text/plain": [
       "Empty DataFrame\n",
       "Columns: [apparent_temp, cloud_cover, dew_point, humidity, icon, percip_intensity, percip_probability, percip_type, currently_pressure, summary, temperature, time, uv_index, visibility, wind_bearing, wind_gust, wind_speed, error, weather_latitude, weather_longitude, crime_time]\n",
       "Index: []\n",
       "\n",
       "[0 rows x 21 columns]"
      ]
     },
     "execution_count": 81,
     "metadata": {},
     "output_type": "execute_result"
    }
   ],
   "source": [
    "weather_df.loc[weather_df['weather_longitude'].isnull()]"
   ]
  },
  {
   "cell_type": "code",
   "execution_count": 80,
   "metadata": {},
   "outputs": [
    {
     "data": {
      "text/html": [
       "<div>\n",
       "<style scoped>\n",
       "    .dataframe tbody tr th:only-of-type {\n",
       "        vertical-align: middle;\n",
       "    }\n",
       "\n",
       "    .dataframe tbody tr th {\n",
       "        vertical-align: top;\n",
       "    }\n",
       "\n",
       "    .dataframe thead th {\n",
       "        text-align: right;\n",
       "    }\n",
       "</style>\n",
       "<table border=\"1\" class=\"dataframe\">\n",
       "  <thead>\n",
       "    <tr style=\"text-align: right;\">\n",
       "      <th></th>\n",
       "      <th>apparent_temp</th>\n",
       "      <th>cloud_cover</th>\n",
       "      <th>dew_point</th>\n",
       "      <th>humidity</th>\n",
       "      <th>icon</th>\n",
       "      <th>percip_intensity</th>\n",
       "      <th>percip_probability</th>\n",
       "      <th>percip_type</th>\n",
       "      <th>currently_pressure</th>\n",
       "      <th>summary</th>\n",
       "      <th>...</th>\n",
       "      <th>time</th>\n",
       "      <th>uv_index</th>\n",
       "      <th>visibility</th>\n",
       "      <th>wind_bearing</th>\n",
       "      <th>wind_gust</th>\n",
       "      <th>wind_speed</th>\n",
       "      <th>error</th>\n",
       "      <th>weather_latitude</th>\n",
       "      <th>weather_longitude</th>\n",
       "      <th>crime_time</th>\n",
       "    </tr>\n",
       "  </thead>\n",
       "  <tbody>\n",
       "  </tbody>\n",
       "</table>\n",
       "<p>0 rows × 21 columns</p>\n",
       "</div>"
      ],
      "text/plain": [
       "Empty DataFrame\n",
       "Columns: [apparent_temp, cloud_cover, dew_point, humidity, icon, percip_intensity, percip_probability, percip_type, currently_pressure, summary, temperature, time, uv_index, visibility, wind_bearing, wind_gust, wind_speed, error, weather_latitude, weather_longitude, crime_time]\n",
       "Index: []\n",
       "\n",
       "[0 rows x 21 columns]"
      ]
     },
     "execution_count": 80,
     "metadata": {},
     "output_type": "execute_result"
    }
   ],
   "source": [
    "weather_df.loc[weather_df['crime_time'].isnull()]"
   ]
  },
  {
   "cell_type": "markdown",
   "metadata": {},
   "source": [
    "### Census Data"
   ]
  },
  {
   "cell_type": "code",
   "execution_count": 97,
   "metadata": {},
   "outputs": [],
   "source": [
    "#Fill NA values and values less than 0 with the mean of values greater than zero.\n",
    "columns = ['TotalPop','TPopMargin','UnWgtSampleCtPop','PerCapitaIncome','PerCapIncMargin','MedianHouseholdInc',\n",
    "'MedHouseholdIncMargin','MedianAge','MedianAgeMargin','HousingUnits','HousingUnitsMargin',\n",
    "'UnweightedSampleHousingUnits']\n",
    "\n",
    "for col in columns:\n",
    "    #Calculate Mean\n",
    "    mean = census_df[census_df[col] > 0][col].mean()\n",
    "\n",
    "    #Fill NA with a dictionary of column name and the mean value\n",
    "    census_df.fillna(value={col: mean}, inplace=True)\n",
    "\n",
    "    #Replace values less than zero with the mean.\n",
    "    census_df[census_df[col] < 0] = mean\n",
    "\n",
    "#Convert columns to format reflected in crime data.\n",
    "census_df['BlockGroup'] = census_df['BlockGroup'].astype(str).replace(']]', '', regex=True)\n",
    "census_df['BlockGroup'] = census_df['BlockGroup'].astype(str).replace('\\.0', '', regex=True)\n",
    "census_df['Tract'] = census_df['Tract'].astype(str).replace('\\.0', '', regex=True)\n",
    "census_df['Tract'] = census_df['Tract'].apply(lambda x: x.zfill(6))\n",
    "census_df['Year_Census'] = census_df['Year'].astype(str).replace('\\.0', '', regex=True)\n",
    "census_df_nodup.drop(labels=['Unnamed: 0','Year'], axis='columns', inplace=True)\n",
    "\n",
    "#Create an index to merge with crime data.\n",
    "census_df['index'] = census_df['Tract'] + \" \" + census_df['BlockGroup'] + \" \" + census_df['Year_Census']\n",
    "census_df_nodup = census_df.drop_duplicates(subset='index')"
   ]
  },
  {
   "cell_type": "markdown",
   "metadata": {},
   "source": [
    "### Crime Data"
   ]
  },
  {
   "cell_type": "code",
   "execution_count": 11,
   "metadata": {},
   "outputs": [],
   "source": [
    "crime_df['YEAR'] = crime_df['YEAR'].astype(str)\n",
    "crime_df['BLOCK_GROUP'] = crime_df['BLOCK_GROUP'].astype(str)\n",
    "crime_df['index'] = crime_df['BLOCK_GROUP'] + \" \" + crime_df['YEAR']"
   ]
  },
  {
   "cell_type": "markdown",
   "metadata": {},
   "source": [
    "# Merge Data"
   ]
  },
  {
   "cell_type": "markdown",
   "metadata": {},
   "source": [
    "### Weather and Crime"
   ]
  },
  {
   "cell_type": "code",
   "execution_count": 53,
   "metadata": {},
   "outputs": [
    {
     "name": "stdout",
     "output_type": "stream",
     "text": [
      "380036 381067 -1031\n"
     ]
    }
   ],
   "source": [
    "print(len(weather_df), len(crime_df), len(weather_df) - len(crime_df))"
   ]
  },
  {
   "cell_type": "code",
   "execution_count": 55,
   "metadata": {},
   "outputs": [
    {
     "data": {
      "text/plain": [
       "13"
      ]
     },
     "execution_count": 55,
     "metadata": {},
     "output_type": "execute_result"
    }
   ],
   "source": [
    "len(crime_df['START_DATE'].loc[crime_df['START_DATE'].isnull()])"
   ]
  },
  {
   "cell_type": "code",
   "execution_count": 57,
   "metadata": {},
   "outputs": [
    {
     "data": {
      "text/plain": [
       "1800        1\n",
       "1912        2\n",
       "1914        1\n",
       "1915        6\n",
       "1916        6\n",
       "1974        1\n",
       "1980        1\n",
       "1981        1\n",
       "1985        2\n",
       "1991        1\n",
       "1993        1\n",
       "1997        1\n",
       "1999        3\n",
       "2000       39\n",
       "2001        9\n",
       "2002        5\n",
       "2003        5\n",
       "2004       12\n",
       "2005       15\n",
       "2006       27\n",
       "2007      305\n",
       "2008    34172\n",
       "2009    31236\n",
       "2010    31673\n",
       "2011    33319\n",
       "2012    35194\n",
       "2013    35863\n",
       "2014    38337\n",
       "2015    37325\n",
       "2016    37141\n",
       "2017    32995\n",
       "2018    33355\n",
       "Name: START_DATE, dtype: int64"
      ]
     },
     "execution_count": 57,
     "metadata": {},
     "output_type": "execute_result"
    }
   ],
   "source": [
    "crime_df['START_DATE'].str[:4].value_counts().sort_index()"
   ]
  },
  {
   "cell_type": "code",
   "execution_count": 67,
   "metadata": {},
   "outputs": [
    {
     "data": {
      "text/plain": [
       "380063"
      ]
     },
     "execution_count": 67,
     "metadata": {},
     "output_type": "execute_result"
    }
   ],
   "source": [
    "len(crime_df[['LATITUDE','LONGITUDE','START_DATE']].drop_duplicates())"
   ]
  },
  {
   "cell_type": "code",
   "execution_count": 85,
   "metadata": {},
   "outputs": [
    {
     "data": {
      "text/plain": [
       "380036"
      ]
     },
     "execution_count": 85,
     "metadata": {},
     "output_type": "execute_result"
    }
   ],
   "source": [
    "len(weather_df[['weather_latitude','weather_longitude','crime_time']])"
   ]
  },
  {
   "cell_type": "code",
   "execution_count": 84,
   "metadata": {},
   "outputs": [
    {
     "data": {
      "text/plain": [
       "True"
      ]
     },
     "execution_count": 84,
     "metadata": {},
     "output_type": "execute_result"
    }
   ],
   "source": [
    "len(weather_df[['weather_latitude','weather_longitude','crime_time']]) == \\\n",
    "len(weather_df[['weather_latitude','weather_longitude','crime_time']].drop_duplicates())"
   ]
  },
  {
   "cell_type": "code",
   "execution_count": 89,
   "metadata": {},
   "outputs": [],
   "source": [
    "crime_weather_mr = crime_df.merge(weather_df,\n",
    "                      how='left',\n",
    "                      left_on=['LATITUDE','LONGITUDE','START_DATE'],\n",
    "                      right_on=['weather_latitude','weather_longitude','crime_time'])"
   ]
  },
  {
   "cell_type": "code",
   "execution_count": 103,
   "metadata": {},
   "outputs": [
    {
     "data": {
      "text/plain": [
       "40"
      ]
     },
     "execution_count": 103,
     "metadata": {},
     "output_type": "execute_result"
    }
   ],
   "source": [
    "len(crime_weather_mr.loc[test['weather_latitude'].isnull()])"
   ]
  },
  {
   "cell_type": "code",
   "execution_count": 100,
   "metadata": {},
   "outputs": [],
   "source": [
    "crime_weather_census_mr = crime_weather_mr.merge(census_df_nodup, \n",
    "                                                 how='left',\n",
    "                                                 on='index',\n",
    "                                                 indicator=True)"
   ]
  },
  {
   "cell_type": "code",
   "execution_count": 102,
   "metadata": {},
   "outputs": [
    {
     "data": {
      "text/plain": [
       "91901"
      ]
     },
     "execution_count": 102,
     "metadata": {},
     "output_type": "execute_result"
    }
   ],
   "source": [
    "len(crime_weather_census_mr.loc[crime_weather_census_mr['BlockGroup'].isnull(), 'START_DATE'])"
   ]
  },
  {
   "cell_type": "markdown",
   "metadata": {},
   "source": [
    "### Create DB Link"
   ]
  },
  {
   "cell_type": "code",
   "execution_count": null,
   "metadata": {},
   "outputs": [],
   "source": [
    "conn = sqlite3.connect('crime_census_weather.db')\n",
    "df.to_sql('crime_census_weather', conn)"
   ]
  }
 ],
 "metadata": {
  "hide_input": false,
  "kernelspec": {
   "display_name": "Python 3",
   "language": "python",
   "name": "python3"
  },
  "language_info": {
   "codemirror_mode": {
    "name": "ipython",
    "version": 3
   },
   "file_extension": ".py",
   "mimetype": "text/x-python",
   "name": "python",
   "nbconvert_exporter": "python",
   "pygments_lexer": "ipython3",
   "version": "3.6.8"
  },
  "varInspector": {
   "cols": {
    "lenName": 16,
    "lenType": 16,
    "lenVar": 40
   },
   "kernels_config": {
    "python": {
     "delete_cmd_postfix": "",
     "delete_cmd_prefix": "del ",
     "library": "var_list.py",
     "varRefreshCmd": "print(var_dic_list())"
    },
    "r": {
     "delete_cmd_postfix": ") ",
     "delete_cmd_prefix": "rm(",
     "library": "var_list.r",
     "varRefreshCmd": "cat(var_dic_list()) "
    }
   },
   "types_to_exclude": [
    "module",
    "function",
    "builtin_function_or_method",
    "instance",
    "_Feature"
   ],
   "window_display": false
  }
 },
 "nbformat": 4,
 "nbformat_minor": 2
}
