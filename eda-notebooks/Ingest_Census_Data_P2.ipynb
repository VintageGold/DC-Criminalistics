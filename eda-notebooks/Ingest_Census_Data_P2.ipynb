{
 "cells": [
  {
   "cell_type": "markdown",
   "metadata": {},
   "source": [
    "# Ingest Census Data: Part 2"
   ]
  },
  {
   "cell_type": "code",
   "execution_count": 1,
   "metadata": {},
   "outputs": [],
   "source": [
    "import os\n",
    "import pandas as pd\n",
    "import sqlite3"
   ]
  },
  {
   "cell_type": "code",
   "execution_count": 2,
   "metadata": {},
   "outputs": [],
   "source": [
    "def importCensusData(directory, headers=None):\n",
    "    \"\"\"\n",
    "    Import Census data and return a dataframe.\n",
    "    \"\"\"\n",
    "    data = []\n",
    "\n",
    "    with open(directory, 'r') as infile:\n",
    "        lines = infile.readlines()\n",
    "\n",
    "        for index, line in enumerate(lines):\n",
    "            if index == 0:\n",
    "                columns = line.replace('],', '').replace('[', '').replace('\\\"', '').replace(']]', '').replace('\\n','').split(',')\n",
    "            else:\n",
    "                row = line.replace('],', '').replace('[', '').replace('\\\"', '').replace(']]', '').replace('\\n','').split(',')\n",
    "                data.append(row)\n",
    "\n",
    "    if headers==None:\n",
    "        column_names = column\n",
    "    else:\n",
    "        column_names = headers\n",
    "\n",
    "    census_df = pd.DataFrame(data=data, columns=column_names)\n",
    "\n",
    "    return census_df"
   ]
  },
  {
   "cell_type": "code",
   "execution_count": 3,
   "metadata": {},
   "outputs": [],
   "source": [
    "def compileCensusData(directory, years, headers):\n",
    "    \"\"\"\n",
    "    Compile all years of Census data, return dataframe.\n",
    "    \"\"\"\n",
    "    census_df_list = []\n",
    "\n",
    "    for index, year in enumerate(years):\n",
    "        file_path = os.path.join(directory, years[int(index)] + \".txt\")\n",
    "        census_df = importCensusData(directory=file_path, headers=headers)\n",
    "        census_df['Year_census'] = int(year)\n",
    "        census_df_list.append(census_df)\n",
    "\n",
    "    census_bg = pd.concat(census_df_list).reset_index(drop=True)\n",
    "\n",
    "    return census_bg"
   ]
  },
  {
   "cell_type": "code",
   "execution_count": 4,
   "metadata": {},
   "outputs": [],
   "source": [
    "#Set Years\n",
    "bg_years = ['2009', '2013', '2014', '2015', '2016', '2017']\n",
    "\n",
    "#Set header names for Block Group database table.\n",
    "column_names = ['TotalPop','TotalPopMargin','UnWgtSampleCtPop','PerCapitaIncome',\n",
    "                'PerCapitalIncomeMargin','MedianHouseholdInc','MedianHouseholdIncMargin','MedianAge',\n",
    "                'MedianAgeMargin','HousingUnits','HousingUnitsMargin','UnweightedSampleHousingUnits',\n",
    "                'State','County','Tract','BlockGroup']"
   ]
  },
  {
   "cell_type": "code",
   "execution_count": 5,
   "metadata": {},
   "outputs": [],
   "source": [
    "folder_path = os.path.dirname('../data/census-data/BlockGroup/')\n",
    "\n",
    "#Compile all years of raw Census data into one Pandas dataframe.\n",
    "census_df = compileCensusData(directory=folder_path, years=bg_years, headers=column_names)"
   ]
  }
 ],
 "metadata": {
  "hide_input": false,
  "kernelspec": {
   "display_name": "Python 3",
   "language": "python",
   "name": "python3"
  },
  "language_info": {
   "codemirror_mode": {
    "name": "ipython",
    "version": 3
   },
   "file_extension": ".py",
   "mimetype": "text/x-python",
   "name": "python",
   "nbconvert_exporter": "python",
   "pygments_lexer": "ipython3",
   "version": "3.6.8"
  },
  "varInspector": {
   "cols": {
    "lenName": 16,
    "lenType": 16,
    "lenVar": 40
   },
   "kernels_config": {
    "python": {
     "delete_cmd_postfix": "",
     "delete_cmd_prefix": "del ",
     "library": "var_list.py",
     "varRefreshCmd": "print(var_dic_list())"
    },
    "r": {
     "delete_cmd_postfix": ") ",
     "delete_cmd_prefix": "rm(",
     "library": "var_list.r",
     "varRefreshCmd": "cat(var_dic_list()) "
    }
   },
   "types_to_exclude": [
    "module",
    "function",
    "builtin_function_or_method",
    "instance",
    "_Feature"
   ],
   "window_display": false
  }
 },
 "nbformat": 4,
 "nbformat_minor": 2
}
