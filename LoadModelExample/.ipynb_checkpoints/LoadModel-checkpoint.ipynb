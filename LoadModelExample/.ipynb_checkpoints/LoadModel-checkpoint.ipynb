{
 "cells": [
  {
   "cell_type": "code",
   "execution_count": 1,
   "metadata": {
    "collapsed": true
   },
   "outputs": [],
   "source": [
    "import pandas as pd\n",
    "import joblib\n",
    "\n",
    "from sklearn.model_selection import train_test_split\n",
    "from sklearn.ensemble import RandomForestClassifier\n",
    "from sklearn.metrics import accuracy_score\n",
    "from sklearn.metrics import confusion_matrix\n",
    "from sklearn import preprocessing"
   ]
  },
  {
   "cell_type": "code",
   "execution_count": 2,
   "metadata": {
    "collapsed": true
   },
   "outputs": [],
   "source": [
    "pd.set_option('display.max_columns', 100)"
   ]
  },
  {
   "cell_type": "markdown",
   "metadata": {},
   "source": [
    "#### Created .csv file with added features of Date, CrimeRate, CrimeCategory (low, lowmed, med, high)\n",
    "#### Note, time for date is simply center of the 'time block'\n",
    "\n",
    "# Need to unzip the CrimeData.csv.zip file"
   ]
  },
  {
   "cell_type": "code",
   "execution_count": 3,
   "metadata": {},
   "outputs": [],
   "source": [
    "data = pd.read_csv('data/CrimeData.csv')"
   ]
  },
  {
   "cell_type": "markdown",
   "metadata": {},
   "source": [
    "#### Using pd.get_dummies to perform the onehotencoding"
   ]
  },
  {
   "cell_type": "code",
   "execution_count": 4,
   "metadata": {
    "collapsed": true
   },
   "outputs": [],
   "source": [
    "data2 = pd.get_dummies(data, prefix=['wkday'], columns=['Weekday'])\n",
    "data2 = pd.get_dummies(data2, prefix=['tod'], columns=['tod'])"
   ]
  },
  {
   "cell_type": "code",
   "execution_count": 5,
   "metadata": {},
   "outputs": [
    {
     "data": {
      "text/html": [
       "<div>\n",
       "<style scoped>\n",
       "    .dataframe tbody tr th:only-of-type {\n",
       "        vertical-align: middle;\n",
       "    }\n",
       "\n",
       "    .dataframe tbody tr th {\n",
       "        vertical-align: top;\n",
       "    }\n",
       "\n",
       "    .dataframe thead th {\n",
       "        text-align: right;\n",
       "    }\n",
       "</style>\n",
       "<table border=\"1\" class=\"dataframe\">\n",
       "  <thead>\n",
       "    <tr style=\"text-align: right;\">\n",
       "      <th></th>\n",
       "      <th>Unnamed: 0</th>\n",
       "      <th>year</th>\n",
       "      <th>month</th>\n",
       "      <th>day</th>\n",
       "      <th>offensegroup</th>\n",
       "      <th>apparent_temp</th>\n",
       "      <th>cloud_cover</th>\n",
       "      <th>dew_point</th>\n",
       "      <th>humidity</th>\n",
       "      <th>percip_intensity</th>\n",
       "      <th>percip_probability</th>\n",
       "      <th>pressure</th>\n",
       "      <th>temperature</th>\n",
       "      <th>uv_index</th>\n",
       "      <th>visibility</th>\n",
       "      <th>wind_bearing</th>\n",
       "      <th>wind_gust</th>\n",
       "      <th>wind_speed</th>\n",
       "      <th>TotalPop</th>\n",
       "      <th>PerCapitaIncome</th>\n",
       "      <th>MedianHouseholdInc</th>\n",
       "      <th>MedianAge</th>\n",
       "      <th>HousingUnits</th>\n",
       "      <th>Date</th>\n",
       "      <th>CrimeRate</th>\n",
       "      <th>CrimeCategory</th>\n",
       "      <th>BlockGroup</th>\n",
       "      <th>wkday_0.0</th>\n",
       "      <th>wkday_1.0</th>\n",
       "      <th>wkday_2.0</th>\n",
       "      <th>wkday_3.0</th>\n",
       "      <th>wkday_4.0</th>\n",
       "      <th>wkday_5.0</th>\n",
       "      <th>wkday_6.0</th>\n",
       "      <th>tod_Afternoon</th>\n",
       "      <th>tod_Early Morning</th>\n",
       "      <th>tod_Evening</th>\n",
       "      <th>tod_Midnight</th>\n",
       "      <th>tod_Morning</th>\n",
       "      <th>tod_Night</th>\n",
       "    </tr>\n",
       "  </thead>\n",
       "  <tbody>\n",
       "    <tr>\n",
       "      <th>0</th>\n",
       "      <td>0</td>\n",
       "      <td>2013</td>\n",
       "      <td>1</td>\n",
       "      <td>10</td>\n",
       "      <td>1</td>\n",
       "      <td>44.43</td>\n",
       "      <td>0.34</td>\n",
       "      <td>27.77</td>\n",
       "      <td>0.52</td>\n",
       "      <td>0.0000</td>\n",
       "      <td>0.00</td>\n",
       "      <td>1031.65</td>\n",
       "      <td>44.43</td>\n",
       "      <td>0.0</td>\n",
       "      <td>5.77</td>\n",
       "      <td>330.0</td>\n",
       "      <td>2.49</td>\n",
       "      <td>0.74</td>\n",
       "      <td>1240.0</td>\n",
       "      <td>109147.0</td>\n",
       "      <td>104083.0</td>\n",
       "      <td>37.0</td>\n",
       "      <td>743.0</td>\n",
       "      <td>2013-01-10 04:30:00</td>\n",
       "      <td>80.645161</td>\n",
       "      <td>Med</td>\n",
       "      <td>1001</td>\n",
       "      <td>0</td>\n",
       "      <td>0</td>\n",
       "      <td>0</td>\n",
       "      <td>1</td>\n",
       "      <td>0</td>\n",
       "      <td>0</td>\n",
       "      <td>0</td>\n",
       "      <td>0</td>\n",
       "      <td>1</td>\n",
       "      <td>0</td>\n",
       "      <td>0</td>\n",
       "      <td>0</td>\n",
       "      <td>0</td>\n",
       "    </tr>\n",
       "    <tr>\n",
       "      <th>1</th>\n",
       "      <td>1</td>\n",
       "      <td>2013</td>\n",
       "      <td>1</td>\n",
       "      <td>30</td>\n",
       "      <td>1</td>\n",
       "      <td>57.28</td>\n",
       "      <td>0.98</td>\n",
       "      <td>55.38</td>\n",
       "      <td>0.93</td>\n",
       "      <td>0.1323</td>\n",
       "      <td>0.99</td>\n",
       "      <td>996.10</td>\n",
       "      <td>57.28</td>\n",
       "      <td>0.0</td>\n",
       "      <td>3.57</td>\n",
       "      <td>110.0</td>\n",
       "      <td>4.92</td>\n",
       "      <td>1.33</td>\n",
       "      <td>1240.0</td>\n",
       "      <td>109147.0</td>\n",
       "      <td>104083.0</td>\n",
       "      <td>37.0</td>\n",
       "      <td>743.0</td>\n",
       "      <td>2013-01-30 22:30:00</td>\n",
       "      <td>80.645161</td>\n",
       "      <td>Med</td>\n",
       "      <td>1001</td>\n",
       "      <td>0</td>\n",
       "      <td>0</td>\n",
       "      <td>1</td>\n",
       "      <td>0</td>\n",
       "      <td>0</td>\n",
       "      <td>0</td>\n",
       "      <td>0</td>\n",
       "      <td>0</td>\n",
       "      <td>0</td>\n",
       "      <td>0</td>\n",
       "      <td>0</td>\n",
       "      <td>0</td>\n",
       "      <td>1</td>\n",
       "    </tr>\n",
       "    <tr>\n",
       "      <th>2</th>\n",
       "      <td>2</td>\n",
       "      <td>2013</td>\n",
       "      <td>2</td>\n",
       "      <td>4</td>\n",
       "      <td>1</td>\n",
       "      <td>32.68</td>\n",
       "      <td>0.91</td>\n",
       "      <td>18.64</td>\n",
       "      <td>0.56</td>\n",
       "      <td>0.0000</td>\n",
       "      <td>0.00</td>\n",
       "      <td>1015.17</td>\n",
       "      <td>32.68</td>\n",
       "      <td>0.0</td>\n",
       "      <td>6.67</td>\n",
       "      <td>161.0</td>\n",
       "      <td>1.22</td>\n",
       "      <td>0.36</td>\n",
       "      <td>1240.0</td>\n",
       "      <td>109147.0</td>\n",
       "      <td>104083.0</td>\n",
       "      <td>37.0</td>\n",
       "      <td>743.0</td>\n",
       "      <td>2013-02-04 17:30:00</td>\n",
       "      <td>80.645161</td>\n",
       "      <td>Med</td>\n",
       "      <td>1001</td>\n",
       "      <td>1</td>\n",
       "      <td>0</td>\n",
       "      <td>0</td>\n",
       "      <td>0</td>\n",
       "      <td>0</td>\n",
       "      <td>0</td>\n",
       "      <td>0</td>\n",
       "      <td>0</td>\n",
       "      <td>0</td>\n",
       "      <td>1</td>\n",
       "      <td>0</td>\n",
       "      <td>0</td>\n",
       "      <td>0</td>\n",
       "    </tr>\n",
       "    <tr>\n",
       "      <th>3</th>\n",
       "      <td>3</td>\n",
       "      <td>2013</td>\n",
       "      <td>2</td>\n",
       "      <td>14</td>\n",
       "      <td>1</td>\n",
       "      <td>43.85</td>\n",
       "      <td>0.00</td>\n",
       "      <td>28.66</td>\n",
       "      <td>0.55</td>\n",
       "      <td>0.0053</td>\n",
       "      <td>0.22</td>\n",
       "      <td>1016.32</td>\n",
       "      <td>43.85</td>\n",
       "      <td>4.0</td>\n",
       "      <td>6.54</td>\n",
       "      <td>305.0</td>\n",
       "      <td>6.58</td>\n",
       "      <td>2.49</td>\n",
       "      <td>1240.0</td>\n",
       "      <td>109147.0</td>\n",
       "      <td>104083.0</td>\n",
       "      <td>37.0</td>\n",
       "      <td>743.0</td>\n",
       "      <td>2013-02-14 15:00:00</td>\n",
       "      <td>80.645161</td>\n",
       "      <td>Med</td>\n",
       "      <td>1001</td>\n",
       "      <td>0</td>\n",
       "      <td>0</td>\n",
       "      <td>0</td>\n",
       "      <td>1</td>\n",
       "      <td>0</td>\n",
       "      <td>0</td>\n",
       "      <td>0</td>\n",
       "      <td>1</td>\n",
       "      <td>0</td>\n",
       "      <td>0</td>\n",
       "      <td>0</td>\n",
       "      <td>0</td>\n",
       "      <td>0</td>\n",
       "    </tr>\n",
       "    <tr>\n",
       "      <th>4</th>\n",
       "      <td>4</td>\n",
       "      <td>2013</td>\n",
       "      <td>3</td>\n",
       "      <td>8</td>\n",
       "      <td>1</td>\n",
       "      <td>44.84</td>\n",
       "      <td>0.72</td>\n",
       "      <td>27.55</td>\n",
       "      <td>0.44</td>\n",
       "      <td>0.0000</td>\n",
       "      <td>0.00</td>\n",
       "      <td>1020.88</td>\n",
       "      <td>48.26</td>\n",
       "      <td>1.0</td>\n",
       "      <td>6.40</td>\n",
       "      <td>339.0</td>\n",
       "      <td>16.90</td>\n",
       "      <td>7.55</td>\n",
       "      <td>1240.0</td>\n",
       "      <td>109147.0</td>\n",
       "      <td>104083.0</td>\n",
       "      <td>37.0</td>\n",
       "      <td>743.0</td>\n",
       "      <td>2013-03-08 15:00:00</td>\n",
       "      <td>80.645161</td>\n",
       "      <td>Med</td>\n",
       "      <td>1001</td>\n",
       "      <td>0</td>\n",
       "      <td>0</td>\n",
       "      <td>0</td>\n",
       "      <td>0</td>\n",
       "      <td>1</td>\n",
       "      <td>0</td>\n",
       "      <td>0</td>\n",
       "      <td>1</td>\n",
       "      <td>0</td>\n",
       "      <td>0</td>\n",
       "      <td>0</td>\n",
       "      <td>0</td>\n",
       "      <td>0</td>\n",
       "    </tr>\n",
       "  </tbody>\n",
       "</table>\n",
       "</div>"
      ],
      "text/plain": [
       "   Unnamed: 0  year  month  day  offensegroup  apparent_temp  cloud_cover  \\\n",
       "0           0  2013      1   10             1          44.43         0.34   \n",
       "1           1  2013      1   30             1          57.28         0.98   \n",
       "2           2  2013      2    4             1          32.68         0.91   \n",
       "3           3  2013      2   14             1          43.85         0.00   \n",
       "4           4  2013      3    8             1          44.84         0.72   \n",
       "\n",
       "   dew_point  humidity  percip_intensity  percip_probability  pressure  \\\n",
       "0      27.77      0.52            0.0000                0.00   1031.65   \n",
       "1      55.38      0.93            0.1323                0.99    996.10   \n",
       "2      18.64      0.56            0.0000                0.00   1015.17   \n",
       "3      28.66      0.55            0.0053                0.22   1016.32   \n",
       "4      27.55      0.44            0.0000                0.00   1020.88   \n",
       "\n",
       "   temperature  uv_index  visibility  wind_bearing  wind_gust  wind_speed  \\\n",
       "0        44.43       0.0        5.77         330.0       2.49        0.74   \n",
       "1        57.28       0.0        3.57         110.0       4.92        1.33   \n",
       "2        32.68       0.0        6.67         161.0       1.22        0.36   \n",
       "3        43.85       4.0        6.54         305.0       6.58        2.49   \n",
       "4        48.26       1.0        6.40         339.0      16.90        7.55   \n",
       "\n",
       "   TotalPop  PerCapitaIncome  MedianHouseholdInc  MedianAge  HousingUnits  \\\n",
       "0    1240.0         109147.0            104083.0       37.0         743.0   \n",
       "1    1240.0         109147.0            104083.0       37.0         743.0   \n",
       "2    1240.0         109147.0            104083.0       37.0         743.0   \n",
       "3    1240.0         109147.0            104083.0       37.0         743.0   \n",
       "4    1240.0         109147.0            104083.0       37.0         743.0   \n",
       "\n",
       "                  Date  CrimeRate CrimeCategory  BlockGroup  wkday_0.0  \\\n",
       "0  2013-01-10 04:30:00  80.645161           Med        1001          0   \n",
       "1  2013-01-30 22:30:00  80.645161           Med        1001          0   \n",
       "2  2013-02-04 17:30:00  80.645161           Med        1001          1   \n",
       "3  2013-02-14 15:00:00  80.645161           Med        1001          0   \n",
       "4  2013-03-08 15:00:00  80.645161           Med        1001          0   \n",
       "\n",
       "   wkday_1.0  wkday_2.0  wkday_3.0  wkday_4.0  wkday_5.0  wkday_6.0  \\\n",
       "0          0          0          1          0          0          0   \n",
       "1          0          1          0          0          0          0   \n",
       "2          0          0          0          0          0          0   \n",
       "3          0          0          1          0          0          0   \n",
       "4          0          0          0          1          0          0   \n",
       "\n",
       "   tod_Afternoon  tod_Early Morning  tod_Evening  tod_Midnight  tod_Morning  \\\n",
       "0              0                  1            0             0            0   \n",
       "1              0                  0            0             0            0   \n",
       "2              0                  0            1             0            0   \n",
       "3              1                  0            0             0            0   \n",
       "4              1                  0            0             0            0   \n",
       "\n",
       "   tod_Night  \n",
       "0          0  \n",
       "1          1  \n",
       "2          0  \n",
       "3          0  \n",
       "4          0  "
      ]
     },
     "execution_count": 5,
     "metadata": {},
     "output_type": "execute_result"
    }
   ],
   "source": [
    "data2.head()"
   ]
  },
  {
   "cell_type": "markdown",
   "metadata": {},
   "source": [
    "#### Labelencoding the crime categories for use in sklearn functions\n",
    "#### Note, y is used as the target.  For the purposes of this notebook, only looking at the categorical target"
   ]
  },
  {
   "cell_type": "code",
   "execution_count": 6,
   "metadata": {},
   "outputs": [
    {
     "data": {
      "text/plain": [
       "array([3, 3, 3, ..., 2, 2, 2])"
      ]
     },
     "execution_count": 6,
     "metadata": {},
     "output_type": "execute_result"
    }
   ],
   "source": [
    "le = preprocessing.LabelEncoder()\n",
    "le.fit(data['CrimeCategory'])\n",
    "y = le.transform(data2['CrimeCategory']) \n",
    "y"
   ]
  },
  {
   "cell_type": "markdown",
   "metadata": {},
   "source": [
    "#### Features to be used in the model"
   ]
  },
  {
   "cell_type": "code",
   "execution_count": 7,
   "metadata": {},
   "outputs": [],
   "source": [
    "X = data2[[#'offensegroup',\n",
    "           'BlockGroup',\n",
    "           #'year',\n",
    "           #'month',\n",
    "           #'day',\n",
    "           #'apparent_temp',\n",
    "           #'cloud_cover',\n",
    "           #'dew_point',\n",
    "           #'humidity',\n",
    "           #'CrimeCategory',\n",
    "           'percip_intensity',\n",
    "           #'percip_probability',\n",
    "           #'pressure',\n",
    "           'temperature',\n",
    "           'uv_index',\n",
    "           #'visibility',\n",
    "           #'wind_bearing',\n",
    "           #'wind_gust',\n",
    "           'wind_speed',\n",
    "           #'TotalPop',\n",
    "           #'PerCapitaIncome',\n",
    "           #'MedianHouseholdInc',\n",
    "           #'MedianAge',\n",
    "           #'HousingUnits',         \n",
    "           'tod_Evening',\n",
    "           'tod_Midnight',\n",
    "           'tod_Morning',\n",
    "           'tod_Night',\n",
    "           'tod_Afternoon',\n",
    "           'tod_Early Morning',\n",
    "           'wkday_0.0',\n",
    "           'wkday_1.0',\n",
    "           'wkday_2.0',\n",
    "           'wkday_3.0',\n",
    "           'wkday_4.0',\n",
    "           'wkday_5.0',\n",
    "           'wkday_6.0']]"
   ]
  },
  {
   "cell_type": "markdown",
   "metadata": {},
   "source": [
    "#### Creating the split for training and test data"
   ]
  },
  {
   "cell_type": "code",
   "execution_count": 8,
   "metadata": {},
   "outputs": [],
   "source": [
    "X_train, X_test, y_train, y_test = train_test_split(X, y, test_size=0.3)"
   ]
  },
  {
   "cell_type": "markdown",
   "metadata": {},
   "source": [
    "#### Running Random Forest Classifier\n",
    "#### Outputting accuracy score, as well as confusion matrix\n",
    "## Now running without census data - producing a much lower accuracy score"
   ]
  },
  {
   "cell_type": "code",
   "execution_count": 9,
   "metadata": {},
   "outputs": [
    {
     "name": "stderr",
     "output_type": "stream",
     "text": [
      "/Users/DanSchorer/anaconda/lib/python3.6/site-packages/sklearn/ensemble/forest.py:245: FutureWarning: The default value of n_estimators will change from 10 in version 0.20 to 100 in 0.22.\n",
      "  \"10 in version 0.20 to 100 in 0.22.\", FutureWarning)\n"
     ]
    },
    {
     "name": "stdout",
     "output_type": "stream",
     "text": [
      "Random Forest model\n",
      "Accuracy score = 0.427\n"
     ]
    },
    {
     "data": {
      "text/plain": [
       "array([[ 3384,   776,  3332,  1863],\n",
       "       [ 1049,  3482,  2993,  1056],\n",
       "       [ 2587,  2255, 10017,  2765],\n",
       "       [ 2371,  1338,  4633,  3211]])"
      ]
     },
     "execution_count": 9,
     "metadata": {},
     "output_type": "execute_result"
    }
   ],
   "source": [
    "model = RandomForestClassifier()\n",
    "model.fit(X_train, y_train)\n",
    "\n",
    "expected = y_test\n",
    "predicted = model.predict(X_test)\n",
    "\n",
    "print('Random Forest model')\n",
    "print('Accuracy score = %0.3f' % accuracy_score(expected, predicted))\n",
    "confusion_matrix(expected, predicted)"
   ]
  },
  {
   "cell_type": "markdown",
   "metadata": {},
   "source": [
    "#### Save the model to disk for later use"
   ]
  },
  {
   "cell_type": "code",
   "execution_count": 10,
   "metadata": {},
   "outputs": [
    {
     "data": {
      "text/plain": [
       "['RandomForestClassifier.sav']"
      ]
     },
     "execution_count": 10,
     "metadata": {},
     "output_type": "execute_result"
    }
   ],
   "source": [
    "filename = 'RandomForestClassifier.sav'\n",
    "joblib.dump(model, filename)"
   ]
  },
  {
   "cell_type": "markdown",
   "metadata": {},
   "source": [
    "#### Load the model from disk"
   ]
  },
  {
   "cell_type": "code",
   "execution_count": 11,
   "metadata": {},
   "outputs": [
    {
     "name": "stdout",
     "output_type": "stream",
     "text": [
      "0.4265155374426898\n"
     ]
    }
   ],
   "source": [
    "filename = 'RandomForestClassifier.sav'\n",
    "loaded_model = joblib.load(filename)\n",
    "result = loaded_model.score(X_test, y_test)\n",
    "print(result)"
   ]
  },
  {
   "cell_type": "markdown",
   "metadata": {},
   "source": [
    "#### Run the model on a single instance\n",
    "#### Note, this instance is from the 'X' subset above\n",
    "#### Result should produce a 0, 1, 2, or 3 - aligning to Crime Rate Categories of Low, Low/Med, Med, or High"
   ]
  },
  {
   "cell_type": "code",
   "execution_count": 13,
   "metadata": {},
   "outputs": [
    {
     "data": {
      "text/plain": [
       "3"
      ]
     },
     "execution_count": 13,
     "metadata": {},
     "output_type": "execute_result"
    }
   ],
   "source": [
    "result = model.predict(X.iloc[[500]])\n",
    "result[0]"
   ]
  },
  {
   "cell_type": "code",
   "execution_count": null,
   "metadata": {
    "collapsed": true
   },
   "outputs": [],
   "source": []
  }
 ],
 "metadata": {
  "kernelspec": {
   "display_name": "Python 3",
   "language": "python",
   "name": "python3"
  },
  "language_info": {
   "codemirror_mode": {
    "name": "ipython",
    "version": 3
   },
   "file_extension": ".py",
   "mimetype": "text/x-python",
   "name": "python",
   "nbconvert_exporter": "python",
   "pygments_lexer": "ipython3",
   "version": "3.6.1"
  }
 },
 "nbformat": 4,
 "nbformat_minor": 2
}
