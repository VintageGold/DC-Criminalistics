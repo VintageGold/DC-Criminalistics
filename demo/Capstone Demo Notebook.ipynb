{
 "cells": [
  {
   "cell_type": "markdown",
   "metadata": {},
   "source": [
    "# Transit Recommender Demo Notebook"
   ]
  },
  {
   "cell_type": "markdown",
   "metadata": {},
   "source": [
    "# Imports"
   ]
  },
  {
   "cell_type": "code",
   "execution_count": null,
   "metadata": {},
   "outputs": [],
   "source": [
    "import joblib\n",
    "import pandas as pd\n",
    "import datetime\n",
    "import requests\n",
    "import censusgeocode as cg\n",
    "import ipywidgets as widgets\n",
    "from ipywidgets import HBox, VBox"
   ]
  },
  {
   "cell_type": "markdown",
   "metadata": {},
   "source": [
    "# Import Transit data"
   ]
  },
  {
   "cell_type": "code",
   "execution_count": null,
   "metadata": {},
   "outputs": [],
   "source": [
    "df_bus = pd.read_csv('../data/wmata-data/bus_station_data_full.csv')\n",
    "df_rail = pd.read_csv('../data/wmata-data/rail_station_data_full.csv')\n",
    "df_cabi = pd.read_csv('../data/cabi-station-data/cabi_station_data_full.csv')"
   ]
  },
  {
   "cell_type": "code",
   "execution_count": null,
   "metadata": {},
   "outputs": [],
   "source": [
    "df_bus['census_index'] = df_bus['census_index'].apply(str)\n",
    "df_bus['census_index'] = df_bus['census_index'].apply(lambda x: x.zfill(7))\n",
    "\n",
    "df_rail['census_index'] = df_rail['census_index'].apply(str)\n",
    "df_rail['census_index'] = df_rail['census_index'].apply(lambda x: x.zfill(7))\n",
    "\n",
    "df_cabi['census_index'] = df_cabi['census_index'].apply(str)\n",
    "df_cabi['census_index'] = df_cabi['census_index'].apply(lambda x: x.zfill(7))"
   ]
  },
  {
   "cell_type": "markdown",
   "metadata": {},
   "source": [
    "# Load model"
   ]
  },
  {
   "cell_type": "code",
   "execution_count": null,
   "metadata": {},
   "outputs": [],
   "source": [
    "filename = '../LoadModelExample/RandomForestClassifier.sav'\n",
    "loaded_model = joblib.load(filename)"
   ]
  },
  {
   "cell_type": "markdown",
   "metadata": {},
   "source": [
    "# Defining Functions"
   ]
  },
  {
   "cell_type": "markdown",
   "metadata": {},
   "source": [
    "#### Geocode address and return census information"
   ]
  },
  {
   "cell_type": "code",
   "execution_count": null,
   "metadata": {},
   "outputs": [],
   "source": [
    "def addressLookup(address_input):\n",
    "    address = cg.onelineaddress(address_input)\n",
    "\n",
    "    addressLookup.block_group = address[0]['geographies']['2010 Census Blocks'][0]['BLKGRP']\n",
    "    addressLookup.tract = address[0]['geographies']['2010 Census Blocks'][0]['TRACT']\n",
    "    addressLookup.lat = address[0]['coordinates']['y']\n",
    "    addressLookup.lon = address[0]['coordinates']['x']"
   ]
  },
  {
   "cell_type": "markdown",
   "metadata": {},
   "source": [
    "#### Gather weather information"
   ]
  },
  {
   "cell_type": "code",
   "execution_count": null,
   "metadata": {},
   "outputs": [],
   "source": [
    "def darkSkyAPICall(lat,lon,date_time):\n",
    "\n",
    "    base_url = 'https://api.darksky.net/forecast/'\n",
    "    api_key = 'c9274e7c52c1a5b7e99be6f22db98855'\n",
    "    exclude = 'minutely, hourly, daily, flags'\n",
    "    params = {'exclude': exclude}\n",
    "\n",
    "    lat_address = lat\n",
    "    lon_address = lon\n",
    "\n",
    "    query = \"/{},{}\".format(lat_address,lon_address,date_time)\n",
    "\n",
    "    url = base_url + api_key + query\n",
    "\n",
    "    try:\n",
    "        response = requests.get(url, params=params)\n",
    "    except ConnectionError:\n",
    "        pass\n",
    "\n",
    "    try:\n",
    "        response_json = response.json()\n",
    "    except:\n",
    "        response_json = {}\n",
    "\n",
    "    darkSkyAPICall.summary = response_json['currently']['summary']\n",
    "    darkSkyAPICall.precip_intensity = response_json['currently']['precipIntensity']\n",
    "    darkSkyAPICall.precip_probability = response_json['currently']['precipProbability']\n",
    "    darkSkyAPICall.temp = response_json['currently']['temperature']\n",
    "    darkSkyAPICall.dewpoint = response_json['currently']['dewPoint']\n",
    "    darkSkyAPICall.humidity = response_json['currently']['humidity']\n",
    "    darkSkyAPICall.pressure = response_json['currently']['pressure']\n",
    "    darkSkyAPICall.wind_speed = response_json['currently']['windSpeed']\n",
    "    darkSkyAPICall.wind_gust = response_json['currently']['windGust']\n",
    "    darkSkyAPICall.wind_bearing = response_json['currently']['windBearing']\n",
    "    darkSkyAPICall.cloud_cover = response_json['currently']['cloudCover']\n",
    "    darkSkyAPICall.uv_index = response_json['currently']['uvIndex']\n",
    "    darkSkyAPICall.visibility = response_json['currently']['visibility']\n",
    "\n",
    "    weather = \"Summary: {}\".format(darkSkyAPICall.summary)\n",
    "    \n",
    "    #include print of weather to make sure all tests are working\n",
    "    \n",
    "    print(weather)"
   ]
  },
  {
   "cell_type": "markdown",
   "metadata": {},
   "source": [
    "#### Transforming user input date and time data"
   ]
  },
  {
   "cell_type": "code",
   "execution_count": null,
   "metadata": {},
   "outputs": [],
   "source": [
    "def transformTimeInput(time,am_pm):\n",
    "    time_transformed = time + ':00' + am_pm\n",
    "    return time_transformed\n",
    "\n",
    "def convert24(time): \n",
    "    if time[-2:] == \"AM\" and time[:2] == \"12\": \n",
    "        return \"00\" + time[2:-2]    \n",
    "    elif time[-2:] == \"AM\": \n",
    "        return time[:-2] \n",
    "    elif time[-2:] == \"PM\" and time[:2] == \"12\": \n",
    "        return time[:-2] \n",
    "    else: \n",
    "        return str(int(time[:2]) + 12) + time[2:8] "
   ]
  },
  {
   "cell_type": "markdown",
   "metadata": {},
   "source": [
    "#### Transform day of week"
   ]
  },
  {
   "cell_type": "code",
   "execution_count": null,
   "metadata": {},
   "outputs": [],
   "source": [
    "def weekdayTranform(mydatetime):\n",
    "    if mydatetime.weekday() == 0:\n",
    "        weekdayTranform.wkday_0 = 1\n",
    "        weekdayTranform.wkday_1 = 0\n",
    "        weekdayTranform.wkday_2 = 0\n",
    "        weekdayTranform.wkday_3 = 0\n",
    "        weekdayTranform.wkday_4 = 0\n",
    "        weekdayTranform.wkday_5 = 0\n",
    "        weekdayTranform.wkday_6 = 0\n",
    "    elif mydatetime.weekday() == 1:\n",
    "        weekdayTranform.wkday_0 = 0\n",
    "        weekdayTranform.wkday_1 = 1\n",
    "        weekdayTranform.wkday_2 = 0\n",
    "        weekdayTranform.wkday_3 = 0\n",
    "        weekdayTranform.wkday_4 = 0\n",
    "        weekdayTranform.wkday_5 = 0\n",
    "        weekdayTranform.wkday_6 = 0\n",
    "    elif mydatetime.weekday() == 2:\n",
    "        weekdayTranform.wkday_0 = 0\n",
    "        weekdayTranform.wkday_1 = 0\n",
    "        weekdayTranform.wkday_2 = 1\n",
    "        weekdayTranform.wkday_3 = 0\n",
    "        weekdayTranform.wkday_4 = 0\n",
    "        weekdayTranform.wkday_5 = 0\n",
    "        weekdayTranform.wkday_6 = 0       \n",
    "    elif mydatetime.weekday() == 3:\n",
    "        weekdayTranform.wkday_0 = 0\n",
    "        weekdayTranform.wkday_1 = 0\n",
    "        weekdayTranform.wkday_2 = 0\n",
    "        weekdayTranform.wkday_3 = 1\n",
    "        weekdayTranform.wkday_4 = 0\n",
    "        weekdayTranform.wkday_5 = 0\n",
    "        weekdayTranform.wkday_6 = 0\n",
    "    elif mydatetime.weekday() == 4:\n",
    "        weekdayTranform.wkday_0 = 0\n",
    "        weekdayTranform.wkday_1 = 0\n",
    "        weekdayTranform.wkday_2 = 0\n",
    "        weekdayTranform.wkday_3 = 0\n",
    "        weekdayTranform.wkday_4 = 1\n",
    "        weekdayTranform.wkday_5 = 0\n",
    "        weekdayTranform.wkday_6 = 0\n",
    "    elif mydatetime.weekday() == 5:\n",
    "        weekdayTranform.wkday_0 = 0\n",
    "        weekdayTranform.wkday_1 = 0\n",
    "        weekdayTranform.wkday_2 = 0\n",
    "        weekdayTranform.wkday_3 = 0\n",
    "        weekdayTranform.wkday_4 = 0\n",
    "        weekdayTranform.wkday_5 = 1\n",
    "        weekdayTranform.wkday_6 = 0\n",
    "    elif mydatetime.weekday() == 6:\n",
    "        weekdayTranform.wkday_0 = 0\n",
    "        weekdayTranform.wkday_1 = 0\n",
    "        weekdayTranform.wkday_2 = 0\n",
    "        weekdayTranform.wkday_3 = 0\n",
    "        weekdayTranform.wkday_4 = 0\n",
    "        weekdayTranform.wkday_5 = 0\n",
    "        weekdayTranform.wkday_6 = 1"
   ]
  },
  {
   "cell_type": "markdown",
   "metadata": {},
   "source": [
    "### Time of Day"
   ]
  },
  {
   "cell_type": "code",
   "execution_count": null,
   "metadata": {},
   "outputs": [],
   "source": [
    "def timeOfDayBucket(mydatetime):\n",
    "    if 23 <= mydatetime.hour:\n",
    "        timeOfDayBucket.tod_evening = 0\n",
    "        timeOfDayBucket.tod_midnight = 1\n",
    "        timeOfDayBucket.tod_morning = 0\n",
    "        timeOfDayBucket.tod_night = 0\n",
    "        timeOfDayBucket.tod_afternoon = 0\n",
    "        timeOfDayBucket.tod_early_morning = 0\n",
    "    if 0 <= mydatetime.hour < 2:\n",
    "        timeOfDayBucket.tod_evening = 0\n",
    "        timeOfDayBucket.tod_midnight = 1\n",
    "        timeOfDayBucket.tod_morning = 0\n",
    "        timeOfDayBucket.tod_night = 0\n",
    "        timeOfDayBucket.tod_afternoon = 0\n",
    "        timeOfDayBucket.tod_early_morning = 0\n",
    "    elif 2 <= mydatetime.hour < 5:\n",
    "        timeOfDayBucket.tod_evening = 0\n",
    "        timeOfDayBucket.tod_midnight = 0\n",
    "        timeOfDayBucket.tod_morning = 0\n",
    "        timeOfDayBucket.tod_night = 1\n",
    "        timeOfDayBucket.tod_afternoon = 0\n",
    "        timeOfDayBucket.tod_early_morning = 0\n",
    "    elif 5 <= mydatetime.hour < 8:\n",
    "        timeOfDayBucket.tod_evening = 0\n",
    "        timeOfDayBucket.tod_midnight = 0\n",
    "        timeOfDayBucket.tod_morning = 0\n",
    "        timeOfDayBucket.tod_night = 0\n",
    "        timeOfDayBucket.tod_afternoon = 0\n",
    "        timeOfDayBucket.tod_early_morning = 1\n",
    "    elif 8 <= mydatetime.hour < 11:\n",
    "        timeOfDayBucket.tod_evening = 0\n",
    "        timeOfDayBucket.tod_midnight = 0\n",
    "        timeOfDayBucket.tod_morning = 1\n",
    "        timeOfDayBucket.tod_night = 0\n",
    "        timeOfDayBucket.tod_afternoon = 0\n",
    "        timeOfDayBucket.tod_early_morning = 0\n",
    "    elif 11 <= mydatetime.hour < 14:\n",
    "        timeOfDayBucket.tod_evening = 0\n",
    "        timeOfDayBucket.tod_midnight = 0\n",
    "        timeOfDayBucket.tod_morning = 0\n",
    "        timeOfDayBucket.tod_night = 0\n",
    "        timeOfDayBucket.tod_afternoon = 1\n",
    "        timeOfDayBucket.tod_early_morning = 0\n",
    "    elif 14 <= mydatetime.hour < 17:\n",
    "        timeOfDayBucket.tod_evening = 0\n",
    "        timeOfDayBucket.tod_midnight = 0\n",
    "        timeOfDayBucket.tod_morning = 0\n",
    "        timeOfDayBucket.tod_night = 0\n",
    "        timeOfDayBucket.tod_afternoon = 1\n",
    "        timeOfDayBucket.tod_early_morning = 0\n",
    "    elif 17 <= mydatetime.hour < 20:\n",
    "        timeOfDayBucket.tod_evening = 1\n",
    "        timeOfDayBucket.tod_midnight = 0\n",
    "        timeOfDayBucket.tod_morning = 0\n",
    "        timeOfDayBucket.tod_night = 0\n",
    "        timeOfDayBucket.tod_afternoon = 0\n",
    "        timeOfDayBucket.tod_early_morning = 0\n",
    "    elif 20 <= mydatetime.hour < 23:\n",
    "        timeOfDayBucket.tod_evening = 0\n",
    "        timeOfDayBucket.tod_midnight = 0\n",
    "        timeOfDayBucket.tod_morning = 0\n",
    "        timeOfDayBucket.tod_night = 1\n",
    "        timeOfDayBucket.tod_afternoon = 0\n",
    "        timeOfDayBucket.tod_early_morning = 0"
   ]
  },
  {
   "cell_type": "markdown",
   "metadata": {},
   "source": [
    "#### Function to return transit recommendation"
   ]
  },
  {
   "cell_type": "code",
   "execution_count": null,
   "metadata": {},
   "outputs": [],
   "source": [
    "def transitOrLyft(predicted):\n",
    "    \n",
    "    if predicted >=4:\n",
    "        print('Take a Lyft!')\n",
    "        \n",
    "    else:\n",
    "        bus_options = pd.merge(df['BlockGroup'], df_bus, how='left',\n",
    "            left_on='BlockGroup', right_on='census_index')\n",
    "        rail_options = pd.merge(df['BlockGroup'], df_rail, how='left',\n",
    "            left_on='BlockGroup', right_on='census_index')\n",
    "        capitol_bike_share_options = pd.merge(df['BlockGroup'], df_cabi, how='left',\n",
    "            left_on='BlockGroup', right_on='census_index')\n",
    "        \n",
    "    print('Bus Options:')\n",
    "    \n",
    "    for index, row in bus_options.iterrows():\n",
    "        if(pd.isnull(row['Stop_Name'])):\n",
    "            print('No nearby bus options')\n",
    "        else:\n",
    "            print(row['Stop_Name'], row['Routes_Available'])\n",
    "    print(' ')        \n",
    "    print('Metro Rail Options:')\n",
    "    \n",
    "    for index, row in rail_options.iterrows():\n",
    "        if(pd.isnull(row['Description'])):\n",
    "           print('No nearby Metro Rail options')\n",
    "        else:\n",
    "           print(row['Description'], row['Station_Entrance'])\n",
    "        \n",
    "    print(' ')    \n",
    "    print('Capitol Bike Share Options:')\n",
    "    \n",
    "    for index, row in capitol_bike_share_options.iterrows():\n",
    "        if(pd.isnull(row['name'])):\n",
    "            print('No nearby Capitol Bike Share Options')\n",
    "        else:\n",
    "            print(row['name'])"
   ]
  },
  {
   "cell_type": "markdown",
   "metadata": {},
   "source": [
    "## Setting up widgets"
   ]
  },
  {
   "cell_type": "markdown",
   "metadata": {},
   "source": [
    "#### Address input widget"
   ]
  },
  {
   "cell_type": "code",
   "execution_count": null,
   "metadata": {},
   "outputs": [],
   "source": [
    "address = widgets.Text(\n",
    "    value='Ex: 640 Massachusetts Ave NW',\n",
    "    placeholder='',\n",
    "    description='Address: ',\n",
    "    disabled=False\n",
    ")"
   ]
  },
  {
   "cell_type": "markdown",
   "metadata": {},
   "source": [
    "#### Date input widget"
   ]
  },
  {
   "cell_type": "code",
   "execution_count": null,
   "metadata": {},
   "outputs": [],
   "source": [
    "date = widgets.DatePicker(\n",
    "    description='Pick a Date',\n",
    "    disabled=False\n",
    ")"
   ]
  },
  {
   "cell_type": "markdown",
   "metadata": {},
   "source": [
    "#### Time input widget"
   ]
  },
  {
   "cell_type": "code",
   "execution_count": null,
   "metadata": {},
   "outputs": [],
   "source": [
    "time = widgets.Dropdown(\n",
    "    options=['12:00', '12:30', '01:00', '01:30', '02:00', '02:30', '03:00',\n",
    "'03:30', '04:00', '04:30','05:00', '05:30', '06:00', '06:30', '07:00', '07:30', \n",
    "'08:00', '08:30', '09:00', '09:30', '10:00', '10:30', '11:00', '11:30'],\n",
    "    value='09:00',\n",
    "    description='Depart Time:',\n",
    "    disabled=False,\n",
    ")\n",
    "\n",
    "am_pm = widgets.Dropdown(\n",
    "    options=['AM','PM'],\n",
    "    value='AM',\n",
    "    description='AM or PM? ',\n",
    "    disabled=False,\n",
    ")"
   ]
  },
  {
   "cell_type": "markdown",
   "metadata": {},
   "source": [
    "# Inputs"
   ]
  },
  {
   "cell_type": "code",
   "execution_count": null,
   "metadata": {},
   "outputs": [],
   "source": [
    "address"
   ]
  },
  {
   "cell_type": "code",
   "execution_count": null,
   "metadata": {},
   "outputs": [],
   "source": [
    "date"
   ]
  },
  {
   "cell_type": "code",
   "execution_count": null,
   "metadata": {},
   "outputs": [],
   "source": [
    "HBox([time, am_pm])"
   ]
  },
  {
   "cell_type": "markdown",
   "metadata": {},
   "source": [
    "# Extract values from inputs"
   ]
  },
  {
   "cell_type": "code",
   "execution_count": null,
   "metadata": {},
   "outputs": [],
   "source": [
    "address_input = address.value + \", Washington, DC\"\n",
    "time_input = time.value\n",
    "am_pm_input = am_pm.value\n",
    "date_input = date.value"
   ]
  },
  {
   "cell_type": "markdown",
   "metadata": {},
   "source": [
    "# Call Functions"
   ]
  },
  {
   "cell_type": "markdown",
   "metadata": {},
   "source": [
    "#### Reformat date and time input"
   ]
  },
  {
   "cell_type": "code",
   "execution_count": null,
   "metadata": {},
   "outputs": [],
   "source": [
    "time_input_transformed = transformTimeInput(time_input,am_pm_input)\n",
    "time_24 = convert24(time_input_transformed)\n",
    "time_input_clean = datetime.datetime.strptime(time_24, '%H:%M:%S').time()\n",
    "mydatetime = datetime.datetime.combine(date_input, time_input_clean)\n",
    "date_time_input = mydatetime.isoformat()\n",
    "date_time_input"
   ]
  },
  {
   "cell_type": "markdown",
   "metadata": {},
   "source": [
    "#### Encode day of week and time of day buckets for modeling"
   ]
  },
  {
   "cell_type": "code",
   "execution_count": null,
   "metadata": {},
   "outputs": [],
   "source": [
    "weekdayTranform(mydatetime)"
   ]
  },
  {
   "cell_type": "code",
   "execution_count": null,
   "metadata": {},
   "outputs": [],
   "source": [
    "timeOfDayBucket(mydatetime)"
   ]
  },
  {
   "cell_type": "markdown",
   "metadata": {},
   "source": [
    "### Call API functions, print weather forecast to make sure it's working"
   ]
  },
  {
   "cell_type": "code",
   "execution_count": null,
   "metadata": {},
   "outputs": [],
   "source": [
    "addressLookup(address_input)\n",
    "darkSkyAPICall(addressLookup.lat,addressLookup.lon,date_time_input)"
   ]
  },
  {
   "cell_type": "markdown",
   "metadata": {},
   "source": [
    "## Modeling!"
   ]
  },
  {
   "cell_type": "markdown",
   "metadata": {},
   "source": [
    "### Set up dataframe of info for model input"
   ]
  },
  {
   "cell_type": "code",
   "execution_count": null,
   "metadata": {},
   "outputs": [],
   "source": [
    "list_values = [addressLookup.tract + addressLookup.block_group, darkSkyAPICall.precip_intensity,\n",
    "                   darkSkyAPICall.temp, darkSkyAPICall.uv_index, darkSkyAPICall.wind_speed,\n",
    "                   timeOfDayBucket.tod_evening, timeOfDayBucket.tod_midnight, \n",
    "                   timeOfDayBucket.tod_morning, timeOfDayBucket.tod_night, \n",
    "                   timeOfDayBucket.tod_afternoon, timeOfDayBucket.tod_early_morning,\n",
    "                   weekdayTranform.wkday_0, weekdayTranform.wkday_1, weekdayTranform.wkday_2, \n",
    "                   weekdayTranform.wkday_3, weekdayTranform.wkday_4, weekdayTranform.wkday_5, weekdayTranform.wkday_6]\n",
    "list_columns = ['BlockGroup', 'percip_intensity','temperature',\n",
    "                           'uv_index','wind_speed','tod_Evening','tod_Midnight',\n",
    "                           'tod_Morning','tod_Night','tod_Afternoon','tod_Early Morning',\n",
    "                           'wkday_0.0','wkday_1.0','wkday_2.0','wkday_3.0','wkday_4.0',\n",
    "                           'wkday_5.0','wkday_6.0']\n"
   ]
  },
  {
   "cell_type": "code",
   "execution_count": null,
   "metadata": {},
   "outputs": [],
   "source": [
    "df = pd.DataFrame([list_values],columns=list_columns)"
   ]
  },
  {
   "cell_type": "code",
   "execution_count": null,
   "metadata": {},
   "outputs": [],
   "source": [
    "df"
   ]
  },
  {
   "cell_type": "markdown",
   "metadata": {},
   "source": [
    "# Predict and return transit options"
   ]
  },
  {
   "cell_type": "code",
   "execution_count": null,
   "metadata": {},
   "outputs": [],
   "source": [
    "predicted = loaded_model.predict(df)"
   ]
  },
  {
   "cell_type": "code",
   "execution_count": null,
   "metadata": {},
   "outputs": [],
   "source": [
    "transitOrLyft(predicted)"
   ]
  }
 ],
 "metadata": {
  "kernelspec": {
   "display_name": "Python 3",
   "language": "python",
   "name": "python3"
  },
  "language_info": {
   "codemirror_mode": {
    "name": "ipython",
    "version": 3
   },
   "file_extension": ".py",
   "mimetype": "text/x-python",
   "name": "python",
   "nbconvert_exporter": "python",
   "pygments_lexer": "ipython3",
   "version": "3.6.8"
  }
 },
 "nbformat": 4,
 "nbformat_minor": 2
}
