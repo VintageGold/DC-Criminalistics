{
 "cells": [
  {
   "cell_type": "markdown",
   "metadata": {},
   "source": [
    "# DC Criminalistics: Transit Recommender"
   ]
  },
  {
   "cell_type": "markdown",
   "metadata": {},
   "source": [
    "## Imports"
   ]
  },
  {
   "cell_type": "code",
   "execution_count": 1,
   "metadata": {},
   "outputs": [],
   "source": [
    "import joblib\n",
    "import pickle\n",
    "import pandas as pd\n",
    "import numpy as np\n",
    "import datetime\n",
    "import requests\n",
    "import censusgeocode as cg\n",
    "import ipywidgets as widgets\n",
    "from ipywidgets import HBox, VBox\n",
    "pd.options.mode.chained_assignment = None"
   ]
  },
  {
   "cell_type": "markdown",
   "metadata": {},
   "source": [
    "## Import Transit data"
   ]
  },
  {
   "cell_type": "code",
   "execution_count": 2,
   "metadata": {},
   "outputs": [],
   "source": [
    "df_bus = pd.read_csv('../data/wmata-data/bus_station_data_full.csv')\n",
    "df_rail = pd.read_csv('../data/wmata-data/rail_station_data_full.csv')\n",
    "df_cabi = pd.read_csv('../data/cabi-station-data/cabi_station_data_full.csv')"
   ]
  },
  {
   "cell_type": "code",
   "execution_count": 3,
   "metadata": {},
   "outputs": [],
   "source": [
    "df_bus['census_index'] = df_bus['census_index'].apply(str)\n",
    "df_bus['census_index'] = df_bus['census_index'].apply(lambda x: x.zfill(7))\n",
    "\n",
    "df_rail['census_index'] = df_rail['census_index'].apply(str)\n",
    "df_rail['census_index'] = df_rail['census_index'].apply(lambda x: x.zfill(7))\n",
    "\n",
    "df_cabi['census_index'] = df_cabi['census_index'].apply(str)\n",
    "df_cabi['census_index'] = df_cabi['census_index'].apply(lambda x: x.zfill(7))"
   ]
  },
  {
   "cell_type": "markdown",
   "metadata": {},
   "source": [
    "## Load model, encoder, and scaler"
   ]
  },
  {
   "cell_type": "code",
   "execution_count": 4,
   "metadata": {},
   "outputs": [
    {
     "name": "stderr",
     "output_type": "stream",
     "text": [
      "/anaconda3/lib/python3.6/site-packages/sklearn/base.py:306: UserWarning: Trying to unpickle estimator DecisionTreeClassifier from version 0.21.0 when using version 0.21.2. This might lead to breaking code or invalid results. Use at your own risk.\n",
      "  UserWarning)\n",
      "/anaconda3/lib/python3.6/site-packages/sklearn/base.py:306: UserWarning: Trying to unpickle estimator BaggingClassifier from version 0.21.0 when using version 0.21.2. This might lead to breaking code or invalid results. Use at your own risk.\n",
      "  UserWarning)\n",
      "/anaconda3/lib/python3.6/site-packages/sklearn/base.py:306: UserWarning: Trying to unpickle estimator LabelEncoder from version 0.20.3 when using version 0.21.2. This might lead to breaking code or invalid results. Use at your own risk.\n",
      "  UserWarning)\n"
     ]
    }
   ],
   "source": [
    "filename = '../model/BaggingClassifier.sav'\n",
    "loaded_model = joblib.load(filename)\n",
    "\n",
    "bg_encoder_file = open('../model/bg_cat_encoder.sav','rb')\n",
    "bg_encoder = pickle.load(bg_encoder_file)\n",
    "bg_encoder_file.close()\n",
    "\n",
    "scaler_file = open('../model/scaler_final.sav','rb')\n",
    "scaler = pickle.load(scaler_file)\n",
    "scaler_file.close()"
   ]
  },
  {
   "cell_type": "markdown",
   "metadata": {},
   "source": [
    "## Defining Functions"
   ]
  },
  {
   "cell_type": "markdown",
   "metadata": {},
   "source": [
    "#### Geocode address and retrieve census tract and block"
   ]
  },
  {
   "cell_type": "code",
   "execution_count": 5,
   "metadata": {},
   "outputs": [],
   "source": [
    "def addressLookup(address_input):\n",
    "    address = cg.onelineaddress(address_input + \", Washington, DC\")\n",
    "\n",
    "    addressLookup.block_group = address[0]['geographies']['2010 Census Blocks'][0]['BLKGRP']\n",
    "    addressLookup.tract = address[0]['geographies']['2010 Census Blocks'][0]['TRACT']\n",
    "    addressLookup.lat = address[0]['coordinates']['y']\n",
    "    addressLookup.lon = address[0]['coordinates']['x']"
   ]
  },
  {
   "cell_type": "markdown",
   "metadata": {},
   "source": [
    "#### Retrieve weather data"
   ]
  },
  {
   "cell_type": "code",
   "execution_count": 203,
   "metadata": {},
   "outputs": [],
   "source": [
    "def darkSkyAPICall(lat,lon,date_time):\n",
    "\n",
    "    base_url = 'https://api.darksky.net/forecast/'\n",
    "    api_key = 'c9274e7c52c1a5b7e99be6f22db98855'\n",
    "    exclude = 'minutely, hourly, daily, flags'\n",
    "    params = {'exclude': exclude}\n",
    "\n",
    "    lat_address = lat\n",
    "    lon_address = lon\n",
    "\n",
    "    query = \"/{},{},{}\".format(lat_address,lon_address,date_time)\n",
    "\n",
    "    url = base_url + api_key + query\n",
    "\n",
    "    try:\n",
    "        response = requests.get(url, params=params)\n",
    "    except ConnectionError:\n",
    "        pass\n",
    "\n",
    "    try:\n",
    "        response_json = response.json()\n",
    "    except:\n",
    "        response_json = {}\n",
    "\n",
    "    darkSkyAPICall.summary = response_json['currently']['summary']\n",
    "    #darkSkyAPICall.precip_intensity = response_json['currently']['precipIntensity']\n",
    "    #darkSkyAPICall.precip_probability = response_json['currently']['precipProbability']\n",
    "    darkSkyAPICall.temp = response_json['currently']['temperature']\n",
    "    darkSkyAPICall.dewpoint = response_json['currently']['dewPoint']\n",
    "    darkSkyAPICall.humidity = response_json['currently']['humidity']\n",
    "    #darkSkyAPICall.pressure = response_json['currently']['pressure']\n",
    "    #darkSkyAPICall.wind_speed = response_json['currently']['windSpeed']\n",
    "    #darkSkyAPICall.wind_gust = response_json['currently']['windGust']\n",
    "    #darkSkyAPICall.wind_bearing = response_json['currently']['windBearing']\n",
    "    #darkSkyAPICall.cloud_cover = response_json['currently']['cloudCover']\n",
    "    darkSkyAPICall.uv_index = response_json['currently']['uvIndex']\n",
    "    #darkSkyAPICall.visibility = response_json['currently']['visibility']\n",
    "\n",
    "    weather = \"Summary: {} / Temp: {} \".format(darkSkyAPICall.summary, darkSkyAPICall.temp)\n",
    "    \n",
    "    #include print of weather to make sure all tests are working\n",
    "    \n",
    "    print(weather)"
   ]
  },
  {
   "cell_type": "markdown",
   "metadata": {},
   "source": [
    "#### Transforming user input date and time data"
   ]
  },
  {
   "cell_type": "code",
   "execution_count": 7,
   "metadata": {},
   "outputs": [],
   "source": [
    "def cleanDateTimeInput(date,time,am_pm):\n",
    "    time_transformed = time + ':00' + am_pm\n",
    "    \n",
    "    if time_transformed[-2:] == \"AM\" and time_transformed[:2] == \"12\": \n",
    "        cleanDateTimeInput.time24 = \"00\" + time_transformed[2:-2]  \n",
    "        \n",
    "    elif time_transformed[-2:] == \"AM\": \n",
    "        cleanDateTimeInput.time24 = time_transformed[:-2] \n",
    "    elif time_transformed[-2:] == \"PM\" and time_transformed[:2] == \"12\": \n",
    "        cleanDateTimeInput.time24 = time_transformed[:-2] \n",
    "    else: \n",
    "        cleanDateTimeInput.time24 = str(int(time_transformed[:2]) + 12) + time_transformed[2:8]\n",
    "\n",
    "    cleanDateTimeInput.time24_clean = datetime.datetime.strptime(cleanDateTimeInput.time24, '%H:%M:%S').time()\n",
    "    \n",
    "    cleanDateTimeInput.datetime_combined = datetime.datetime.combine(date, cleanDateTimeInput.time24_clean)\n",
    "    cleanDateTimeInput.date_time_clean = cleanDateTimeInput.datetime_combined.isoformat()\n",
    "    \n",
    "    return cleanDateTimeInput.date_time_clean\n",
    "    return cleanDateTimeInput.time24"
   ]
  },
  {
   "cell_type": "markdown",
   "metadata": {},
   "source": [
    "#### Categorize time of day into appropriate bucket"
   ]
  },
  {
   "cell_type": "code",
   "execution_count": 8,
   "metadata": {},
   "outputs": [],
   "source": [
    "def timeOfDayBucket(mydatetime):\n",
    "    if 23 <= mydatetime.hour:\n",
    "        timeOfDayBucket.tod_num = 8\n",
    "\n",
    "    if 0 <= mydatetime.hour < 2:\n",
    "        timeOfDayBucket.tod_num = 8\n",
    "\n",
    "    elif 2 <= mydatetime.hour < 5:\n",
    "        timeOfDayBucket.tod_num = 1\n",
    "\n",
    "    elif 5 <= mydatetime.hour < 8:\n",
    "        timeOfDayBucket.tod_num = 2\n",
    "        \n",
    "    elif 8 <= mydatetime.hour < 11:\n",
    "        timeOfDayBucket.tod_num = 3\n",
    "        \n",
    "    elif 11 <= mydatetime.hour < 14:\n",
    "        timeOfDayBucket.tod_num = 4\n",
    "        \n",
    "    elif 14 <= mydatetime.hour < 17:\n",
    "        timeOfDayBucket.tod_num = 5\n",
    "\n",
    "    elif 17 <= mydatetime.hour < 20:\n",
    "        timeOfDayBucket.tod_num = 6\n",
    "\n",
    "    elif 20 <= mydatetime.hour < 23:\n",
    "        timeOfDayBucket.tod_num = 7"
   ]
  },
  {
   "cell_type": "markdown",
   "metadata": {},
   "source": [
    "#### Function to return transit recommendation"
   ]
  },
  {
   "cell_type": "code",
   "execution_count": 342,
   "metadata": {},
   "outputs": [],
   "source": [
    "def transitOrLyft(predicted):\n",
    "    \n",
    "    if predicted == 'High' or predicted == 'Med-High':\n",
    "        print('Take a cab!')\n",
    "\n",
    "    else:\n",
    "        bus_options = pd.merge(df['BlockGroup'], df_bus, how='left',\n",
    "            left_on='BlockGroup', right_on='census_index')\n",
    "        rail_options = pd.merge(df['BlockGroup'], df_rail, how='left',\n",
    "            left_on='BlockGroup', right_on='census_index')\n",
    "        capitol_bike_share_options = pd.merge(df['BlockGroup'], df_cabi, how='left',\n",
    "            left_on='BlockGroup', right_on='census_index')\n",
    "        \n",
    "        print('Bus Options:')\n",
    "\n",
    "        for index, row in bus_options.iterrows():\n",
    "            if(pd.isnull(row['Stop_Name'])):\n",
    "                print('No nearby bus options')\n",
    "            else:\n",
    "                print(row['Stop_Name'], row['Routes_Available'])\n",
    "        print(' ')        \n",
    "        print('Metro Rail Options:')\n",
    "\n",
    "        for index, row in rail_options.iterrows():\n",
    "            if(pd.isnull(row['Description'])):\n",
    "               print('No nearby Metro Rail options')\n",
    "            else:\n",
    "               print(row['Description'], row['Station_Entrance'])\n",
    "\n",
    "        print(' ')    \n",
    "        print('Capitol Bike Share Options:')\n",
    "\n",
    "        for index, row in capitol_bike_share_options.iterrows():\n",
    "            if(pd.isnull(row['name'])):\n",
    "                print('No nearby Capitol Bike Share Options')\n",
    "            else:\n",
    "                print(row['name'])"
   ]
  },
  {
   "cell_type": "markdown",
   "metadata": {},
   "source": [
    "## Setting up widgets"
   ]
  },
  {
   "cell_type": "markdown",
   "metadata": {},
   "source": [
    "#### Address input widget"
   ]
  },
  {
   "cell_type": "code",
   "execution_count": 10,
   "metadata": {},
   "outputs": [],
   "source": [
    "address = widgets.Text(\n",
    "    value='Ex: 640 Massachusetts Ave NW',\n",
    "    placeholder='',\n",
    "    description='Address: ',\n",
    "    disabled=False\n",
    ")\n",
    "\n",
    "date = widgets.DatePicker(\n",
    "    description='Pick a Date',\n",
    "    disabled=False\n",
    ")\n",
    "\n",
    "time = widgets.Dropdown(\n",
    "    options=['12:00', '12:30', '01:00', '01:30', '02:00', '02:30', '03:00',\n",
    "'03:30', '04:00', '04:30','05:00', '05:30', '06:00', '06:30', '07:00', '07:30', \n",
    "'08:00', '08:30', '09:00', '09:30', '10:00', '10:30', '11:00', '11:30'],\n",
    "    value='09:00',\n",
    "    description='Depart Time:',\n",
    "    disabled=False,\n",
    ")\n",
    "\n",
    "am_pm = widgets.Dropdown(\n",
    "    options=['AM','PM'],\n",
    "    value='AM',\n",
    "    description='AM or PM? ',\n",
    "    disabled=False,\n",
    ")"
   ]
  },
  {
   "cell_type": "markdown",
   "metadata": {},
   "source": [
    "# User Inputs"
   ]
  },
  {
   "cell_type": "code",
   "execution_count": 336,
   "metadata": {},
   "outputs": [
    {
     "data": {
      "application/vnd.jupyter.widget-view+json": {
       "model_id": "7390f36ca584460385db488b0e670488",
       "version_major": 2,
       "version_minor": 0
      },
      "text/plain": [
       "Text(value='2450 18th st nw', description='Address: ', placeholder='')"
      ]
     },
     "metadata": {},
     "output_type": "display_data"
    }
   ],
   "source": [
    "address"
   ]
  },
  {
   "cell_type": "code",
   "execution_count": 337,
   "metadata": {},
   "outputs": [
    {
     "data": {
      "application/vnd.jupyter.widget-view+json": {
       "model_id": "5622b51ca56349e187902dff129dc68c",
       "version_major": 2,
       "version_minor": 0
      },
      "text/plain": [
       "DatePicker(value=datetime.date(2019, 6, 15), description='Pick a Date')"
      ]
     },
     "metadata": {},
     "output_type": "display_data"
    }
   ],
   "source": [
    "date"
   ]
  },
  {
   "cell_type": "code",
   "execution_count": 338,
   "metadata": {},
   "outputs": [
    {
     "data": {
      "application/vnd.jupyter.widget-view+json": {
       "model_id": "45a9c1292b72402994506456246754fc",
       "version_major": 2,
       "version_minor": 0
      },
      "text/plain": [
       "HBox(children=(Dropdown(description='Depart Time:', index=20, options=('12:00', '12:30', '01:00', '01:30', '02…"
      ]
     },
     "metadata": {},
     "output_type": "display_data"
    }
   ],
   "source": [
    "HBox([time, am_pm])"
   ]
  },
  {
   "cell_type": "markdown",
   "metadata": {},
   "source": [
    "## Clean\n",
    "## Return travel recommendation"
   ]
  },
  {
   "cell_type": "code",
   "execution_count": 343,
   "metadata": {},
   "outputs": [
    {
     "name": "stdout",
     "output_type": "stream",
     "text": [
      "Summary: Partly Cloudy / Temp: 76.01 \n"
     ]
    }
   ],
   "source": [
    "cleanDateTimeInput(date.value,time.value,am_pm.value)\n",
    "\n",
    "addressLookup(address.value)\n",
    "darkSkyAPICall(addressLookup.lat,addressLookup.lon,cleanDateTimeInput.date_time_clean)\n",
    "\n",
    "timeOfDayBucket(cleanDateTimeInput.time24_clean)\n",
    "\n",
    "weekday = cleanDateTimeInput.datetime_combined.weekday()\n",
    "day = cleanDateTimeInput.datetime_combined.day\n",
    "month = cleanDateTimeInput.datetime_combined.month"
   ]
  },
  {
   "cell_type": "code",
   "execution_count": 344,
   "metadata": {},
   "outputs": [
    {
     "name": "stdout",
     "output_type": "stream",
     "text": [
      "Take a cab!\n"
     ]
    }
   ],
   "source": [
    "tract_input = addressLookup.tract.rjust(6, '0')\n",
    "block_group_input = addressLookup.block_group\n",
    "block_group = addressLookup.tract + addressLookup.block_group\n",
    "bg_cat = tract_input + ' ' + block_group_input\n",
    "\n",
    "list_values = [bg_cat, weekday, timeOfDayBucket.tod_num, darkSkyAPICall.uv_index, \n",
    "               darkSkyAPICall.temp, day, block_group]\n",
    "list_columns = ['bg_cat', 'weekday', 'tod_num', 'uv_index',\n",
    "                'temperature', 'day', 'BlockGroup']\n",
    "\n",
    "df = pd.DataFrame([list_values],columns=list_columns)\n",
    "\n",
    "df_modeling = df[['bg_cat', 'weekday', 'tod_num', 'uv_index',\n",
    "                'temperature', 'day']]\n",
    "\n",
    "df_modeling['bg_cat'] = bg_encoder.transform(df_modeling['bg_cat'])\n",
    "\n",
    "scaled_df = scaler.transform(df_modeling)\n",
    "\n",
    "predicted = loaded_model.predict(scaled_df)\n",
    "\n",
    "transitOrLyft(predicted)"
   ]
  }
 ],
 "metadata": {
  "kernelspec": {
   "display_name": "Python 3",
   "language": "python",
   "name": "python3"
  },
  "language_info": {
   "codemirror_mode": {
    "name": "ipython",
    "version": 3
   },
   "file_extension": ".py",
   "mimetype": "text/x-python",
   "name": "python",
   "nbconvert_exporter": "python",
   "pygments_lexer": "ipython3",
   "version": "3.6.8"
  }
 },
 "nbformat": 4,
 "nbformat_minor": 2
}
