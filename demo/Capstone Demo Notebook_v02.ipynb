{
 "cells": [
  {
   "cell_type": "markdown",
   "metadata": {},
   "source": [
    "## Transit Recommender Demo Notebook"
   ]
  },
  {
   "cell_type": "markdown",
   "metadata": {},
   "source": [
    "# Imports"
   ]
  },
  {
   "cell_type": "code",
   "execution_count": 1,
   "metadata": {},
   "outputs": [],
   "source": [
    "import joblib\n",
    "import pickle\n",
    "import pandas as pd\n",
    "import numpy as np\n",
    "import datetime\n",
    "import requests\n",
    "import censusgeocode as cg\n",
    "import ipywidgets as widgets\n",
    "from ipywidgets import HBox, VBox\n",
    "import s"
   ]
  },
  {
   "cell_type": "markdown",
   "metadata": {},
   "source": [
    "# Import Transit data"
   ]
  },
  {
   "cell_type": "code",
   "execution_count": 2,
   "metadata": {},
   "outputs": [],
   "source": [
    "df_bus = pd.read_csv('../data/wmata-data/bus_station_data_full.csv')\n",
    "df_rail = pd.read_csv('../data/wmata-data/rail_station_data_full.csv')\n",
    "df_cabi = pd.read_csv('../data/cabi-station-data/cabi_station_data_full.csv')"
   ]
  },
  {
   "cell_type": "code",
   "execution_count": 3,
   "metadata": {},
   "outputs": [],
   "source": [
    "df_bus['census_index'] = df_bus['census_index'].apply(str)\n",
    "df_bus['census_index'] = df_bus['census_index'].apply(lambda x: x.zfill(7))\n",
    "\n",
    "df_rail['census_index'] = df_rail['census_index'].apply(str)\n",
    "df_rail['census_index'] = df_rail['census_index'].apply(lambda x: x.zfill(7))\n",
    "\n",
    "df_cabi['census_index'] = df_cabi['census_index'].apply(str)\n",
    "df_cabi['census_index'] = df_cabi['census_index'].apply(lambda x: x.zfill(7))"
   ]
  },
  {
   "cell_type": "markdown",
   "metadata": {},
   "source": [
    "# Load model"
   ]
  },
  {
   "cell_type": "code",
   "execution_count": 88,
   "metadata": {},
   "outputs": [],
   "source": [
    "filename = '../JobLib/BaggingClassifier.sav'\n",
    "loaded_model = joblib.load(filename)"
   ]
  },
  {
   "cell_type": "markdown",
   "metadata": {},
   "source": [
    "# Load encoder and scaler"
   ]
  },
  {
   "cell_type": "code",
   "execution_count": 8,
   "metadata": {},
   "outputs": [],
   "source": [
    "bg_encoder_file = open('../FeaturesModels/bg_cat_encoder_2.sav','rb')\n",
    "bg_encoder = pickle.load(bg_encoder_file)\n",
    "bg_encoder_file.close()"
   ]
  },
  {
   "cell_type": "code",
   "execution_count": 63,
   "metadata": {},
   "outputs": [],
   "source": [
    "scaler_file = open('../FeaturesModels/scaler_3.sav','rb')\n",
    "scaler = pickle.load(scaler_file)\n",
    "scaler_file.close()"
   ]
  },
  {
   "cell_type": "code",
   "execution_count": 11,
   "metadata": {},
   "outputs": [
    {
     "data": {
      "text/plain": [
       "LabelEncoder()"
      ]
     },
     "execution_count": 11,
     "metadata": {},
     "output_type": "execute_result"
    }
   ],
   "source": [
    "bg_encoder"
   ]
  },
  {
   "cell_type": "code",
   "execution_count": 64,
   "metadata": {},
   "outputs": [
    {
     "data": {
      "text/plain": [
       "StandardScaler(copy=True, with_mean=True, with_std=True)"
      ]
     },
     "execution_count": 64,
     "metadata": {},
     "output_type": "execute_result"
    }
   ],
   "source": [
    "scaler"
   ]
  },
  {
   "cell_type": "markdown",
   "metadata": {},
   "source": [
    "# Defining Functions"
   ]
  },
  {
   "cell_type": "markdown",
   "metadata": {},
   "source": [
    "#### Geocode address and return census information"
   ]
  },
  {
   "cell_type": "code",
   "execution_count": 13,
   "metadata": {},
   "outputs": [],
   "source": [
    "def addressLookup(address_input):\n",
    "    address = cg.onelineaddress(address_input)\n",
    "\n",
    "    addressLookup.block_group = address[0]['geographies']['2010 Census Blocks'][0]['BLKGRP']\n",
    "    addressLookup.tract = address[0]['geographies']['2010 Census Blocks'][0]['TRACT']\n",
    "    addressLookup.lat = address[0]['coordinates']['y']\n",
    "    addressLookup.lon = address[0]['coordinates']['x']"
   ]
  },
  {
   "cell_type": "markdown",
   "metadata": {},
   "source": [
    "#### Gather weather information"
   ]
  },
  {
   "cell_type": "code",
   "execution_count": 14,
   "metadata": {},
   "outputs": [],
   "source": [
    "def darkSkyAPICall(lat,lon,date_time):\n",
    "\n",
    "    base_url = 'https://api.darksky.net/forecast/'\n",
    "    api_key = 'c9274e7c52c1a5b7e99be6f22db98855'\n",
    "    exclude = 'minutely, hourly, daily, flags'\n",
    "    params = {'exclude': exclude}\n",
    "\n",
    "    lat_address = lat\n",
    "    lon_address = lon\n",
    "\n",
    "    query = \"/{},{}\".format(lat_address,lon_address,date_time)\n",
    "\n",
    "    url = base_url + api_key + query\n",
    "\n",
    "    try:\n",
    "        response = requests.get(url, params=params)\n",
    "    except ConnectionError:\n",
    "        pass\n",
    "\n",
    "    try:\n",
    "        response_json = response.json()\n",
    "    except:\n",
    "        response_json = {}\n",
    "\n",
    "    darkSkyAPICall.summary = response_json['currently']['summary']\n",
    "    darkSkyAPICall.precip_intensity = response_json['currently']['precipIntensity']\n",
    "    darkSkyAPICall.precip_probability = response_json['currently']['precipProbability']\n",
    "    darkSkyAPICall.temp = response_json['currently']['temperature']\n",
    "    darkSkyAPICall.dewpoint = response_json['currently']['dewPoint']\n",
    "    darkSkyAPICall.humidity = response_json['currently']['humidity']\n",
    "    darkSkyAPICall.pressure = response_json['currently']['pressure']\n",
    "    darkSkyAPICall.wind_speed = response_json['currently']['windSpeed']\n",
    "    darkSkyAPICall.wind_gust = response_json['currently']['windGust']\n",
    "    darkSkyAPICall.wind_bearing = response_json['currently']['windBearing']\n",
    "    darkSkyAPICall.cloud_cover = response_json['currently']['cloudCover']\n",
    "    darkSkyAPICall.uv_index = response_json['currently']['uvIndex']\n",
    "    darkSkyAPICall.visibility = response_json['currently']['visibility']\n",
    "\n",
    "    weather = \"Summary: {}\".format(darkSkyAPICall.summary)\n",
    "    \n",
    "    #include print of weather to make sure all tests are working\n",
    "    \n",
    "    print(weather)"
   ]
  },
  {
   "cell_type": "markdown",
   "metadata": {},
   "source": [
    "#### Transforming user input date and time data"
   ]
  },
  {
   "cell_type": "code",
   "execution_count": 17,
   "metadata": {},
   "outputs": [],
   "source": [
    "def transformTimeInput(time,am_pm):\n",
    "    time_transformed = time + ':00' + am_pm\n",
    "    return time_transformed\n",
    "\n",
    "def convert24(time): \n",
    "    if time[-2:] == \"AM\" and time[:2] == \"12\": \n",
    "        return \"00\" + time[2:-2]    \n",
    "    elif time[-2:] == \"AM\": \n",
    "        return time[:-2] \n",
    "    elif time[-2:] == \"PM\" and time[:2] == \"12\": \n",
    "        return time[:-2] \n",
    "    else: \n",
    "        return str(int(time[:2]) + 12) + time[2:8] "
   ]
  },
  {
   "cell_type": "markdown",
   "metadata": {},
   "source": [
    "#### Transform day of week"
   ]
  },
  {
   "cell_type": "code",
   "execution_count": 18,
   "metadata": {},
   "outputs": [],
   "source": [
    "def weekdayTranform(mydatetime):\n",
    "    if mydatetime.weekday() == 0:\n",
    "        weekdayTranform.wkday_0 = 1\n",
    "        weekdayTranform.wkday_1 = 0\n",
    "        weekdayTranform.wkday_2 = 0\n",
    "        weekdayTranform.wkday_3 = 0\n",
    "        weekdayTranform.wkday_4 = 0\n",
    "        weekdayTranform.wkday_5 = 0\n",
    "        weekdayTranform.wkday_6 = 0"
   ]
  },
  {
   "cell_type": "markdown",
   "metadata": {},
   "source": [
    "### Time of Day"
   ]
  },
  {
   "cell_type": "code",
   "execution_count": 19,
   "metadata": {},
   "outputs": [],
   "source": [
    "def timeOfDayBucket(mydatetime):\n",
    "    if 23 <= mydatetime.hour:\n",
    "        timeOfDayBucket.tod_num = 8\n",
    "\n",
    "    if 0 <= mydatetime.hour < 2:\n",
    "        timeOfDayBucket.tod_num = 8\n",
    "\n",
    "    elif 2 <= mydatetime.hour < 5:\n",
    "        timeOfDayBucket.tod_num = 1\n",
    "\n",
    "    elif 5 <= mydatetime.hour < 8:\n",
    "        timeOfDayBucket.tod_num = 2\n",
    "        \n",
    "    elif 8 <= mydatetime.hour < 11:\n",
    "        timeOfDayBucket.tod_num = 3\n",
    "        \n",
    "    elif 11 <= mydatetime.hour < 14:\n",
    "        timeOfDayBucket.tod_num = 4\n",
    "        \n",
    "    elif 14 <= mydatetime.hour < 17:\n",
    "        timeOfDayBucket.tod_num = 5\n",
    "\n",
    "    elif 17 <= mydatetime.hour < 20:\n",
    "        timeOfDayBucket.tod_num = 6\n",
    "\n",
    "    elif 20 <= mydatetime.hour < 23:\n",
    "        timeOfDayBucket.tod_num = 7"
   ]
  },
  {
   "cell_type": "markdown",
   "metadata": {},
   "source": [
    "#### Function to return transit recommendation"
   ]
  },
  {
   "cell_type": "code",
   "execution_count": 135,
   "metadata": {},
   "outputs": [],
   "source": [
    "def transitOrLyft(predicted):\n",
    "    \n",
    "    if predicted == 'High' or predicted == 'Med-High':\n",
    "        print('Take a Lyft!')\n",
    "\n",
    "    else:\n",
    "        bus_options = pd.merge(df['BlockGroup'], df_bus, how='left',\n",
    "            left_on='BlockGroup', right_on='census_index')\n",
    "        rail_options = pd.merge(df['BlockGroup'], df_rail, how='left',\n",
    "            left_on='BlockGroup', right_on='census_index')\n",
    "        capitol_bike_share_options = pd.merge(df['BlockGroup'], df_cabi, how='left',\n",
    "            left_on='BlockGroup', right_on='census_index')\n",
    "        \n",
    "        print('Bus Options:')\n",
    "\n",
    "        for index, row in bus_options.iterrows():\n",
    "            if(pd.isnull(row['Stop_Name'])):\n",
    "                print('No nearby bus options')\n",
    "            else:\n",
    "                print(row['Stop_Name'], row['Routes_Available'])\n",
    "        print(' ')        \n",
    "        print('Metro Rail Options:')\n",
    "\n",
    "        for index, row in rail_options.iterrows():\n",
    "            if(pd.isnull(row['Description'])):\n",
    "               print('No nearby Metro Rail options')\n",
    "            else:\n",
    "               print(row['Description'], row['Station_Entrance'])\n",
    "\n",
    "        print(' ')    \n",
    "        print('Capitol Bike Share Options:')\n",
    "\n",
    "        for index, row in capitol_bike_share_options.iterrows():\n",
    "            if(pd.isnull(row['name'])):\n",
    "                print('No nearby Capitol Bike Share Options')\n",
    "            else:\n",
    "                print(row['name'])"
   ]
  },
  {
   "cell_type": "markdown",
   "metadata": {},
   "source": [
    "## Setting up widgets"
   ]
  },
  {
   "cell_type": "markdown",
   "metadata": {},
   "source": [
    "#### Address input widget"
   ]
  },
  {
   "cell_type": "code",
   "execution_count": 21,
   "metadata": {},
   "outputs": [],
   "source": [
    "address = widgets.Text(\n",
    "    value='Ex: 640 Massachusetts Ave NW',\n",
    "    placeholder='',\n",
    "    description='Address: ',\n",
    "    disabled=False\n",
    ")"
   ]
  },
  {
   "cell_type": "markdown",
   "metadata": {},
   "source": [
    "#### Date input widget"
   ]
  },
  {
   "cell_type": "code",
   "execution_count": 22,
   "metadata": {},
   "outputs": [],
   "source": [
    "date = widgets.DatePicker(\n",
    "    description='Pick a Date',\n",
    "    disabled=False\n",
    ")"
   ]
  },
  {
   "cell_type": "markdown",
   "metadata": {},
   "source": [
    "#### Time input widget"
   ]
  },
  {
   "cell_type": "code",
   "execution_count": 23,
   "metadata": {},
   "outputs": [],
   "source": [
    "time = widgets.Dropdown(\n",
    "    options=['12:00', '12:30', '01:00', '01:30', '02:00', '02:30', '03:00',\n",
    "'03:30', '04:00', '04:30','05:00', '05:30', '06:00', '06:30', '07:00', '07:30', \n",
    "'08:00', '08:30', '09:00', '09:30', '10:00', '10:30', '11:00', '11:30'],\n",
    "    value='09:00',\n",
    "    description='Depart Time:',\n",
    "    disabled=False,\n",
    ")\n",
    "\n",
    "am_pm = widgets.Dropdown(\n",
    "    options=['AM','PM'],\n",
    "    value='AM',\n",
    "    description='AM or PM? ',\n",
    "    disabled=False,\n",
    ")"
   ]
  },
  {
   "cell_type": "markdown",
   "metadata": {},
   "source": [
    "# Inputs"
   ]
  },
  {
   "cell_type": "code",
   "execution_count": 25,
   "metadata": {},
   "outputs": [
    {
     "data": {
      "application/vnd.jupyter.widget-view+json": {
       "model_id": "53c5299da5404abcb3a02a582955f4e9",
       "version_major": 2,
       "version_minor": 0
      },
      "text/plain": [
       "Text(value='4120 14th st NW', description='Address: ', placeholder='')"
      ]
     },
     "metadata": {},
     "output_type": "display_data"
    }
   ],
   "source": [
    "address"
   ]
  },
  {
   "cell_type": "code",
   "execution_count": 27,
   "metadata": {},
   "outputs": [
    {
     "data": {
      "application/vnd.jupyter.widget-view+json": {
       "model_id": "03d549e81d884a2398a4d5388fb0e98f",
       "version_major": 2,
       "version_minor": 0
      },
      "text/plain": [
       "DatePicker(value=datetime.date(2019, 6, 14), description='Pick a Date')"
      ]
     },
     "metadata": {},
     "output_type": "display_data"
    }
   ],
   "source": [
    "date"
   ]
  },
  {
   "cell_type": "code",
   "execution_count": 29,
   "metadata": {},
   "outputs": [
    {
     "data": {
      "application/vnd.jupyter.widget-view+json": {
       "model_id": "d6460eb0419d475d8f0269f82e022b6b",
       "version_major": 2,
       "version_minor": 0
      },
      "text/plain": [
       "HBox(children=(Dropdown(description='Depart Time:', index=18, options=('12:00', '12:30', '01:00', '01:30', '02…"
      ]
     },
     "metadata": {},
     "output_type": "display_data"
    }
   ],
   "source": [
    "HBox([time, am_pm])"
   ]
  },
  {
   "cell_type": "markdown",
   "metadata": {},
   "source": [
    "# Extract values from inputs"
   ]
  },
  {
   "cell_type": "code",
   "execution_count": 30,
   "metadata": {},
   "outputs": [],
   "source": [
    "address_input = address.value + \", Washington, DC\"\n",
    "time_input = time.value\n",
    "am_pm_input = am_pm.value\n",
    "date_input = date.value"
   ]
  },
  {
   "cell_type": "markdown",
   "metadata": {},
   "source": [
    "# Call Functions"
   ]
  },
  {
   "cell_type": "markdown",
   "metadata": {},
   "source": [
    "#### Reformat date and time input"
   ]
  },
  {
   "cell_type": "code",
   "execution_count": 31,
   "metadata": {},
   "outputs": [
    {
     "data": {
      "text/plain": [
       "'2019-06-14T21:00:00'"
      ]
     },
     "execution_count": 31,
     "metadata": {},
     "output_type": "execute_result"
    }
   ],
   "source": [
    "time_input_transformed = transformTimeInput(time_input,am_pm_input)\n",
    "time_24 = convert24(time_input_transformed)\n",
    "time_input_clean = datetime.datetime.strptime(time_24, '%H:%M:%S').time()\n",
    "mydatetime = datetime.datetime.combine(date_input, time_input_clean)\n",
    "date_time_input = mydatetime.isoformat()\n",
    "date_time_input"
   ]
  },
  {
   "cell_type": "markdown",
   "metadata": {},
   "source": [
    "#### Encode day of week and time of day buckets for modeling"
   ]
  },
  {
   "cell_type": "code",
   "execution_count": 32,
   "metadata": {},
   "outputs": [
    {
     "data": {
      "text/plain": [
       "4"
      ]
     },
     "execution_count": 32,
     "metadata": {},
     "output_type": "execute_result"
    }
   ],
   "source": [
    "weekday = mydatetime.weekday()\n",
    "weekday"
   ]
  },
  {
   "cell_type": "code",
   "execution_count": 33,
   "metadata": {},
   "outputs": [
    {
     "data": {
      "text/plain": [
       "14"
      ]
     },
     "execution_count": 33,
     "metadata": {},
     "output_type": "execute_result"
    }
   ],
   "source": [
    "day = mydatetime.day\n",
    "day"
   ]
  },
  {
   "cell_type": "code",
   "execution_count": 34,
   "metadata": {},
   "outputs": [
    {
     "data": {
      "text/plain": [
       "6"
      ]
     },
     "execution_count": 34,
     "metadata": {},
     "output_type": "execute_result"
    }
   ],
   "source": [
    "month = mydatetime.month\n",
    "month"
   ]
  },
  {
   "cell_type": "code",
   "execution_count": 35,
   "metadata": {},
   "outputs": [],
   "source": [
    "timeOfDayBucket(mydatetime)"
   ]
  },
  {
   "cell_type": "markdown",
   "metadata": {},
   "source": [
    "### Call API functions, print weather forecast to make sure it's working"
   ]
  },
  {
   "cell_type": "code",
   "execution_count": 36,
   "metadata": {},
   "outputs": [
    {
     "name": "stdout",
     "output_type": "stream",
     "text": [
      "Summary: Partly Cloudy\n"
     ]
    }
   ],
   "source": [
    "addressLookup(address_input)\n",
    "darkSkyAPICall(addressLookup.lat,addressLookup.lon,date_time_input)"
   ]
  },
  {
   "cell_type": "markdown",
   "metadata": {},
   "source": [
    "## Modeling!"
   ]
  },
  {
   "cell_type": "markdown",
   "metadata": {},
   "source": [
    "### Reformat Block Group for encoding"
   ]
  },
  {
   "cell_type": "code",
   "execution_count": 95,
   "metadata": {},
   "outputs": [
    {
     "data": {
      "text/plain": [
       "'002502 4'"
      ]
     },
     "execution_count": 95,
     "metadata": {},
     "output_type": "execute_result"
    }
   ],
   "source": [
    "tract_input = addressLookup.tract.rjust(6, '0')\n",
    "block_group_input = addressLookup.block_group\n",
    "block_group = addressLookup.tract + addressLookup.block_group\n",
    "bg_cat = tract_input + ' ' + block_group_input\n",
    "bg_cat"
   ]
  },
  {
   "cell_type": "markdown",
   "metadata": {},
   "source": [
    "### In progress: Set up dataframe of info for model input, encode and transform"
   ]
  },
  {
   "cell_type": "code",
   "execution_count": 113,
   "metadata": {},
   "outputs": [],
   "source": [
    "list_values = [month, day, timeOfDayBucket.tod_num, darkSkyAPICall.humidity,\n",
    "      darkSkyAPICall.temp, darkSkyAPICall.uv_index, weekday, bg_cat, block_group]"
   ]
  },
  {
   "cell_type": "code",
   "execution_count": 114,
   "metadata": {},
   "outputs": [],
   "source": [
    "list_columns = ['month', 'day', 'tod_num', 'humidity', 'temperature', 'uv_index', \n",
    "                     'weekday', 'bg_cat','BlockGroup']"
   ]
  },
  {
   "cell_type": "code",
   "execution_count": 115,
   "metadata": {},
   "outputs": [],
   "source": [
    "df = pd.DataFrame([list_values],columns=list_columns)"
   ]
  },
  {
   "cell_type": "code",
   "execution_count": 116,
   "metadata": {},
   "outputs": [],
   "source": [
    "df_modeling = df[['month', 'day', 'tod_num', 'humidity', 'temperature', 'uv_index', \n",
    "                     'weekday', 'bg_cat']]"
   ]
  },
  {
   "cell_type": "code",
   "execution_count": 117,
   "metadata": {},
   "outputs": [
    {
     "data": {
      "text/html": [
       "<div>\n",
       "<style scoped>\n",
       "    .dataframe tbody tr th:only-of-type {\n",
       "        vertical-align: middle;\n",
       "    }\n",
       "\n",
       "    .dataframe tbody tr th {\n",
       "        vertical-align: top;\n",
       "    }\n",
       "\n",
       "    .dataframe thead th {\n",
       "        text-align: right;\n",
       "    }\n",
       "</style>\n",
       "<table border=\"1\" class=\"dataframe\">\n",
       "  <thead>\n",
       "    <tr style=\"text-align: right;\">\n",
       "      <th></th>\n",
       "      <th>month</th>\n",
       "      <th>day</th>\n",
       "      <th>tod_num</th>\n",
       "      <th>humidity</th>\n",
       "      <th>temperature</th>\n",
       "      <th>uv_index</th>\n",
       "      <th>weekday</th>\n",
       "      <th>bg_cat</th>\n",
       "    </tr>\n",
       "  </thead>\n",
       "  <tbody>\n",
       "    <tr>\n",
       "      <th>0</th>\n",
       "      <td>6</td>\n",
       "      <td>14</td>\n",
       "      <td>7</td>\n",
       "      <td>0.51</td>\n",
       "      <td>66.32</td>\n",
       "      <td>4</td>\n",
       "      <td>4</td>\n",
       "      <td>002502 4</td>\n",
       "    </tr>\n",
       "  </tbody>\n",
       "</table>\n",
       "</div>"
      ],
      "text/plain": [
       "   month  day  tod_num  humidity  temperature  uv_index  weekday    bg_cat\n",
       "0      6   14        7      0.51        66.32         4        4  002502 4"
      ]
     },
     "execution_count": 117,
     "metadata": {},
     "output_type": "execute_result"
    }
   ],
   "source": [
    "df_modeling"
   ]
  },
  {
   "cell_type": "code",
   "execution_count": 118,
   "metadata": {},
   "outputs": [
    {
     "name": "stderr",
     "output_type": "stream",
     "text": [
      "/anaconda3/lib/python3.6/site-packages/ipykernel_launcher.py:1: SettingWithCopyWarning: \n",
      "A value is trying to be set on a copy of a slice from a DataFrame.\n",
      "Try using .loc[row_indexer,col_indexer] = value instead\n",
      "\n",
      "See the caveats in the documentation: http://pandas.pydata.org/pandas-docs/stable/indexing.html#indexing-view-versus-copy\n",
      "  \"\"\"Entry point for launching an IPython kernel.\n"
     ]
    }
   ],
   "source": [
    "df_modeling['bg_cat'] = bg_encoder.transform(df_modeling['bg_cat'])"
   ]
  },
  {
   "cell_type": "code",
   "execution_count": 119,
   "metadata": {},
   "outputs": [
    {
     "data": {
      "text/html": [
       "<div>\n",
       "<style scoped>\n",
       "    .dataframe tbody tr th:only-of-type {\n",
       "        vertical-align: middle;\n",
       "    }\n",
       "\n",
       "    .dataframe tbody tr th {\n",
       "        vertical-align: top;\n",
       "    }\n",
       "\n",
       "    .dataframe thead th {\n",
       "        text-align: right;\n",
       "    }\n",
       "</style>\n",
       "<table border=\"1\" class=\"dataframe\">\n",
       "  <thead>\n",
       "    <tr style=\"text-align: right;\">\n",
       "      <th></th>\n",
       "      <th>month</th>\n",
       "      <th>day</th>\n",
       "      <th>tod_num</th>\n",
       "      <th>humidity</th>\n",
       "      <th>temperature</th>\n",
       "      <th>uv_index</th>\n",
       "      <th>weekday</th>\n",
       "      <th>bg_cat</th>\n",
       "    </tr>\n",
       "  </thead>\n",
       "  <tbody>\n",
       "    <tr>\n",
       "      <th>0</th>\n",
       "      <td>6</td>\n",
       "      <td>14</td>\n",
       "      <td>7</td>\n",
       "      <td>0.51</td>\n",
       "      <td>66.32</td>\n",
       "      <td>4</td>\n",
       "      <td>4</td>\n",
       "      <td>125</td>\n",
       "    </tr>\n",
       "  </tbody>\n",
       "</table>\n",
       "</div>"
      ],
      "text/plain": [
       "   month  day  tod_num  humidity  temperature  uv_index  weekday  bg_cat\n",
       "0      6   14        7      0.51        66.32         4        4     125"
      ]
     },
     "execution_count": 119,
     "metadata": {},
     "output_type": "execute_result"
    }
   ],
   "source": [
    "df_modeling"
   ]
  },
  {
   "cell_type": "code",
   "execution_count": 120,
   "metadata": {},
   "outputs": [],
   "source": [
    "scaled_df = scaler.transform(df_modeling)"
   ]
  },
  {
   "cell_type": "code",
   "execution_count": 121,
   "metadata": {},
   "outputs": [
    {
     "data": {
      "text/plain": [
       "array([[-0.1990505 , -0.22192035,  1.02848007, -0.75935701,  0.34399307,\n",
       "         0.99531307,  0.49785785, -0.99027067]])"
      ]
     },
     "execution_count": 121,
     "metadata": {},
     "output_type": "execute_result"
    }
   ],
   "source": [
    "scaled_df"
   ]
  },
  {
   "cell_type": "markdown",
   "metadata": {},
   "source": [
    "# Predict and return transit options"
   ]
  },
  {
   "cell_type": "code",
   "execution_count": 123,
   "metadata": {},
   "outputs": [],
   "source": [
    "predicted = loaded_model.predict(df_modeling)"
   ]
  },
  {
   "cell_type": "code",
   "execution_count": 136,
   "metadata": {},
   "outputs": [
    {
     "name": "stdout",
     "output_type": "stream",
     "text": [
      "Take a Lyft!\n"
     ]
    }
   ],
   "source": [
    "transitOrLyft(predicted)"
   ]
  },
  {
   "cell_type": "code",
   "execution_count": null,
   "metadata": {},
   "outputs": [],
   "source": []
  }
 ],
 "metadata": {
  "kernelspec": {
   "display_name": "Python 3",
   "language": "python",
   "name": "python3"
  },
  "language_info": {
   "codemirror_mode": {
    "name": "ipython",
    "version": 3
   },
   "file_extension": ".py",
   "mimetype": "text/x-python",
   "name": "python",
   "nbconvert_exporter": "python",
   "pygments_lexer": "ipython3",
   "version": "3.6.8"
  }
 },
 "nbformat": 4,
 "nbformat_minor": 2
}
