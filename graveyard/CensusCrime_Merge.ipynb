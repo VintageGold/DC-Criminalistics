{
 "cells": [
  {
   "cell_type": "code",
   "execution_count": 8,
   "metadata": {},
   "outputs": [],
   "source": [
    "import pandas as pd\n",
    "pd.set_option('display.max_columns', 100)"
   ]
  },
  {
   "cell_type": "code",
   "execution_count": 9,
   "metadata": {},
   "outputs": [],
   "source": [
    "crimeData = pd.read_csv('dc-crime-data.csv')\n",
    "censusData = pd.read_csv('FinalBlockGroupData.csv')"
   ]
  },
  {
   "cell_type": "code",
   "execution_count": 11,
   "metadata": {},
   "outputs": [],
   "source": [
    "censusData[(censusData['TotalPop'] < 0)] = censusData['TotalPop'].mean()\n",
    "censusData[(censusData['TPopMargin'] < 0)] = censusData['TPopMargin'].mean()\n",
    "censusData[(censusData['UnWgtSampleCtPop'] < 0)] = censusData['UnWgtSampleCtPop'].mean()\n",
    "censusData[(censusData['PerCapitaIncome'] < 0)] = censusData['PerCapitaIncome'].mean()\n",
    "censusData[(censusData['PerCapIncMargin'] < 0)] = censusData['PerCapIncMargin'].mean()\n",
    "censusData[(censusData['MedianHouseholdInc'] < 0)] = censusData['MedianHouseholdInc'].mean()\n",
    "censusData[(censusData['MedHouseholdIncMargin'] < 0)] = censusData['MedHouseholdIncMargin'].mean()\n",
    "censusData[(censusData['MedianAge'] < 0)] = censusData['MedianAge'].mean()\n",
    "censusData[(censusData['MedianAgeMargin'] < 0)] = censusData['MedianAgeMargin'].mean()\n",
    "censusData[(censusData['HousingUnits'] < 0)] = censusData['HousingUnits'].mean()\n",
    "censusData[(censusData['HousingUnitsMargin'] < 0)] = censusData['HousingUnitsMargin'].mean()\n",
    "censusData[(censusData['UnweightedSampleHousingUnits'] < 0)] = censusData['UnweightedSampleHousingUnits'].mean()"
   ]
  },
  {
   "cell_type": "code",
   "execution_count": 12,
   "metadata": {
    "scrolled": true
   },
   "outputs": [],
   "source": [
    "censusData.fillna(censusData.mean())\n",
    "del censusData['Unnamed: 0']\n",
    "censusData['BlockGroup'] = censusData['BlockGroup'] = censusData['BlockGroup'].astype(str).replace(']]', '', regex=True)"
   ]
  },
  {
   "cell_type": "code",
   "execution_count": 13,
   "metadata": {},
   "outputs": [],
   "source": [
    "censusData['Tract'] = censusData['Tract'].astype(str).replace('\\.0', '', regex=True)\n",
    "censusData['Tract'] = censusData['Tract'].apply(lambda x: x.zfill(6))\n",
    "censusData['BlockGroup'] = censusData['BlockGroup'].astype(str).replace('\\.0', '', regex=True)\n",
    "censusData['Year'] = censusData['Year'].astype(str).replace('\\.0', '', regex=True)\n",
    "crimeData['YEAR'] = crimeData['YEAR'].astype(str)\n",
    "crimeData['BLOCK_GROUP'] = crimeData['BLOCK_GROUP'].astype(str)"
   ]
  },
  {
   "cell_type": "code",
   "execution_count": 14,
   "metadata": {},
   "outputs": [],
   "source": [
    "censusData['index'] = censusData['Tract'] + \" \" + censusData['BlockGroup'] + \" \" + censusData['Year']\n",
    "crimeData['index'] = crimeData['BLOCK_GROUP'] + \" \" + crimeData['YEAR']"
   ]
  },
  {
   "cell_type": "code",
   "execution_count": 19,
   "metadata": {},
   "outputs": [],
   "source": [
    "df_merge = crimeData.merge(censusData.drop_duplicates(subset=['index']), how='left', on='index', indicator=True)"
   ]
  }
 ],
 "metadata": {
  "kernelspec": {
   "display_name": "Python 3",
   "language": "python",
   "name": "python3"
  },
  "language_info": {
   "codemirror_mode": {
    "name": "ipython",
    "version": 3
   },
   "file_extension": ".py",
   "mimetype": "text/x-python",
   "name": "python",
   "nbconvert_exporter": "python",
   "pygments_lexer": "ipython3",
   "version": "3.6.8"
  }
 },
 "nbformat": 4,
 "nbformat_minor": 2
}
