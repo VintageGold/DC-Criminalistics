{
 "cells": [
  {
   "cell_type": "markdown",
   "metadata": {},
   "source": [
    "# Dark Skies API\n",
    "\n",
    "This program pulls weather data associated with a specified latitude, longtiude, and time."
   ]
  },
  {
   "cell_type": "markdown",
   "metadata": {},
   "source": [
    "## Basic API Pull"
   ]
  },
  {
   "cell_type": "markdown",
   "metadata": {},
   "source": [
    "### Import Libraries"
   ]
  },
  {
   "cell_type": "code",
   "execution_count": 1,
   "metadata": {},
   "outputs": [],
   "source": [
    "import requests\n",
    "import json\n",
    "import pandas as pd\n",
    "import datetime\n",
    "import numpy as np"
   ]
  },
  {
   "cell_type": "markdown",
   "metadata": {},
   "source": [
    "### Setup Input Statements\n",
    "\n",
    "1. Set API key.\n",
    "2. Latitude, longtidue, datetime.\n",
    "3. Options, such as exclusions of data.\n",
    "\n",
    "<b>API Key Notes</b>:<br>\n",
    "The API key is personal and each user must get their own. This could be an imposed limitation if we allow users to change the underlying crime data. However, if we have the totality of crime data that we need for the analysis, then we can run the API once and store the results on a \"database\" (terms of service for storing data?).\n",
    "\n",
    "<b>Input Arguments</b>:<br>\n",
    "The basic input arguments, besides the API key, are latitude/longtitude (location) and the date and time. I chose to call weather data for 3/2/2019 at 5:30:00 PM.\n",
    "\n",
    "Notice that the date and time format has \"T\" in it. This is particular to the API request and the final function that will perform this call will not require the user to acknowledge this.\n",
    "\n",
    "<b>Parameters to URL</b>:<br>\n",
    "The request library's <code>params</code> function makes applying the available options to the final URL. I included the <code>exclude</code> option with the arguments <code>minutely, hourly, alerts</code> to keep it manageable for exploratory purposes.\n",
    "\n",
    "<b>URL Construction</b>:</br>\n",
    "The final URL is constructed as a concatenation of the base URL provided by the API documentation, the API key, the input arguments, and the parameters."
   ]
  },
  {
   "cell_type": "code",
   "execution_count": 2,
   "metadata": {},
   "outputs": [],
   "source": [
    "base_url = 'https://api.darksky.net/forecast/'\n",
    "\n",
    "api_key = ''\n",
    "longitude = '38.930267'\n",
    "latitude = '-77.032745'\n",
    "datetime = '2019-03-02T17:30:00'\n",
    "\n",
    "exclude = 'minutely, hourly, alerts'\n",
    "params = {'exclude': exclude}\n",
    "\n",
    "url = base_url + api_key + '/' + longitude + ',' + latitude + ',' + datetime"
   ]
  },
  {
   "cell_type": "markdown",
   "metadata": {},
   "source": [
    "### Request Data from API\n",
    "\n",
    "Generally, looking for repsonse 200."
   ]
  },
  {
   "cell_type": "code",
   "execution_count": 3,
   "metadata": {},
   "outputs": [
    {
     "data": {
      "text/plain": [
       "<Response [200]>"
      ]
     },
     "execution_count": 3,
     "metadata": {},
     "output_type": "execute_result"
    }
   ],
   "source": [
    "response = requests.get(url, params=params)\n",
    "response"
   ]
  },
  {
   "cell_type": "markdown",
   "metadata": {},
   "source": [
    "### Convert to JSON Object"
   ]
  },
  {
   "cell_type": "code",
   "execution_count": 4,
   "metadata": {
    "scrolled": true
   },
   "outputs": [
    {
     "data": {
      "text/plain": [
       "{'latitude': 38.930267,\n",
       " 'longitude': -77.032745,\n",
       " 'timezone': 'America/New_York',\n",
       " 'currently': {'time': 1551565800,\n",
       "  'summary': 'Partly Cloudy',\n",
       "  'icon': 'partly-cloudy-day',\n",
       "  'precipIntensity': 0,\n",
       "  'precipProbability': 0,\n",
       "  'temperature': 44.69,\n",
       "  'apparentTemperature': 42.57,\n",
       "  'dewPoint': 34.22,\n",
       "  'humidity': 0.66,\n",
       "  'pressure': 1018.63,\n",
       "  'windSpeed': 4.2,\n",
       "  'windGust': 6.3,\n",
       "  'windBearing': 321,\n",
       "  'cloudCover': 0.52,\n",
       "  'uvIndex': 0,\n",
       "  'visibility': 8.39,\n",
       "  'ozone': 351.31},\n",
       " 'daily': {'data': [{'time': 1551502800,\n",
       "    'summary': 'Mostly cloudy throughout the day.',\n",
       "    'icon': 'partly-cloudy-day',\n",
       "    'sunriseTime': 1551526834,\n",
       "    'sunsetTime': 1551567771,\n",
       "    'moonPhase': 0.88,\n",
       "    'precipIntensity': 0.0009,\n",
       "    'precipIntensityMax': 0.0101,\n",
       "    'precipIntensityMaxTime': 1551502800,\n",
       "    'precipProbability': 0.74,\n",
       "    'precipType': 'rain',\n",
       "    'temperatureHigh': 45.05,\n",
       "    'temperatureHighTime': 1551564000,\n",
       "    'temperatureLow': 40.25,\n",
       "    'temperatureLowTime': 1551618000,\n",
       "    'apparentTemperatureHigh': 42.82,\n",
       "    'apparentTemperatureHighTime': 1551567600,\n",
       "    'apparentTemperatureLow': 39.75,\n",
       "    'apparentTemperatureLowTime': 1551610800,\n",
       "    'dewPoint': 33.45,\n",
       "    'humidity': 0.81,\n",
       "    'pressure': 1019.08,\n",
       "    'windSpeed': 3.79,\n",
       "    'windGust': 9.63,\n",
       "    'windGustTime': 1551546000,\n",
       "    'windBearing': 323,\n",
       "    'cloudCover': 0.92,\n",
       "    'uvIndex': 3,\n",
       "    'uvIndexTime': 1551546000,\n",
       "    'visibility': 6.46,\n",
       "    'ozone': 349.6,\n",
       "    'temperatureMin': 33.99,\n",
       "    'temperatureMinTime': 1551528000,\n",
       "    'temperatureMax': 45.05,\n",
       "    'temperatureMaxTime': 1551564000,\n",
       "    'apparentTemperatureMin': 30.22,\n",
       "    'apparentTemperatureMinTime': 1551517200,\n",
       "    'apparentTemperatureMax': 43.5,\n",
       "    'apparentTemperatureMaxTime': 1551582000}]},\n",
       " 'flags': {'sources': ['cmc',\n",
       "   'gfs',\n",
       "   'hrrr',\n",
       "   'icon',\n",
       "   'isd',\n",
       "   'madis',\n",
       "   'nam',\n",
       "   'sref'],\n",
       "  'nearest-station': 1.202,\n",
       "  'units': 'us'},\n",
       " 'offset': -5}"
      ]
     },
     "execution_count": 4,
     "metadata": {},
     "output_type": "execute_result"
    }
   ],
   "source": [
    "response_json = json.loads(response.text)\n",
    "response_json"
   ]
  },
  {
   "cell_type": "markdown",
   "metadata": {},
   "source": [
    "### Convert to Pandas DataFrame Object\n",
    "\n",
    "Here we can choose to keep certain data pieces to define our <i>instance</i>.\n",
    "\n",
    "1. Time\n",
    "2. Latitude\n",
    "3. Longitude\n",
    "4. Timezone\n",
    "5. Temperature (observed)\n",
    "6. Apparent Temperatures (feels like)\n",
    "7. Humidity\n",
    "8. Cloud Cover"
   ]
  },
  {
   "cell_type": "code",
   "execution_count": 5,
   "metadata": {},
   "outputs": [
    {
     "name": "stdout",
     "output_type": "stream",
     "text": [
      "1551565800 38.930267 -77.032745 America/New_York 44.69 42.57 0.66 0.52\n"
     ]
    }
   ],
   "source": [
    "time = response_json['currently']['time']\n",
    "latitude = response_json['latitude']\n",
    "longitude = response_json['longitude']\n",
    "timezone = response_json['timezone']\n",
    "temp_obs = response_json['currently']['temperature']\n",
    "temp_fl = response_json['currently']['apparentTemperature']\n",
    "humidity = response_json['currently']['humidity']\n",
    "cloud_cover = response_json['currently']['cloudCover']\n",
    "\n",
    "print(time,latitude,longitude,timezone,temp_obs,temp_fl,humidity,cloud_cover)"
   ]
  },
  {
   "cell_type": "code",
   "execution_count": 6,
   "metadata": {},
   "outputs": [
    {
     "data": {
      "text/html": [
       "<div>\n",
       "<style scoped>\n",
       "    .dataframe tbody tr th:only-of-type {\n",
       "        vertical-align: middle;\n",
       "    }\n",
       "\n",
       "    .dataframe tbody tr th {\n",
       "        vertical-align: top;\n",
       "    }\n",
       "\n",
       "    .dataframe thead th {\n",
       "        text-align: right;\n",
       "    }\n",
       "</style>\n",
       "<table border=\"1\" class=\"dataframe\">\n",
       "  <thead>\n",
       "    <tr style=\"text-align: right;\">\n",
       "      <th></th>\n",
       "      <th>time</th>\n",
       "      <th>latitude</th>\n",
       "      <th>longitude</th>\n",
       "      <th>timezone</th>\n",
       "      <th>temp_obs</th>\n",
       "      <th>temp_fl</th>\n",
       "      <th>humidity</th>\n",
       "      <th>cloud_cover</th>\n",
       "    </tr>\n",
       "  </thead>\n",
       "  <tbody>\n",
       "    <tr>\n",
       "      <th>0</th>\n",
       "      <td>1551565800</td>\n",
       "      <td>38.930267</td>\n",
       "      <td>-77.032745</td>\n",
       "      <td>America/New_York</td>\n",
       "      <td>44.69</td>\n",
       "      <td>42.57</td>\n",
       "      <td>0.66</td>\n",
       "      <td>0.52</td>\n",
       "    </tr>\n",
       "  </tbody>\n",
       "</table>\n",
       "</div>"
      ],
      "text/plain": [
       "         time   latitude  longitude          timezone  temp_obs  temp_fl  \\\n",
       "0  1551565800  38.930267 -77.032745  America/New_York     44.69    42.57   \n",
       "\n",
       "   humidity  cloud_cover  \n",
       "0      0.66         0.52  "
      ]
     },
     "execution_count": 6,
     "metadata": {},
     "output_type": "execute_result"
    }
   ],
   "source": [
    "level = pd.DataFrame(data=[[time,latitude,longitude,timezone,temp_obs,temp_fl,humidity,cloud_cover]],\n",
    "                     columns= ['time','latitude','longitude','timezone','temp_obs','temp_fl','humidity','cloud_cover'])\n",
    "\n",
    "level"
   ]
  },
  {
   "cell_type": "markdown",
   "metadata": {},
   "source": [
    "## Calculate Average Temperature\n",
    "\n",
    "It is likely we will also want the average hourly temperature for the day as well. This could be done before the data is stored in the DataFrame object."
   ]
  },
  {
   "cell_type": "code",
   "execution_count": 7,
   "metadata": {},
   "outputs": [],
   "source": [
    "#Construct and Request data just as I did above.\n",
    "base_url = 'https://api.darksky.net/forecast/'\n",
    "\n",
    "api_key = ''\n",
    "longitude = '38.930267'\n",
    "latitude = '-77.032745'\n",
    "datetime = '2019-03-02T17:30:00'\n",
    "\n",
    "exclude = 'minutely, alerts'\n",
    "params = {'exclude': exclude}\n",
    "\n",
    "url = base_url + api_key + '/' + longitude + ',' + latitude + ',' + datetime\n",
    "\n",
    "#Convert to JSON as above.\n",
    "response = requests.get(url, params=params)\n",
    "response_json = json.loads(response.text)\n",
    "\n",
    "#This time though, keep only the hourly data from the response.\n",
    "hourly_data = response_json['hourly']['data']"
   ]
  },
  {
   "cell_type": "code",
   "execution_count": 9,
   "metadata": {},
   "outputs": [
    {
     "data": {
      "text/plain": [
       "36.55083333333334"
      ]
     },
     "execution_count": 9,
     "metadata": {},
     "output_type": "execute_result"
    }
   ],
   "source": [
    "#Calculate hourly temp for 3/2/2019.\n",
    "hourly_temp = []\n",
    "for index, element in enumerate(hourly_data):\n",
    "    hourly_temp.append(hourly_data[index]['apparentTemperature'])\n",
    "    \n",
    "np.mean(hourly_temp)"
   ]
  }
 ],
 "metadata": {
  "hide_input": false,
  "kernelspec": {
   "display_name": "Python 3",
   "language": "python",
   "name": "python3"
  },
  "language_info": {
   "codemirror_mode": {
    "name": "ipython",
    "version": 3
   },
   "file_extension": ".py",
   "mimetype": "text/x-python",
   "name": "python",
   "nbconvert_exporter": "python",
   "pygments_lexer": "ipython3",
   "version": "3.6.8"
  }
 },
 "nbformat": 4,
 "nbformat_minor": 2
}
